{
 "cells": [
  {
   "cell_type": "code",
   "execution_count": 4,
   "id": "2321d022-3f60-417a-8de8-c349ed80b3db",
   "metadata": {},
   "outputs": [],
   "source": [
    "from torch_geometric.datasets import Coauthor\n",
    "from torch_geometric.transforms import NormalizeFeatures"
   ]
  },
  {
   "cell_type": "code",
   "execution_count": 9,
   "id": "90c65576-9f6c-4095-80c4-2ab6d4e81450",
   "metadata": {},
   "outputs": [
    {
     "name": "stdout",
     "output_type": "stream",
     "text": [
      "Downloading https://github.com/shchur/gnn-benchmark/raw/master/data/npz/ms_academic_cs.npz\n",
      "Processing...\n",
      "Done!\n"
     ]
    }
   ],
   "source": [
    "dataset = Coauthor(root='./dataset/Coauthor', name='CS', transform=NormalizeFeatures())"
   ]
  },
  {
   "cell_type": "code",
   "execution_count": 11,
   "id": "d4716931-6b56-4041-b19a-a959eccf7d23",
   "metadata": {},
   "outputs": [],
   "source": [
    "import torch"
   ]
  },
  {
   "cell_type": "code",
   "execution_count": 13,
   "id": "5caf26f7-0858-4590-861e-80ae85a0499a",
   "metadata": {},
   "outputs": [],
   "source": [
    "def describe_dataset(dataset):\n",
    "    print()\n",
    "    print(f'Dataset: {dataset}:')\n",
    "    print('======================')\n",
    "    print(f'Number of graphs: {len(dataset)}')\n",
    "    print(f'Number of features: {dataset.num_features}')\n",
    "    print(f'Number of classes: {dataset.num_classes}')\n",
    "\n",
    "    print()\n",
    "    print(data)\n",
    "    print('======================')\n",
    "\n",
    "    # Gather some statistics about the graph.\n",
    "    print(f'Number of nodes: {data.num_nodes}')\n",
    "    print(f'Number of edges: {data.num_edges}')\n",
    "    print(f'Average node degree: {data.num_edges / data.num_nodes:.2f}')\n",
    "    print(f'Number of training nodes: {data.train_mask.sum()}')\n",
    "    print(f'Training node label rate: {int(data.train_mask.sum()) / data.num_nodes:.2f}')\n",
    "    print(f'Contains isolated nodes: {data.contains_isolated_nodes()}')\n",
    "    print(f'Contains self-loops: {data.contains_self_loops()}')\n",
    "    print(f'Is undirected: {data.is_undirected()}')"
   ]
  },
  {
   "cell_type": "code",
   "execution_count": 16,
   "id": "89c46b6f-6c10-4929-aa80-8c59b8280b03",
   "metadata": {},
   "outputs": [
    {
     "name": "stdout",
     "output_type": "stream",
     "text": [
      "\n",
      "Dataset: CoauthorCS():\n",
      "======================\n",
      "Number of graphs: 1\n",
      "Number of features: 6805\n",
      "Number of classes: 15\n",
      "\n",
      "Data(edge_index=[2, 163788], test_mask=[18333], train_mask=[18333], x=[18333, 6805], y=[18333])\n",
      "======================\n",
      "Number of nodes: 18333\n",
      "Number of edges: 163788\n",
      "Average node degree: 8.93\n",
      "Number of training nodes: 9227\n",
      "Training node label rate: 0.50\n",
      "Contains isolated nodes: False\n",
      "Contains self-loops: False\n",
      "Is undirected: True\n"
     ]
    }
   ],
   "source": [
    "from torch_geometric.datasets import Coauthor\n",
    "from torch_geometric.transforms import NormalizeFeatures\n",
    "\n",
    "dataset = Coauthor(root='dataset/CS', name='CS', transform=NormalizeFeatures())\n",
    "\n",
    "data = dataset[0]  \n",
    "data.train_mask= torch.randn(data.num_nodes)>0\n",
    "data.test_mask = (data.train_mask == False)\n",
    "describe_dataset(dataset)"
   ]
  },
  {
   "cell_type": "code",
   "execution_count": 23,
   "id": "b8439ad6-00fa-4ded-98fe-03482425c2b0",
   "metadata": {},
   "outputs": [
    {
     "name": "stdout",
     "output_type": "stream",
     "text": [
      "Downloading https://data.dgl.ai/dataset/ppi.zip\n",
      "Extracting dataset/PPI/ppi.zip\n",
      "Processing...\n",
      "Done!\n",
      "\n",
      "Dataset: PPI(20):\n",
      "======================\n",
      "Number of graphs: 20\n",
      "Number of features: 50\n",
      "Number of classes: 121\n",
      "\n",
      "Data(edge_index=[2, 32318], test_mask=[1767], train_mask=[1767], x=[1767, 50], y=[1767, 121])\n",
      "======================\n",
      "Number of nodes: 1767\n",
      "Number of edges: 32318\n",
      "Average node degree: 18.29\n",
      "Number of training nodes: 880\n",
      "Training node label rate: 0.50\n",
      "Contains isolated nodes: True\n",
      "Contains self-loops: False\n",
      "Is undirected: True\n"
     ]
    }
   ],
   "source": [
    "from torch_geometric.datasets import PPI\n",
    "from torch_geometric.transforms import NormalizeFeatures\n",
    "\n",
    "dataset = PPI(root='dataset/PPI',transform=NormalizeFeatures())\n",
    "\n",
    "data = dataset[0]  \n",
    "data.train_mask= torch.randn(data.num_nodes)>0\n",
    "data.test_mask = (data.train_mask == False)\n",
    "describe_dataset(dataset)"
   ]
  },
  {
   "cell_type": "code",
   "execution_count": 22,
   "id": "a7732a77-63f6-42c8-a56d-69bb2d908fa5",
   "metadata": {},
   "outputs": [
    {
     "name": "stdout",
     "output_type": "stream",
     "text": [
      "The protein-protein interaction networks from the `\"Predicting\n",
      "    Multicellular Function through Multi-layer Tissue Networks\"\n",
      "    <https://arxiv.org/abs/1707.04638>`_ paper, containing positional gene\n",
      "    sets, motif gene sets and immunological signatures as features (50 in\n",
      "    total) and gene ontology sets as labels (121 in total).\n",
      "\n",
      "    Args:\n",
      "        root (string): Root directory where the dataset should be saved.\n",
      "        split (string): If :obj:`\"train\"`, loads the training dataset.\n",
      "            If :obj:`\"val\"`, loads the validation dataset.\n",
      "            If :obj:`\"test\"`, loads the test dataset. (default: :obj:`\"train\"`)\n",
      "        transform (callable, optional): A function/transform that takes in an\n",
      "            :obj:`torch_geometric.data.Data` object and returns a transformed\n",
      "            version. The data object will be transformed before every access.\n",
      "            (default: :obj:`None`)\n",
      "        pre_transform (callable, optional): A function/transform that takes in\n",
      "            an :obj:`torch_geometric.data.Data` object and returns a\n",
      "            transformed version. The data object will be transformed before\n",
      "            being saved to disk. (default: :obj:`None`)\n",
      "        pre_filter (callable, optional): A function that takes in an\n",
      "            :obj:`torch_geometric.data.Data` object and returns a boolean\n",
      "            value, indicating whether the data object should be included in the\n",
      "            final dataset. (default: :obj:`None`)\n",
      "    \n"
     ]
    }
   ],
   "source": [
    "print(PPI.__doc__)"
   ]
  },
  {
   "cell_type": "code",
   "execution_count": 2,
   "id": "6a10d20e-4472-47bd-87bd-6262d50b9d15",
   "metadata": {},
   "outputs": [
    {
     "ename": "ImportError",
     "evalue": "cannot import name 'PlanetoidPubMed' from 'torch_geometric.datasets' (/root/miniconda3/lib/python3.8/site-packages/torch_geometric/datasets/__init__.py)",
     "output_type": "error",
     "traceback": [
      "\u001b[0;31m---------------------------------------------------------------------------\u001b[0m",
      "\u001b[0;31mImportError\u001b[0m                               Traceback (most recent call last)",
      "\u001b[0;32m<ipython-input-2-b6b84c558103>\u001b[0m in \u001b[0;36m<module>\u001b[0;34m\u001b[0m\n\u001b[0;32m----> 1\u001b[0;31m \u001b[0;32mfrom\u001b[0m \u001b[0mtorch_geometric\u001b[0m\u001b[0;34m.\u001b[0m\u001b[0mdatasets\u001b[0m \u001b[0;32mimport\u001b[0m \u001b[0mPlanetoidPubMed\u001b[0m\u001b[0;34m\u001b[0m\u001b[0;34m\u001b[0m\u001b[0m\n\u001b[0m\u001b[1;32m      2\u001b[0m \u001b[0;32mfrom\u001b[0m \u001b[0mtorch_geometric\u001b[0m\u001b[0;34m.\u001b[0m\u001b[0mtransforms\u001b[0m \u001b[0;32mimport\u001b[0m \u001b[0mNormalizeFeatures\u001b[0m\u001b[0;34m\u001b[0m\u001b[0;34m\u001b[0m\u001b[0m\n\u001b[1;32m      3\u001b[0m \u001b[0;34m\u001b[0m\u001b[0m\n\u001b[1;32m      4\u001b[0m \u001b[0mdataset\u001b[0m \u001b[0;34m=\u001b[0m \u001b[0mPlanetoidPubMed\u001b[0m\u001b[0;34m(\u001b[0m\u001b[0mroot\u001b[0m\u001b[0;34m=\u001b[0m\u001b[0;34m'dataset/Pubmed'\u001b[0m\u001b[0;34m,\u001b[0m\u001b[0mtransform\u001b[0m\u001b[0;34m=\u001b[0m\u001b[0mNormalizeFeatures\u001b[0m\u001b[0;34m(\u001b[0m\u001b[0;34m)\u001b[0m\u001b[0;34m)\u001b[0m\u001b[0;34m\u001b[0m\u001b[0;34m\u001b[0m\u001b[0m\n\u001b[1;32m      5\u001b[0m \u001b[0;34m\u001b[0m\u001b[0m\n",
      "\u001b[0;31mImportError\u001b[0m: cannot import name 'PlanetoidPubMed' from 'torch_geometric.datasets' (/root/miniconda3/lib/python3.8/site-packages/torch_geometric/datasets/__init__.py)"
     ]
    }
   ],
   "source": [
    "from torch_geometric.datasets import PlanetoidPubMed\n",
    "from torch_geometric.transforms import NormalizeFeatures\n",
    "\n",
    "dataset = PlanetoidPubMed(root='dataset/Pubmed',transform=NormalizeFeatures())\n",
    "\n",
    "data = dataset[0]  \n",
    "data.train_mask= torch.randn(data.num_nodes)>0\n",
    "data.test_mask = (data.train_mask == False)\n",
    "describe_dataset(dataset)"
   ]
  },
  {
   "cell_type": "code",
   "execution_count": 3,
   "id": "eb9ca9eb-e689-4fba-8d75-4392bb81e0a8",
   "metadata": {},
   "outputs": [
    {
     "name": "stdout",
     "output_type": "stream",
     "text": [
      "\u001b[0m\u001b[01;31mreddit.zip\u001b[0m\n"
     ]
    }
   ],
   "source": [
    "ls ../dataset/Reddit/raw"
   ]
  },
  {
   "cell_type": "code",
   "execution_count": null,
   "id": "86d084c4-c551-46a2-b15f-59c2f69197bd",
   "metadata": {},
   "outputs": [],
   "source": []
  }
 ],
 "metadata": {
  "kernelspec": {
   "display_name": "Python 3",
   "language": "python",
   "name": "python3"
  },
  "language_info": {
   "codemirror_mode": {
    "name": "ipython",
    "version": 3
   },
   "file_extension": ".py",
   "mimetype": "text/x-python",
   "name": "python",
   "nbconvert_exporter": "python",
   "pygments_lexer": "ipython3",
   "version": "3.8.5"
  }
 },
 "nbformat": 4,
 "nbformat_minor": 5
}
