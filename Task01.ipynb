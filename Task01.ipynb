{
 "cells": [
  {
   "cell_type": "markdown",
   "id": "54d251ad-0748-468f-8db0-fd95dbac5aa5",
   "metadata": {},
   "source": [
    "# 作业"
   ]
  },
  {
   "cell_type": "markdown",
   "id": "e92b0494-72d5-450d-9546-656911324322",
   "metadata": {},
   "source": [
    "请通过继承`Data`类实现一个类，专门用于表示“机构-作者-论文”的网络。该网络包含“机构“、”作者“和”论文”三类节点，以及“作者-机构“和“作者-论文“两类边。对要实现的类的要求：1）用不同的属性存储不同节点的属性；2）用不同的属性存储不同的边（边没有属性）；3）逐一实现获取不同节点数量的方法。"
   ]
  },
  {
   "cell_type": "code",
   "execution_count": 9,
   "id": "08b618e4-d401-42da-a70c-bf3e5d5614ad",
   "metadata": {},
   "outputs": [],
   "source": [
    "class Data:\n",
    "    \n",
    "    def __init__(self, x=None, edge_index=None, edge_attr=None, y=None, **kwargs):\n",
    "        r\"\"\"\n",
    "        Args:\n",
    "            x (Tensor, optional): 节点属性矩阵，大小为`[num_nodes, num_node_features]`\n",
    "            edge_index (LongTensor, optional): 边索引矩阵，大小为`[2, num_edges]`，第0行为 尾节点，第1行为头节点，头指向尾\n",
    "            edge_attr (Tensor, optional): 边属性矩阵，大小为`[num_edges, num_edge_features]`\n",
    "            y (Tensor, optional): 节点或图的标签，任意大小(，其实也可以是边的标签)\n",
    "        \"\"\"\n",
    "        self.x = x\n",
    "        self.edge_index = edge_index\n",
    "        self.edge_attr = edge_attr\n",
    "        self.y = y\n",
    "        for key, item in kwargs.items():\n",
    "            if key == 'num_nodes':\n",
    "                self.__num_nodes__ = item\n",
    "            else:\n",
    "                self[key] = item\n",
    "                \n",
    "class MyData(Data):\n",
    "    def __init__(self, node_paper=None, node_institute=None, node_author=None,\n",
    "                 edge_index_author_institute=None,edge_index_paper_author=None,y=None):  \n",
    "        super(MyData,self).__init__(y=y)  \n",
    "        self.node_paper = node_paper\n",
    "        self.node_institute = node_institute\n",
    "        self.node_author = node_author\n",
    "        self.edge_index_author_institute = edge_index_author_institute\n",
    "        self.edge_index_paper_author = edge_index_paper_author\n",
    "    \n",
    "    @property\n",
    "    def node_paper_num(self):\n",
    "        return self.node_paper.shape[0]\n",
    "    \n",
    "    @property\n",
    "    def node_author_num(self):\n",
    "        return self.node_author.shape[0]\n",
    "    \n",
    "    @property\n",
    "    def node_institute_num(self):\n",
    "        return self.node_institute.shape[0]"
   ]
  },
  {
   "cell_type": "markdown",
   "id": "a294500f-243d-45dc-9739-31bd0ac6c097",
   "metadata": {},
   "source": [
    "# 学习笔记"
   ]
  },
  {
   "cell_type": "markdown",
   "id": "fd03b741-1e72-4189-b3b1-3b5afb5b2bf1",
   "metadata": {},
   "source": [
    "## 简单图论"
   ]
  },
  {
   "cell_type": "markdown",
   "id": "640f586d-fcc1-4702-8519-954e33d77795",
   "metadata": {},
   "source": [
    "### 图结构数据\n",
    "\n",
    "\n",
    "\n",
    "#### 一、图的表示\n",
    "\n",
    "**定义一（图）**：\n",
    "    \n",
    "节点集合，边集合\n",
    "\n",
    "节点表示实体（entities ），边表示实体间的关系（relations）。\n",
    "\n",
    "节点和边的信息可以为类别型和数值型\n",
    "\n",
    "在图的计算任务中，我们认为，节点一定含有信息（至少含有节点的度的信息），边可能含有信息。\n",
    "\n",
    "**定义二（图的邻接矩阵）**：\n",
    "\n",
    "Aij不为0表示从节点i到节点j之间有边，为0表示没有变\n",
    "\n",
    "无向图的邻接矩阵是对称的\n",
    "\n",
    "无权图各条边的权重为1\n",
    "\n",
    "有权图，其对应的邻接矩阵通常被记为$\\mathbf{W} \\in\\{0,1\\}^{N \\times N}$，其中$\\mathbf{W}_{i, j}=w_{ij}$表示从节点$v_i$到$v_j$的边的权重。若边不存在时，边的权重为$0$。\n",
    "\t\n",
    "\n",
    "\n",
    "#### 二、图的属性\n",
    "\n",
    "**定义三（节点的度，degree）**：\n",
    "\n",
    "有向有权图，节点出度（out degree）等于从节点出发的边的权重之和，节点的入度（in degree）等于从连向节点的边的权重之和。\n",
    "\n",
    "无向图是有向图的特殊情况，节点的出度与入度相等。\n",
    "\n",
    "无权图是有权图的特殊情况，各边的权重为1，\n",
    "\n",
    "节点$v_i$的度记为$d(v_i)$，入度记为$d_{in}(v_i)$，出度记为$d_{out}(v_i)$。\n",
    "\n",
    "**定义四（邻接节点，neighbors）**：\n",
    "\n",
    "$\\mathcal{N(v_i)}$。\n",
    "\n",
    "节点$v_i$的$k$跳远的邻接节点（neighbors with $k$-hop）指的是到节点$v_i$要走$k$步的节点（一个节点的$2$跳远的邻接节点包含了自身）。\n",
    "\n",
    "**定义五（行走，walk）**：\n",
    "\n",
    "\n",
    "在“行走”中，节点是允许重复的。\n",
    "\n",
    "\n",
    "**定理六**：\n",
    "\n",
    "- 有一图，其邻接矩阵为 $\\mathbf{A}$, $\\mathbf{A}^{n}$为邻接矩阵的$n$次方，那么$\\mathbf{A}^{n}[i,j]$等于从节点$v_i$到节点$v_j$的长度为$n$的行走的个数。（也就是，以节点$v_i$为起点，节点$v_j$为终点，长度为$n$的节点访问方案的数量，节点访问中可以兜圈子重复访问一些节点）\n",
    "\n",
    "**定义七（路径，path）**：\n",
    "\n",
    "“路径”是节点不可重复的“行走”。\n",
    "\n",
    "**定义八（子图，subgraph）**：\n",
    "\n",
    "字面意思\n",
    "\n",
    "**定义九（连通分量，connected component）**：\n",
    "\n",
    "看英文connected component更好理解，形象理解为两个子图互不连通，为整图的联通分量\n",
    "\n",
    "\n",
    "\n",
    "**定义十（连通图，connected graph）**：\n",
    "\n",
    "- 当一个图只包含一个连通分量，即其自身，那么该图是一个连通图。\n",
    "\n",
    "**定义十一（最短路径，shortest path）**：\n",
    "\n",
    "字面意义\n",
    "\n",
    "**定义十二（直径，diameter）**：\n",
    "\n",
    "- 给定一个连通图$\\mathcal{G}=\\{\\mathcal{V}, \\mathcal{E}\\}$，其直径为其所有节点对之间的**最短路径的最大值**，形式化定义为\n",
    "\n",
    "$$\n",
    "\\operatorname{diameter}(\\mathcal{G})=\\max _{v_{s}, v_{t} \\in \\mathcal{V}} \\min _{p \\in \\mathcal{P}_{s t}}|p|\n",
    "$$\n",
    "\n",
    "**定义十三（拉普拉斯矩阵，Laplacian Matrix）**：\n",
    "\n",
    "- 给定一个图$\\mathcal{G}=\\{\\mathcal{V}, \\mathcal{E}\\}$，其邻接矩阵为$A$，其拉普拉斯矩阵定义为$\\mathbf{L=D-A}$，其中$\\mathbf{D=diag(d(v_1), \\cdots, d(v_N))}$。\n",
    "\n",
    "**定义十四（对称归一化的拉普拉斯矩阵，Symmetric normalized Laplacian）**：\n",
    "\n",
    "- 给定一个图$\\mathcal{G}=\\{\\mathcal{V}, \\mathcal{E}\\}$，其邻接矩阵为$A$，其规范化的拉普拉斯矩阵定义为\n",
    "\n",
    "$$\n",
    "\\mathbf{L=D^{-\\frac{1}{2}}(D-A)D^{-\\frac{1}{2}}=I-D^{-\\frac{1}{2}}AD^{-\\frac{1}{2}}}\n",
    "$$\n",
    "\n",
    "#### 三、图的种类\n",
    "\n",
    "- **同质图**（Homogeneous Graph）：只有一种类型的节点和一种类型的边的图。\n",
    "- **异质图**（Heterogeneous Graph）：存在多种类型的节点和多种类型的边的图。\n",
    "  \n",
    "- **二部图**（Bipartite Graphs）：节点分为两类，只有不同类的节点之间存在边。\n",
    "  \n",
    "\n",
    "#### 四、图结构数据上的机器学习\n",
    "\n",
    "1. **节点预测**：预测节点的类别或某类属性的取值\n",
    "   1. 例子：对是否是潜在客户分类、对游戏玩家的消费能力做预测\n",
    "2. **边预测**：预测两个节点间是否存在链接\n",
    "   1. 例子：Knowledge graph completion、好友推荐、商品推荐\n",
    "3. **图的预测**：对不同的图进行分类或预测图的属性\n",
    "   1. 例子：分子属性预测\n",
    "4. **节点聚类**：检测节点是否形成一个社区\n",
    "   1. 例子：社交圈检测\n",
    "5. **其他任务**\n",
    "   1. **图生成**：例如药物发现\n",
    "   2. **图演变**：例如物理模拟\n",
    "   3. ……\n",
    "\n",
    "#### 五、应用神经网络于图面临的挑战\n",
    "\n",
    "在学习了简单的图论知识，我们再来回顾应用神经网络于图面临的挑战。\n",
    "\n",
    "过去的深度学习应用中，我们主要接触的数据形式主要是这四种：**矩阵、张量、序列（sequence）和时间序列（time series）**，**它们都是规则的结构化的数据。然而图数据是非规则的非结构化的**，它具有以下的特点：\n",
    "\n",
    "1. **任意的大小和复杂的拓扑结构；**\n",
    "2. **没有固定的节点排序或参考点；**\n",
    "3. **通常是动态的，并具有多模态的特征；**\n",
    "4. **图的信息并非只蕴含在节点信息和边的信息中，图的信息还包括了图的拓扑结构。**\n",
    "\n",
    "\n",
    "\n",
    "以往的深度学习技术是为规则且结构化的数据设计的，无法直接用于图数据。应用于图数据的神经网络，要求\n",
    "\n",
    "- **适用于不同度的节点**；\n",
    "- **节点表征的计算与邻接节点的排序无关**；\n",
    "- **不但能够根据节点信息、邻接节点的信息和边的信息计算节点表征，还能根据图拓扑结构计算节点表征**。下\n",
    "\n",
    "\n",
    "\n",
    "#### 参考资料\n",
    "\n",
    "- [Chapter 2 - Foundations of Graphs, Deep Learning on Graphs](https://cse.msu.edu/~mayao4/dlg_book/chapters/chapter2.pdf)\n",
    "\n",
    "\n"
   ]
  },
  {
   "cell_type": "markdown",
   "id": "27f72c3c-a70c-432d-9689-13a14dbf72c7",
   "metadata": {},
   "source": [
    "## pyG环境配置"
   ]
  },
  {
   "cell_type": "markdown",
   "id": "825eaf88-6a48-461f-8476-a15d24b787aa",
   "metadata": {},
   "source": [
    "环境：阿里云gpu计算型（阿里云gpu虚拟型不能安装显卡驱动，计算型会自动装）\n",
    "\n",
    "\n",
    "\n",
    "使用`nvidia-smi`查看显卡驱动是否正确安装\n",
    "\n",
    "安装1.8.1版本的pytorch和11.1版本的cudatoolkit\n",
    "\n",
    "`conda install pytorch torchvision torchaudio cudatoolkit=11.1 -c pytorch -c nvidia`\n",
    "\n",
    "确认是否正确安装，正确的安装应出现下方的结果\n",
    "\n",
    "```\n",
    "$ python -c \"import torch; print(torch.__version__)\"\n",
    "# 1.8.1\n",
    "$ python -c \"import torch; print(torch.version.cuda)\"\n",
    "# 11.1\n",
    "```\n",
    "\n",
    "安装对应版本的PyG\n",
    "```\n",
    "pip install torch-scatter -f https://pytorch-geometric.com/whl/torch-1.8.0+cu111.html\n",
    "pip install torch-sparse -f https://pytorch-geometric.com/whl/torch-1.8.0+cu111.html\n",
    "pip install torch-cluster -f https://pytorch-geometric.com/whl/torch-1.8.0+cu111.html\n",
    "pip install torch-spline-conv -f https://pytorch-geometric.com/whl/torch-1.8.0+cu111.html\n",
    "pip install torch-geometric\n",
    "```\n",
    "\n",
    "注：在阿里云上安装`pip install torch-geometric`这一步会出错，使用`pip install pytest-runner`之后再安装torch-geometric就成功了"
   ]
  },
  {
   "cell_type": "markdown",
   "id": "89301938-bd5c-459c-888b-e4f265212459",
   "metadata": {},
   "source": [
    "## 数据集测试"
   ]
  },
  {
   "cell_type": "markdown",
   "id": "309c7dd3-6687-4f96-83ca-4cfab2954cb4",
   "metadata": {},
   "source": [
    "### Data"
   ]
  },
  {
   "cell_type": "code",
   "execution_count": 26,
   "id": "be39e729-bcc0-450b-86ba-e84d0e9df145",
   "metadata": {},
   "outputs": [
    {
     "name": "stdout",
     "output_type": "stream",
     "text": [
      "Data(edge_index=[2, 156], train_mask=[34], x=[34, 34], y=[34])\n",
      "==============================================================\n",
      "Number of nodes: 34\n",
      "Number of edges: 156\n",
      "Number of node features: 34\n",
      "Number of node features: 34\n",
      "Number of edge features: 0\n",
      "Average node degree: 4.59\n",
      "if edge indices are ordered and do not contain duplicate entries.: True\n",
      "Number of training nodes: 4\n",
      "Training node label rate: 0.12\n",
      "Contains isolated nodes: False\n",
      "Contains self-loops: False\n",
      "Is undirected: True\n"
     ]
    }
   ],
   "source": [
    "from torch_geometric.datasets import KarateClub\n",
    "\n",
    "dataset = KarateClub()\n",
    "data = dataset[0]  # Get the first graph object.\n",
    "print(data)\n",
    "print('==============================================================')\n",
    "\n",
    "# 获取图的一些信息\n",
    "print(f'Number of nodes: {data.num_nodes}') # 节点数量\n",
    "print(f'Number of edges: {data.num_edges}') # 边数量\n",
    "print(f'Number of node features: {data.num_node_features}') # 节点属性的维度\n",
    "print(f'Number of node features: {data.num_features}') # 同样是节点属性的维度\n",
    "print(f'Number of edge features: {data.num_edge_features}') # 边属性的维度\n",
    "print(f'Average node degree: {data.num_edges / data.num_nodes:.2f}') # 平均节点度\n",
    "print(f'if edge indices are ordered and do not contain duplicate entries.: {data.is_coalesced()}') # 是否边是有序的同时不含有重复的边\n",
    "print(f'Number of training nodes: {data.train_mask.sum()}') # 用作训练集的节点\n",
    "print(f'Training node label rate: {int(data.train_mask.sum()) / data.num_nodes:.2f}') # 用作训练集的节点数占比\n",
    "print(f'Contains isolated nodes: {data.contains_isolated_nodes()}') # 此图是否包含孤立的节点\n",
    "print(f'Contains self-loops: {data.contains_self_loops()}')  # 此图是否包含自环的边\n",
    "print(f'Is undirected: {data.is_undirected()}')  # 此图是否是无向图"
   ]
  },
  {
   "cell_type": "markdown",
   "id": "811b1dec-d5a2-46c5-a6df-075ada3546ad",
   "metadata": {},
   "source": [
    "### Dataset"
   ]
  },
  {
   "cell_type": "code",
   "execution_count": 31,
   "id": "74ff73ba-5891-4b96-898d-66a91f946241",
   "metadata": {},
   "outputs": [
    {
     "name": "stdout",
     "output_type": "stream",
     "text": [
      "Processing...\n",
      "Done!\n"
     ]
    },
    {
     "data": {
      "text/plain": [
       "1433"
      ]
     },
     "execution_count": 31,
     "metadata": {},
     "output_type": "execute_result"
    }
   ],
   "source": [
    "from torch_geometric.datasets import Planetoid\n",
    "from torch_geometric.transforms import NormalizeFeatures\n",
    "#Planetoid.url='https://gitee.com/rongqinchen/planetoid/raw/master/data/'\n",
    "#Planetoid.url='https://gitee.com/kimiyoung/planetoid/daata/'\n",
    "dataset = Planetoid(root='./dataset/Cora', name='Cora',transform=NormalizeFeatures())\n",
    "# Cora()\n",
    "\n",
    "len(dataset)\n",
    "# 1\n",
    "\n",
    "dataset.num_classes\n",
    "# 7\n",
    "\n",
    "dataset.num_node_features"
   ]
  },
  {
   "cell_type": "code",
   "execution_count": null,
   "id": "0cb1e7ee-4754-4839-aba1-c379b1baf11d",
   "metadata": {},
   "outputs": [],
   "source": []
  }
 ],
 "metadata": {
  "kernelspec": {
   "display_name": "Python 3",
   "language": "python",
   "name": "python3"
  },
  "language_info": {
   "codemirror_mode": {
    "name": "ipython",
    "version": 3
   },
   "file_extension": ".py",
   "mimetype": "text/x-python",
   "name": "python",
   "nbconvert_exporter": "python",
   "pygments_lexer": "ipython3",
   "version": "3.8.5"
  }
 },
 "nbformat": 4,
 "nbformat_minor": 5
}
