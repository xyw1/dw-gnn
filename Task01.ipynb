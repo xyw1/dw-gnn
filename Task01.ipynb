{
 "cells": [
  {
   "cell_type": "markdown",
   "id": "54d251ad-0748-468f-8db0-fd95dbac5aa5",
   "metadata": {},
   "source": [
    "# 作业"
   ]
  },
  {
   "cell_type": "code",
   "execution_count": 9,
   "id": "08b618e4-d401-42da-a70c-bf3e5d5614ad",
   "metadata": {},
   "outputs": [],
   "source": [
    "class Data:\n",
    "    \n",
    "    def __init__(self, x=None, edge_index=None, edge_attr=None, y=None, **kwargs):\n",
    "        r\"\"\"\n",
    "        Args:\n",
    "            x (Tensor, optional): 节点属性矩阵，大小为`[num_nodes, num_node_features]`\n",
    "            edge_index (LongTensor, optional): 边索引矩阵，大小为`[2, num_edges]`，第0行为 尾节点，第1行为头节点，头指向尾\n",
    "            edge_attr (Tensor, optional): 边属性矩阵，大小为`[num_edges, num_edge_features]`\n",
    "            y (Tensor, optional): 节点或图的标签，任意大小(，其实也可以是边的标签)\n",
    "        \"\"\"\n",
    "        self.x = x\n",
    "        self.edge_index = edge_index\n",
    "        self.edge_attr = edge_attr\n",
    "        self.y = y\n",
    "        for key, item in kwargs.items():\n",
    "            if key == 'num_nodes':\n",
    "                self.__num_nodes__ = item\n",
    "            else:\n",
    "                self[key] = item\n",
    "                \n",
    "class MyData(Data):\n",
    "    def __init__(self, node_paper=None, node_institute=None, node_author=None,\n",
    "                 edge_index_author_institute=None,edge_index_paper_author=None,y=None):  \n",
    "        super(MyData,self).__init__(y=y)  \n",
    "        self.node_paper = node_paper\n",
    "        self.node_institute = node_institute\n",
    "        self.node_author = node_author\n",
    "        self.edge_index_author_institute = edge_index_author_institute\n",
    "        self.edge_index_paper_author = edge_index_paper_author\n",
    "    \n",
    "    @property\n",
    "    def node_paper_num(self):\n",
    "        return self.node_paper.shape[0]\n",
    "    \n",
    "    @property\n",
    "    def node_author_num(self):\n",
    "        return self.node_author.shape[0]\n",
    "    \n",
    "    @property\n",
    "    def node_institute_num(self):\n",
    "        return self.node_institute.shape[0]"
   ]
  },
  {
   "cell_type": "markdown",
   "id": "a294500f-243d-45dc-9739-31bd0ac6c097",
   "metadata": {},
   "source": [
    "# 学习笔记"
   ]
  },
  {
   "cell_type": "markdown",
   "id": "fd03b741-1e72-4189-b3b1-3b5afb5b2bf1",
   "metadata": {},
   "source": [
    "## 简单图论"
   ]
  },
  {
   "cell_type": "code",
   "execution_count": 7,
   "id": "8e9f4d34-78d2-4c12-9657-f8117884da6b",
   "metadata": {},
   "outputs": [
    {
     "name": "stdout",
     "output_type": "stream",
     "text": [
      "# 学习笔记\n",
      "# 学习笔记\n",
      "## 简单图论\n",
      "使用`nvidia-smi`查看显卡驱动是否正确安装\n",
      "%history\n",
      "history\n",
      "history\n"
     ]
    }
   ],
   "source": [
    "history"
   ]
  },
  {
   "cell_type": "markdown",
   "id": "27f72c3c-a70c-432d-9689-13a14dbf72c7",
   "metadata": {},
   "source": [
    "## pyG环境配置"
   ]
  },
  {
   "cell_type": "markdown",
   "id": "825eaf88-6a48-461f-8476-a15d24b787aa",
   "metadata": {},
   "source": [
    "环境：阿里云gpu计算型（阿里云gpu虚拟型不能安装显卡驱动，计算型会自动装）\n",
    "\n",
    "\n",
    "\n",
    "使用`nvidia-smi`查看显卡驱动是否正确安装\n",
    "\n",
    "安装1.8.1版本的pytorch和11.1版本的cudatoolkit\n",
    "\n",
    "`conda install pytorch torchvision torchaudio cudatoolkit=11.1 -c pytorch -c nvidia`\n",
    "\n",
    "确认是否正确安装，正确的安装应出现下方的结果\n",
    "\n",
    "```\n",
    "$ python -c \"import torch; print(torch.__version__)\"\n",
    "# 1.8.1\n",
    "$ python -c \"import torch; print(torch.version.cuda)\"\n",
    "# 11.1\n",
    "```\n",
    "\n",
    "安装对应版本的PyG\n",
    "```\n",
    "pip install torch-scatter -f https://pytorch-geometric.com/whl/torch-1.8.0+cu111.html\n",
    "pip install torch-sparse -f https://pytorch-geometric.com/whl/torch-1.8.0+cu111.html\n",
    "pip install torch-cluster -f https://pytorch-geometric.com/whl/torch-1.8.0+cu111.html\n",
    "pip install torch-spline-conv -f https://pytorch-geometric.com/whl/torch-1.8.0+cu111.html\n",
    "pip install torch-geometric\n",
    "```\n",
    "\n",
    "注：在阿里云上安装`pip install torch-geometric`这一步会出错，使用`pip install pytest-runner`之后再安装torch-geometric就成功了"
   ]
  },
  {
   "cell_type": "code",
   "execution_count": 6,
   "id": "0276745a-d1f9-490a-9597-299d73014e1a",
   "metadata": {},
   "outputs": [
    {
     "name": "stdout",
     "output_type": "stream",
     "text": [
      "# 学习笔记\n",
      "# 学习笔记\n",
      "## 简单图论\n",
      "使用`nvidia-smi`查看显卡驱动是否正确安装\n",
      "%history\n",
      "history\n"
     ]
    }
   ],
   "source": [
    "history"
   ]
  },
  {
   "cell_type": "code",
   "execution_count": null,
   "id": "0e507795-322d-4bf0-aaad-7d5dd4c04919",
   "metadata": {},
   "outputs": [],
   "source": []
  }
 ],
 "metadata": {
  "kernelspec": {
   "display_name": "Python 3",
   "language": "python",
   "name": "python3"
  },
  "language_info": {
   "codemirror_mode": {
    "name": "ipython",
    "version": 3
   },
   "file_extension": ".py",
   "mimetype": "text/x-python",
   "name": "python",
   "nbconvert_exporter": "python",
   "pygments_lexer": "ipython3",
   "version": "3.8.10"
  }
 },
 "nbformat": 4,
 "nbformat_minor": 5
}
