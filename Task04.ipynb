{
 "cells": [
  {
   "cell_type": "markdown",
   "id": "893ef1e5-4991-4471-81e6-9ea7a0ea99a8",
   "metadata": {},
   "source": [
    "# 笔记"
   ]
  },
  {
   "cell_type": "markdown",
   "id": "87e3f8a7-c731-4f94-bbce-991769be363b",
   "metadata": {},
   "source": [
    "## InMemoryDataset"
   ]
  },
  {
   "cell_type": "code",
   "execution_count": 1,
   "id": "9288e601-5177-488d-ad80-3f486ba16e41",
   "metadata": {},
   "outputs": [],
   "source": [
    "import os.path as osp\n",
    "\n",
    "import torch\n",
    "from torch_geometric.data import (InMemoryDataset, download_url)\n",
    "from torch_geometric.io import read_planetoid_data\n",
    "\n",
    "class PlanetoidPubMed(InMemoryDataset):\n",
    "    r\"\"\" 节点代表文章，边代表引用关系。\n",
    "   \t\t 训练、验证和测试的划分通过二进制掩码给出。\n",
    "    参数:\n",
    "        root (string): 存储数据集的文件夹的路径\n",
    "        transform (callable, optional): 数据转换函数，每一次获取数据时被调用。\n",
    "        pre_transform (callable, optional): 数据转换函数，数据保存到文件前被调用。\n",
    "    \"\"\"\n",
    "\n",
    "    url = 'https://github.com/kimiyoung/planetoid/raw/master/data'\n",
    "    # url = 'https://gitee.com/rongqinchen/planetoid/raw/master/data'\n",
    "    # 如果github的链接不可用，请使用gitee的链接\n",
    "\n",
    "    def __init__(self, root, transform=None, pre_transform=None):\n",
    "\n",
    "        super(PlanetoidPubMed, self).__init__(root, transform, pre_transform)\n",
    "        self.data, self.slices = torch.load(self.processed_paths[0])\n",
    "\n",
    "    @property\n",
    "    def raw_dir(self):\n",
    "        return osp.join(self.root, 'raw')\n",
    "\n",
    "    @property\n",
    "    def processed_dir(self):\n",
    "        return osp.join(self.root, 'processed')\n",
    "\n",
    "    @property\n",
    "    def raw_file_names(self):\n",
    "        names = ['x', 'tx', 'allx', 'y', 'ty', 'ally', 'graph', 'test.index']\n",
    "        return ['ind.pubmed.{}'.format(name) for name in names]\n",
    "\n",
    "    @property\n",
    "    def processed_file_names(self):\n",
    "        return 'data.pt'\n",
    "\n",
    "    def download(self):\n",
    "        for name in self.raw_file_names:\n",
    "            download_url('{}/{}'.format(self.url, name), self.raw_dir)\n",
    "\n",
    "    def process(self):\n",
    "        data = read_planetoid_data(self.raw_dir, 'pubmed')\n",
    "        data = data if self.pre_transform is None else self.pre_transform(data)\n",
    "        torch.save(self.collate([data]), self.processed_paths[0])\n",
    "\n",
    "    def __repr__(self):\n",
    "        return '{}()'.format(self.name)\n",
    "\n",
    "\n",
    "    "
   ]
  },
  {
   "cell_type": "code",
   "execution_count": 2,
   "id": "a4e288b4-cde5-4f61-adaa-6fe5acfa0449",
   "metadata": {},
   "outputs": [
    {
     "name": "stdout",
     "output_type": "stream",
     "text": [
      "3\n",
      "19717\n",
      "88648\n",
      "500\n"
     ]
    }
   ],
   "source": [
    "dataset = PlanetoidPubMed('dataset/Pubmed')\n",
    "print(dataset.num_classes)\n",
    "print(dataset[0].num_nodes)\n",
    "print(dataset[0].num_edges)\n",
    "print(dataset[0].num_features)"
   ]
  },
  {
   "cell_type": "markdown",
   "id": "e724caba-7962-4425-b40d-bd64b5a38ae2",
   "metadata": {},
   "source": [
    "## Seqential"
   ]
  },
  {
   "cell_type": "markdown",
   "id": "0edc7af2-f0e9-4a71-856d-426c22d0a09f",
   "metadata": {},
   "source": [
    "[Sequential文档](https://pytorch-geometric.readthedocs.io/en/latest/modules/nn.html#torch_geometric.nn.sequential.Sequential)"
   ]
  },
  {
   "cell_type": "markdown",
   "id": "fdf1516f-42a1-4883-b0e8-418387190f89",
   "metadata": {},
   "source": [
    "```python\n",
    "from torch.nn import Linear, ReLU\n",
    "from torch_geometric.nn import Sequential, GCNConv\n",
    "\n",
    "model = Sequential('x, edge_index', [\n",
    "    (GCNConv(in_channels, 64), 'x, edge_index -> x'),\n",
    "    ReLU(inplace=True),\n",
    "    (GCNConv(64, 64), 'x, edge_index -> x'),\n",
    "    ReLU(inplace=True),\n",
    "    Linear(64, out_channels),\n",
    "])\n",
    "```\n",
    "\n",
    "用法：\n",
    "```\n",
    "model = Sequential('x, edge_index', [\n",
    "    (模型1, '模型1输入 -> 模型1返回值'),\n",
    "    ReLU(inplace=True),\n",
    "   (模型2, '模型2输入 -> 模型2返回值'),\n",
    "    ReLU(inplace=True),\n",
    "    Linear(64, out_channels),\n",
    "])\n",
    "```\n"
   ]
  },
  {
   "cell_type": "markdown",
   "id": "be474d24-22b1-45fa-abd1-85d75345e364",
   "metadata": {},
   "source": [
    "## torch.t"
   ]
  },
  {
   "cell_type": "raw",
   "id": "f650ce48-3956-40d6-9b60-576ccca268cf",
   "metadata": {},
   "source": [
    "对tensor进行转置"
   ]
  },
  {
   "cell_type": "markdown",
   "id": "bd7ae183-4008-45a7-8550-69a3d3d129b4",
   "metadata": {},
   "source": [
    "## torch中@和*的作用"
   ]
  },
  {
   "cell_type": "code",
   "execution_count": 60,
   "id": "1d8a29d8-19c1-4ae6-9cee-07c0f50cf1ca",
   "metadata": {},
   "outputs": [],
   "source": [
    "x = torch.tensor([[1,2],[3,4]])\n",
    "y = torch.tensor([[2,1],[4,3]])\n"
   ]
  },
  {
   "cell_type": "code",
   "execution_count": 55,
   "id": "d67240e9-aef3-4d48-98d1-113716b4fff8",
   "metadata": {},
   "outputs": [
    {
     "data": {
      "text/plain": [
       "(tensor([[1, 2],\n",
       "         [3, 4]]),\n",
       " tensor([[2, 1],\n",
       "         [4, 3]]),\n",
       " tensor([[ 2,  2],\n",
       "         [12, 12]]))"
      ]
     },
     "execution_count": 55,
     "metadata": {},
     "output_type": "execute_result"
    }
   ],
   "source": [
    "x,y,x*y#逐元素相乘"
   ]
  },
  {
   "cell_type": "code",
   "execution_count": 59,
   "id": "51a198ef-4707-4444-bf85-91c6160bb21b",
   "metadata": {},
   "outputs": [
    {
     "data": {
      "text/plain": [
       "(tensor([[1, 2],\n",
       "         [3, 4]]),\n",
       " tensor([[2, 1],\n",
       "         [4, 3]]),\n",
       " tensor([[10,  7],\n",
       "         [22, 15]]))"
      ]
     },
     "execution_count": 59,
     "metadata": {},
     "output_type": "execute_result"
    }
   ],
   "source": [
    "x,y,x@y"
   ]
  },
  {
   "cell_type": "raw",
   "id": "edab28ac-7322-40d6-9f04-f8fbac4485d0",
   "metadata": {},
   "source": [
    "矩阵乘法 z=x@y,z的第i行第j列的值等于x第i行与y第j列逐元素相乘再相加"
   ]
  },
  {
   "cell_type": "code",
   "execution_count": 62,
   "id": "26b65b7c-52ec-4729-a9b3-4a9efc1d606d",
   "metadata": {},
   "outputs": [
    {
     "data": {
      "text/plain": [
       "(tensor([[1, 2],\n",
       "         [3, 4]]),\n",
       " tensor([[1, 3],\n",
       "         [2, 4]]),\n",
       " tensor([[ 5, 11],\n",
       "         [11, 25]]))"
      ]
     },
     "execution_count": 62,
     "metadata": {},
     "output_type": "execute_result"
    }
   ],
   "source": [
    "x,x.t(),x@x.t()#对称矩阵"
   ]
  },
  {
   "cell_type": "code",
   "execution_count": 64,
   "id": "0efb4c94-139b-4ed0-a12f-54f897c4b962",
   "metadata": {},
   "outputs": [
    {
     "data": {
      "text/plain": [
       "(tensor([[1, 2, 3],\n",
       "         [3, 4, 5],\n",
       "         [4, 5, 6]]),\n",
       " tensor([[1, 3, 4],\n",
       "         [2, 4, 5],\n",
       "         [3, 5, 6]]),\n",
       " tensor([[14, 26, 32],\n",
       "         [26, 50, 62],\n",
       "         [32, 62, 77]]))"
      ]
     },
     "execution_count": 64,
     "metadata": {},
     "output_type": "execute_result"
    }
   ],
   "source": [
    "m = torch.tensor([[1,2,3],[3,4,5],[4,5,6]])\n",
    "m,m.t(),m@m.t()#对称矩阵"
   ]
  },
  {
   "cell_type": "markdown",
   "id": "3b65c25f-47be-482b-ae94-d14b73f8f166",
   "metadata": {},
   "source": [
    "## torch.cat"
   ]
  },
  {
   "cell_type": "code",
   "execution_count": 73,
   "id": "3c4b84fc-461b-4c10-9ec3-7b998fc1a428",
   "metadata": {},
   "outputs": [
    {
     "data": {
      "text/plain": [
       "(tensor([[1, 2],\n",
       "         [3, 4]]),\n",
       " tensor([[2, 1],\n",
       "         [4, 3]]),\n",
       " tensor([[1, 2],\n",
       "         [3, 4],\n",
       "         [2, 1],\n",
       "         [4, 3]]))"
      ]
     },
     "execution_count": 73,
     "metadata": {},
     "output_type": "execute_result"
    }
   ],
   "source": [
    "x,y,torch.cat([x,y])"
   ]
  },
  {
   "cell_type": "code",
   "execution_count": 74,
   "id": "259e53ad-8ef8-4977-a16b-009f1247aecc",
   "metadata": {},
   "outputs": [
    {
     "data": {
      "text/plain": [
       "(tensor([[1, 2],\n",
       "         [3, 4]]),\n",
       " tensor([[2, 1],\n",
       "         [4, 3]]),\n",
       " tensor([[1, 2],\n",
       "         [3, 4],\n",
       "         [2, 1],\n",
       "         [4, 3]]))"
      ]
     },
     "execution_count": 74,
     "metadata": {},
     "output_type": "execute_result"
    }
   ],
   "source": [
    "x,y,torch.cat([x,y],dim=0)"
   ]
  },
  {
   "cell_type": "code",
   "execution_count": 75,
   "id": "500e2fc1-7312-42ad-b183-295dd217b4c8",
   "metadata": {},
   "outputs": [
    {
     "data": {
      "text/plain": [
       "(tensor([[1, 2],\n",
       "         [3, 4]]),\n",
       " tensor([[2, 1],\n",
       "         [4, 3]]),\n",
       " tensor([[1, 2, 2, 1],\n",
       "         [3, 4, 4, 3]]))"
      ]
     },
     "execution_count": 75,
     "metadata": {},
     "output_type": "execute_result"
    }
   ],
   "source": [
    "x,y,torch.cat([x,y],dim=-1)"
   ]
  },
  {
   "cell_type": "markdown",
   "id": "e6751592-1f46-4fea-8e8e-27cf3699b179",
   "metadata": {},
   "source": [
    "## 边预测decode函数解析"
   ]
  },
  {
   "cell_type": "code",
   "execution_count": 84,
   "id": "29dc709f-3243-4dc4-9536-c1c5dff6b459",
   "metadata": {},
   "outputs": [],
   "source": [
    "\n",
    "def decode(self, z, pos_edge_index, neg_edge_index):\n",
    "    edge_index = torch.cat([pos_edge_index, neg_edge_index], dim=-1)\n",
    "    return (z[edge_index[0]] * z[edge_index[1]]).sum(dim=-1)\n",
    "\n",
    "\n"
   ]
  },
  {
   "cell_type": "markdown",
   "id": "c62a5d22-96c6-4dee-94c4-395e212f0652",
   "metadata": {},
   "source": [
    "`z[edge_index[0]] ` 是所有起始节点的表征\n",
    "`z[edge_index[1]]` 是所有终止节点的表征"
   ]
  },
  {
   "cell_type": "markdown",
   "id": "082bde71-4c08-468e-bb7c-f09af85846bf",
   "metadata": {},
   "source": [
    "# 作业"
   ]
  },
  {
   "cell_type": "markdown",
   "id": "3b4fee37-982b-4e84-815d-451ba34c09b1",
   "metadata": {},
   "source": [
    "## 实践问题一：尝试使用PyG中的不同的网络层去代替`GCNConv`，以及不同的层数和不同的`out_channels`，来实现节点分类任务。"
   ]
  },
  {
   "cell_type": "code",
   "execution_count": 10,
   "id": "32b57a1d-6b33-4d70-9406-ba0fbe66a44b",
   "metadata": {},
   "outputs": [],
   "source": [
    "import matplotlib.pyplot as plt\n",
    "from sklearn.manifold import TSNE\n",
    "\n",
    "import torch\n",
    "\n",
    "from torch.nn import Linear\n",
    "from torch_geometric.nn import GATConv\n",
    "from torch.nn import Linear, ReLU\n",
    "from torch_geometric.nn import Sequential, GCNConv\n",
    "\n",
    "\n",
    "\n",
    "import torch.nn.functional as F"
   ]
  },
  {
   "cell_type": "code",
   "execution_count": 4,
   "id": "e272f5ba-83f2-4d9d-b7b6-cb38d9788421",
   "metadata": {},
   "outputs": [],
   "source": [
    "from tqdm import tqdm\n",
    "from time import time\n",
    "class Model(torch.nn.Module):\n",
    "    def __init__(self,optimizer=None,criterion=None,**kwargs):\n",
    "        super(Model, self).__init__()\n",
    "        self.optimizer=optimizer\n",
    "        self.criterion=criterion\n",
    "        \n",
    "    def _train(self,data,epoch=200):\n",
    "        def _loss():\n",
    "            self.train()\n",
    "            self.optimizer.zero_grad()  # Clear gradients.\n",
    "            if self.forward.__code__.co_argcount == 2:\n",
    "                out = self.forward(data.x)  # Perform a single forward pass.\n",
    "            elif self.forward.__code__.co_argcount == 3:\n",
    "                out = self.forward(data.x, data.edge_index)\n",
    "            loss = self.criterion(out[data.train_mask], data.y[data.train_mask])  # Compute the loss solely based on the training nodes.\n",
    "            loss.backward()  # Derive gradients.\n",
    "            self.optimizer.step()  # Update parameters based on gradients.\n",
    "            return loss\n",
    "        t0=time()\n",
    "        for i in tqdm(range(epoch)):\n",
    "            loss = _loss()\n",
    "            if i+1>epoch-10:\n",
    "                print(f'Epoch: {i+1:03d}, Loss: {loss:.4f}')\n",
    "        self.time = time()-t0\n",
    "\n",
    "\n",
    "    def _test(self,data):\n",
    "        def __test():\n",
    "            self.eval()\n",
    "            if self.forward.__code__.co_argcount == 2:\n",
    "                self.out = self.forward(data.x)\n",
    "            elif self.forward.__code__.co_argcount == 3:\n",
    "                self.out = self.forward(data.x, data.edge_index)\n",
    "            pred = self.out.argmax(dim=1)  # Use the class with highest probability.\n",
    "            test_correct = pred[data.test_mask] == data.y[data.test_mask]  # Check against ground-truth labels.\n",
    "            test_acc = int(test_correct.sum()) / int(data.test_mask.sum())  # Derive ratio of correct predictions.\n",
    "            return test_acc\n",
    "\n",
    "        test_acc = __test()\n",
    "        self.test_acc=test_acc\n",
    "        print(f'Test Accuracy: {test_acc:.4f}')\n",
    "        \n",
    "    def _visualize(self,data):\n",
    "        def __visualize(out, color):\n",
    "            z = TSNE(n_components=2).fit_transform(out.detach().cpu().numpy())\n",
    "            plt.figure(figsize=(10,10))\n",
    "            plt.xticks([])\n",
    "            plt.yticks([])\n",
    "\n",
    "            plt.scatter(z[:, 0], z[:, 1], s=70, c=color, cmap=\"Set2\")\n",
    "            plt.show()\n",
    "\n",
    "            \n",
    "        self.eval()\n",
    "        if self.forward.__code__.co_argcount == 2:\n",
    "            self.out = self(data.x)\n",
    "        elif self.forward.__code__.co_argcount == 3:\n",
    "            self.out = self.forward(data.x, data.edge_index)\n",
    "        \n",
    "        __visualize(self.out, color=data.y)"
   ]
  },
  {
   "cell_type": "code",
   "execution_count": null,
   "id": "5a2c730f-cba5-4344-ad58-95c306befd76",
   "metadata": {},
   "outputs": [],
   "source": []
  },
  {
   "cell_type": "code",
   "execution_count": 5,
   "id": "3e323620-d3cd-493e-92ed-0cb21b55ed04",
   "metadata": {},
   "outputs": [],
   "source": [
    "from torch_geometric.datasets import Planetoid\n",
    "from torch_geometric.transforms import NormalizeFeatures\n",
    "\n",
    "dataset = Planetoid(root='dataset/Cora', name='Cora', transform=NormalizeFeatures())\n",
    "\n",
    "data = dataset[0]  # Get the first graph object.\n",
    "#describe_dataset(dataset)"
   ]
  },
  {
   "cell_type": "markdown",
   "id": "22507cee-c975-47de-9c50-6b3fefcf0de9",
   "metadata": {},
   "source": [
    "### GAT\n",
    "\n"
   ]
  },
  {
   "cell_type": "code",
   "execution_count": 6,
   "id": "085bc756-11cf-42ae-bbbd-97e7027c3253",
   "metadata": {},
   "outputs": [],
   "source": [
    "class GAT(Model):\n",
    "    def __init__(self, num_features, hidden_channels_list, num_classes):\n",
    "        super(GAT, self).__init__()\n",
    "        torch.manual_seed(12345)\n",
    "        hns = [num_features] + hidden_channels_list\n",
    "        conv_list = []\n",
    "        for idx in range(len(hidden_channels_list)):\n",
    "            conv_list.append((GATConv(hns[idx], hns[idx+1]), 'x, edge_index -> x'))\n",
    "            conv_list.append(ReLU(inplace=True),)\n",
    "\n",
    "        self.convseq = Sequential('x, edge_index', conv_list)\n",
    "        self.linear = Linear(hidden_channels_list[-1], num_classes)\n",
    "\n",
    "    def forward(self, x, edge_index):\n",
    "        x = self.convseq(x, edge_index)\n",
    "        x = F.dropout(x, p=0.5, training=self.training)\n",
    "        x = self.linear(x)\n",
    "        return x\n"
   ]
  },
  {
   "cell_type": "code",
   "execution_count": 11,
   "id": "2e6251fd-3bb8-4846-baab-4bcacc9688be",
   "metadata": {},
   "outputs": [],
   "source": [
    "\n",
    "model=GAT(data.num_features,[16,16,16],dataset.num_classes)\n",
    "model.criterion = torch.nn.CrossEntropyLoss()  # Define loss criterion.\n",
    "model.optimizer = torch.optim.Adam(model.parameters(), lr=0.01, weight_decay=5e-4)  # Define optimizer.\n"
   ]
  },
  {
   "cell_type": "code",
   "execution_count": 12,
   "id": "5be5259e-927a-41ff-9848-a40a7213a8eb",
   "metadata": {},
   "outputs": [
    {
     "name": "stderr",
     "output_type": "stream",
     "text": [
      " 97%|█████████▋| 194/200 [00:10<00:00, 20.17it/s]"
     ]
    },
    {
     "name": "stdout",
     "output_type": "stream",
     "text": [
      "Epoch: 191, Loss: 0.1621\n",
      "Epoch: 192, Loss: 0.2263\n",
      "Epoch: 193, Loss: 0.2324\n",
      "Epoch: 194, Loss: 0.2828\n",
      "Epoch: 195, Loss: 0.3554\n"
     ]
    },
    {
     "name": "stderr",
     "output_type": "stream",
     "text": [
      "100%|██████████| 200/200 [00:11<00:00, 17.80it/s]"
     ]
    },
    {
     "name": "stdout",
     "output_type": "stream",
     "text": [
      "Epoch: 196, Loss: 0.2219\n",
      "Epoch: 197, Loss: 0.2132\n",
      "Epoch: 198, Loss: 0.2591\n",
      "Epoch: 199, Loss: 0.2039\n",
      "Epoch: 200, Loss: 0.2196\n"
     ]
    },
    {
     "name": "stderr",
     "output_type": "stream",
     "text": [
      "\n"
     ]
    }
   ],
   "source": [
    "model._train(data)"
   ]
  },
  {
   "cell_type": "code",
   "execution_count": 14,
   "id": "4d57d48e-58c7-4e13-b7cb-569aebd41f68",
   "metadata": {},
   "outputs": [
    {
     "name": "stdout",
     "output_type": "stream",
     "text": [
      "Test Accuracy: 0.6480\n"
     ]
    }
   ],
   "source": [
    "model._test(data)"
   ]
  },
  {
   "cell_type": "code",
   "execution_count": 15,
   "id": "b725e7ea-8c2d-406f-bb9a-36bb87b5dd4d",
   "metadata": {},
   "outputs": [
    {
     "data": {
      "image/png": "[encoded data removed]",
      "text/plain": [
       "<Figure size 720x720 with 1 Axes>"
      ]
     },
     "metadata": {},
     "output_type": "display_data"
    }
   ],
   "source": [
    "model._visualize(data)"
   ]
  },
  {
   "cell_type": "code",
   "execution_count": 16,
   "id": "c5f9158e-39b7-495f-b43a-bd039a257482",
   "metadata": {},
   "outputs": [
    {
     "name": "stderr",
     "output_type": "stream",
     "text": [
      " 97%|█████████▋| 194/200 [00:10<00:00, 18.52it/s]"
     ]
    },
    {
     "name": "stdout",
     "output_type": "stream",
     "text": [
      "Epoch: 191, Loss: 0.0649\n",
      "Epoch: 192, Loss: 0.0728\n",
      "Epoch: 193, Loss: 0.0665\n",
      "Epoch: 194, Loss: 0.0737\n"
     ]
    },
    {
     "name": "stderr",
     "output_type": "stream",
     "text": [
      " 99%|█████████▉| 198/200 [00:10<00:00, 18.25it/s]"
     ]
    },
    {
     "name": "stdout",
     "output_type": "stream",
     "text": [
      "Epoch: 195, Loss: 0.0810\n",
      "Epoch: 196, Loss: 0.0839\n",
      "Epoch: 197, Loss: 0.0880\n",
      "Epoch: 198, Loss: 0.0720\n"
     ]
    },
    {
     "name": "stderr",
     "output_type": "stream",
     "text": [
      "100%|██████████| 200/200 [00:10<00:00, 18.63it/s]"
     ]
    },
    {
     "name": "stdout",
     "output_type": "stream",
     "text": [
      "Epoch: 199, Loss: 0.0738\n",
      "Epoch: 200, Loss: 0.0763\n"
     ]
    },
    {
     "name": "stderr",
     "output_type": "stream",
     "text": [
      "\n"
     ]
    }
   ],
   "source": [
    "\n",
    "model=GAT(data.num_features,[100],dataset.num_classes)\n",
    "model.criterion = torch.nn.CrossEntropyLoss()  # Define loss criterion.\n",
    "model.optimizer = torch.optim.Adam(model.parameters(), lr=0.01, weight_decay=5e-4)  # Define optimizer.\n",
    "\n",
    "model._train(data)"
   ]
  },
  {
   "cell_type": "code",
   "execution_count": 18,
   "id": "1d1ee9d1-bcb0-4ee9-982a-a737727eb1c3",
   "metadata": {},
   "outputs": [
    {
     "name": "stdout",
     "output_type": "stream",
     "text": [
      "Test Accuracy: 0.6620\n"
     ]
    }
   ],
   "source": [
    "model._test(data)"
   ]
  },
  {
   "cell_type": "markdown",
   "id": "f7d651a5-30eb-408e-bccd-53e18bdf1c0a",
   "metadata": {},
   "source": [
    "### SAGE"
   ]
  },
  {
   "cell_type": "code",
   "execution_count": 19,
   "id": "a81b80bc-f02f-498e-a434-4a3e241f0245",
   "metadata": {},
   "outputs": [],
   "source": [
    "from torch_geometric.nn import SAGEConv\n",
    "\n",
    "class SAGE(Model):\n",
    "    def __init__(self, num_features, hidden_channels_list, num_classes):\n",
    "        super(SAGE, self).__init__()\n",
    "        torch.manual_seed(12345)\n",
    "        conv_list = []\n",
    "        hns = [num_features]+hidden_channels_list\n",
    "        for idx in range(len(hidden_channels_list)):\n",
    "            conv_list.append((SAGEConv(hns[idx], hns[idx+1]),'x, edge_index -> x'))\n",
    "            conv_list.append(ReLU(inplace=True))\n",
    "        self.convseq = Sequential('x, edge_index', conv_list)\n",
    "        self.linear = Linear(hidden_channels_list[-1], num_classes)\n",
    "\n",
    "    def forward(self, x, edge_index):\n",
    "        x = self.convseq(x, edge_index)\n",
    "        x = F.dropout(x, p=0.5, training=self.training)\n",
    "        x = self.linear(x)\n",
    "        return x\n",
    "    \n"
   ]
  },
  {
   "cell_type": "code",
   "execution_count": 20,
   "id": "7ae25bbb-4462-40d4-9304-caee5a6ef809",
   "metadata": {},
   "outputs": [
    {
     "name": "stderr",
     "output_type": "stream",
     "text": [
      " 96%|█████████▌| 191/200 [00:57<00:02,  3.39it/s]"
     ]
    },
    {
     "name": "stdout",
     "output_type": "stream",
     "text": [
      "Epoch: 191, Loss: 0.5513\n"
     ]
    },
    {
     "name": "stderr",
     "output_type": "stream",
     "text": [
      " 96%|█████████▌| 192/200 [00:57<00:02,  3.39it/s]"
     ]
    },
    {
     "name": "stdout",
     "output_type": "stream",
     "text": [
      "Epoch: 192, Loss: 0.5344\n"
     ]
    },
    {
     "name": "stderr",
     "output_type": "stream",
     "text": [
      " 96%|█████████▋| 193/200 [00:57<00:02,  3.39it/s]"
     ]
    },
    {
     "name": "stdout",
     "output_type": "stream",
     "text": [
      "Epoch: 193, Loss: 0.4957\n"
     ]
    },
    {
     "name": "stderr",
     "output_type": "stream",
     "text": [
      " 97%|█████████▋| 194/200 [00:57<00:01,  3.35it/s]"
     ]
    },
    {
     "name": "stdout",
     "output_type": "stream",
     "text": [
      "Epoch: 194, Loss: 0.5239\n"
     ]
    },
    {
     "name": "stderr",
     "output_type": "stream",
     "text": [
      " 98%|█████████▊| 195/200 [00:58<00:01,  3.36it/s]"
     ]
    },
    {
     "name": "stdout",
     "output_type": "stream",
     "text": [
      "Epoch: 195, Loss: 0.4863\n"
     ]
    },
    {
     "name": "stderr",
     "output_type": "stream",
     "text": [
      " 98%|█████████▊| 196/200 [00:58<00:01,  3.37it/s]"
     ]
    },
    {
     "name": "stdout",
     "output_type": "stream",
     "text": [
      "Epoch: 196, Loss: 0.4856\n"
     ]
    },
    {
     "name": "stderr",
     "output_type": "stream",
     "text": [
      " 98%|█████████▊| 197/200 [00:58<00:00,  3.37it/s]"
     ]
    },
    {
     "name": "stdout",
     "output_type": "stream",
     "text": [
      "Epoch: 197, Loss: 0.5190\n"
     ]
    },
    {
     "name": "stderr",
     "output_type": "stream",
     "text": [
      " 99%|█████████▉| 198/200 [00:59<00:00,  3.38it/s]"
     ]
    },
    {
     "name": "stdout",
     "output_type": "stream",
     "text": [
      "Epoch: 198, Loss: 0.4684\n"
     ]
    },
    {
     "name": "stderr",
     "output_type": "stream",
     "text": [
      "100%|█████████▉| 199/200 [00:59<00:00,  3.38it/s]"
     ]
    },
    {
     "name": "stdout",
     "output_type": "stream",
     "text": [
      "Epoch: 199, Loss: 0.3953\n"
     ]
    },
    {
     "name": "stderr",
     "output_type": "stream",
     "text": [
      "100%|██████████| 200/200 [00:59<00:00,  3.35it/s]"
     ]
    },
    {
     "name": "stdout",
     "output_type": "stream",
     "text": [
      "Epoch: 200, Loss: 0.4544\n"
     ]
    },
    {
     "name": "stderr",
     "output_type": "stream",
     "text": [
      "\n"
     ]
    }
   ],
   "source": [
    "\n",
    "model=SAGE(data.num_features,[16,10],dataset.num_classes)\n",
    "model.criterion = torch.nn.CrossEntropyLoss()  # Define loss criterion.\n",
    "model.optimizer = torch.optim.Adam(model.parameters(), lr=0.01, weight_decay=5e-4)  # Define optimizer.\n",
    "\n",
    "model._train(data)"
   ]
  },
  {
   "cell_type": "code",
   "execution_count": 21,
   "id": "e289172c-05bb-4418-bb81-5e59b28a2d09",
   "metadata": {},
   "outputs": [
    {
     "name": "stdout",
     "output_type": "stream",
     "text": [
      "Test Accuracy: 0.6460\n"
     ]
    }
   ],
   "source": [
    "model._test(data)"
   ]
  },
  {
   "cell_type": "code",
   "execution_count": 22,
   "id": "8eeb4dcc-0b26-4332-af19-528c8e6d1a16",
   "metadata": {},
   "outputs": [
    {
     "name": "stderr",
     "output_type": "stream",
     "text": [
      " 96%|█████████▌| 191/200 [01:00<00:02,  3.18it/s]"
     ]
    },
    {
     "name": "stdout",
     "output_type": "stream",
     "text": [
      "Epoch: 191, Loss: 0.0752\n"
     ]
    },
    {
     "name": "stderr",
     "output_type": "stream",
     "text": [
      " 96%|█████████▌| 192/200 [01:00<00:02,  3.18it/s]"
     ]
    },
    {
     "name": "stdout",
     "output_type": "stream",
     "text": [
      "Epoch: 192, Loss: 0.0628\n"
     ]
    },
    {
     "name": "stderr",
     "output_type": "stream",
     "text": [
      " 96%|█████████▋| 193/200 [01:00<00:02,  3.18it/s]"
     ]
    },
    {
     "name": "stdout",
     "output_type": "stream",
     "text": [
      "Epoch: 193, Loss: 0.0651\n"
     ]
    },
    {
     "name": "stderr",
     "output_type": "stream",
     "text": [
      " 97%|█████████▋| 194/200 [01:01<00:01,  3.18it/s]"
     ]
    },
    {
     "name": "stdout",
     "output_type": "stream",
     "text": [
      "Epoch: 194, Loss: 0.0631\n"
     ]
    },
    {
     "name": "stderr",
     "output_type": "stream",
     "text": [
      " 98%|█████████▊| 195/200 [01:01<00:01,  3.18it/s]"
     ]
    },
    {
     "name": "stdout",
     "output_type": "stream",
     "text": [
      "Epoch: 195, Loss: 0.0601\n"
     ]
    },
    {
     "name": "stderr",
     "output_type": "stream",
     "text": [
      " 98%|█████████▊| 196/200 [01:01<00:01,  3.18it/s]"
     ]
    },
    {
     "name": "stdout",
     "output_type": "stream",
     "text": [
      "Epoch: 196, Loss: 0.0560\n"
     ]
    },
    {
     "name": "stderr",
     "output_type": "stream",
     "text": [
      " 98%|█████████▊| 197/200 [01:01<00:00,  3.18it/s]"
     ]
    },
    {
     "name": "stdout",
     "output_type": "stream",
     "text": [
      "Epoch: 197, Loss: 0.0743\n"
     ]
    },
    {
     "name": "stderr",
     "output_type": "stream",
     "text": [
      " 99%|█████████▉| 198/200 [01:02<00:00,  3.18it/s]"
     ]
    },
    {
     "name": "stdout",
     "output_type": "stream",
     "text": [
      "Epoch: 198, Loss: 0.0673\n"
     ]
    },
    {
     "name": "stderr",
     "output_type": "stream",
     "text": [
      "100%|█████████▉| 199/200 [01:02<00:00,  3.19it/s]"
     ]
    },
    {
     "name": "stdout",
     "output_type": "stream",
     "text": [
      "Epoch: 199, Loss: 0.0701\n"
     ]
    },
    {
     "name": "stderr",
     "output_type": "stream",
     "text": [
      "100%|██████████| 200/200 [01:02<00:00,  3.18it/s]"
     ]
    },
    {
     "name": "stdout",
     "output_type": "stream",
     "text": [
      "Epoch: 200, Loss: 0.0662\n"
     ]
    },
    {
     "name": "stderr",
     "output_type": "stream",
     "text": [
      "\n"
     ]
    }
   ],
   "source": [
    "\n",
    "model=SAGE(data.num_features,[100],dataset.num_classes)\n",
    "model.criterion = torch.nn.CrossEntropyLoss()  # Define loss criterion.\n",
    "model.optimizer = torch.optim.Adam(model.parameters(), lr=0.01, weight_decay=5e-4)  # Define optimizer.\n",
    "\n",
    "model._train(data)"
   ]
  },
  {
   "cell_type": "code",
   "execution_count": 23,
   "id": "c782a512-a03d-44f8-a629-82a86aa2aca8",
   "metadata": {},
   "outputs": [
    {
     "name": "stdout",
     "output_type": "stream",
     "text": [
      "Test Accuracy: 0.7300\n"
     ]
    }
   ],
   "source": [
    "model._test(data)"
   ]
  },
  {
   "cell_type": "code",
   "execution_count": 24,
   "id": "1bb0ac8e-6f7d-43f1-bcb9-1189106d8e6f",
   "metadata": {},
   "outputs": [
    {
     "name": "stderr",
     "output_type": "stream",
     "text": [
      " 96%|█████████▌| 191/200 [00:59<00:02,  3.22it/s]"
     ]
    },
    {
     "name": "stdout",
     "output_type": "stream",
     "text": [
      "Epoch: 191, Loss: 0.0326\n"
     ]
    },
    {
     "name": "stderr",
     "output_type": "stream",
     "text": [
      " 96%|█████████▌| 192/200 [00:59<00:02,  3.21it/s]"
     ]
    },
    {
     "name": "stdout",
     "output_type": "stream",
     "text": [
      "Epoch: 192, Loss: 0.0254\n"
     ]
    },
    {
     "name": "stderr",
     "output_type": "stream",
     "text": [
      " 96%|█████████▋| 193/200 [01:00<00:02,  3.21it/s]"
     ]
    },
    {
     "name": "stdout",
     "output_type": "stream",
     "text": [
      "Epoch: 193, Loss: 0.0364\n"
     ]
    },
    {
     "name": "stderr",
     "output_type": "stream",
     "text": [
      " 97%|█████████▋| 194/200 [01:00<00:01,  3.22it/s]"
     ]
    },
    {
     "name": "stdout",
     "output_type": "stream",
     "text": [
      "Epoch: 194, Loss: 0.0297\n"
     ]
    },
    {
     "name": "stderr",
     "output_type": "stream",
     "text": [
      " 98%|█████████▊| 195/200 [01:00<00:01,  3.21it/s]"
     ]
    },
    {
     "name": "stdout",
     "output_type": "stream",
     "text": [
      "Epoch: 195, Loss: 0.0298\n"
     ]
    },
    {
     "name": "stderr",
     "output_type": "stream",
     "text": [
      " 98%|█████████▊| 196/200 [01:01<00:01,  3.20it/s]"
     ]
    },
    {
     "name": "stdout",
     "output_type": "stream",
     "text": [
      "Epoch: 196, Loss: 0.0323\n"
     ]
    },
    {
     "name": "stderr",
     "output_type": "stream",
     "text": [
      " 98%|█████████▊| 197/200 [01:01<00:00,  3.21it/s]"
     ]
    },
    {
     "name": "stdout",
     "output_type": "stream",
     "text": [
      "Epoch: 197, Loss: 0.0308\n"
     ]
    },
    {
     "name": "stderr",
     "output_type": "stream",
     "text": [
      " 99%|█████████▉| 198/200 [01:01<00:00,  3.21it/s]"
     ]
    },
    {
     "name": "stdout",
     "output_type": "stream",
     "text": [
      "Epoch: 198, Loss: 0.0225\n"
     ]
    },
    {
     "name": "stderr",
     "output_type": "stream",
     "text": [
      "100%|█████████▉| 199/200 [01:02<00:00,  3.21it/s]"
     ]
    },
    {
     "name": "stdout",
     "output_type": "stream",
     "text": [
      "Epoch: 199, Loss: 0.0396\n"
     ]
    },
    {
     "name": "stderr",
     "output_type": "stream",
     "text": [
      "100%|██████████| 200/200 [01:02<00:00,  3.21it/s]"
     ]
    },
    {
     "name": "stdout",
     "output_type": "stream",
     "text": [
      "Epoch: 200, Loss: 0.0239\n"
     ]
    },
    {
     "name": "stderr",
     "output_type": "stream",
     "text": [
      "\n"
     ]
    }
   ],
   "source": [
    "\n",
    "model=SAGE(data.num_features,[50,50],dataset.num_classes)\n",
    "model.criterion = torch.nn.CrossEntropyLoss()  # Define loss criterion.\n",
    "model.optimizer = torch.optim.Adam(model.parameters(), lr=0.01, weight_decay=5e-4)  # Define optimizer.\n",
    "\n",
    "model._train(data)"
   ]
  },
  {
   "cell_type": "code",
   "execution_count": 25,
   "id": "00b0545a-b43d-44e0-9f2c-3e8fc57ea2ad",
   "metadata": {},
   "outputs": [
    {
     "name": "stdout",
     "output_type": "stream",
     "text": [
      "Test Accuracy: 0.7900\n"
     ]
    }
   ],
   "source": [
    "model._test(data)"
   ]
  },
  {
   "cell_type": "code",
   "execution_count": 26,
   "id": "041e1d4b-3a60-4b44-a777-bef54ca28199",
   "metadata": {},
   "outputs": [
    {
     "name": "stderr",
     "output_type": "stream",
     "text": [
      " 96%|█████████▌| 191/200 [01:03<00:03,  2.99it/s]"
     ]
    },
    {
     "name": "stdout",
     "output_type": "stream",
     "text": [
      "Epoch: 191, Loss: 0.0167\n"
     ]
    },
    {
     "name": "stderr",
     "output_type": "stream",
     "text": [
      " 96%|█████████▌| 192/200 [01:04<00:02,  2.99it/s]"
     ]
    },
    {
     "name": "stdout",
     "output_type": "stream",
     "text": [
      "Epoch: 192, Loss: 0.0177\n"
     ]
    },
    {
     "name": "stderr",
     "output_type": "stream",
     "text": [
      " 96%|█████████▋| 193/200 [01:04<00:02,  2.98it/s]"
     ]
    },
    {
     "name": "stdout",
     "output_type": "stream",
     "text": [
      "Epoch: 193, Loss: 0.0195\n"
     ]
    },
    {
     "name": "stderr",
     "output_type": "stream",
     "text": [
      " 97%|█████████▋| 194/200 [01:04<00:02,  2.97it/s]"
     ]
    },
    {
     "name": "stdout",
     "output_type": "stream",
     "text": [
      "Epoch: 194, Loss: 0.0188\n"
     ]
    },
    {
     "name": "stderr",
     "output_type": "stream",
     "text": [
      " 98%|█████████▊| 195/200 [01:05<00:01,  2.98it/s]"
     ]
    },
    {
     "name": "stdout",
     "output_type": "stream",
     "text": [
      "Epoch: 195, Loss: 0.0179\n"
     ]
    },
    {
     "name": "stderr",
     "output_type": "stream",
     "text": [
      " 98%|█████████▊| 196/200 [01:05<00:01,  2.98it/s]"
     ]
    },
    {
     "name": "stdout",
     "output_type": "stream",
     "text": [
      "Epoch: 196, Loss: 0.0167\n"
     ]
    },
    {
     "name": "stderr",
     "output_type": "stream",
     "text": [
      " 98%|█████████▊| 197/200 [01:05<00:01,  2.98it/s]"
     ]
    },
    {
     "name": "stdout",
     "output_type": "stream",
     "text": [
      "Epoch: 197, Loss: 0.0139\n"
     ]
    },
    {
     "name": "stderr",
     "output_type": "stream",
     "text": [
      " 99%|█████████▉| 198/200 [01:06<00:00,  2.98it/s]"
     ]
    },
    {
     "name": "stdout",
     "output_type": "stream",
     "text": [
      "Epoch: 198, Loss: 0.0142\n"
     ]
    },
    {
     "name": "stderr",
     "output_type": "stream",
     "text": [
      "100%|█████████▉| 199/200 [01:06<00:00,  2.98it/s]"
     ]
    },
    {
     "name": "stdout",
     "output_type": "stream",
     "text": [
      "Epoch: 199, Loss: 0.0186\n"
     ]
    },
    {
     "name": "stderr",
     "output_type": "stream",
     "text": [
      "100%|██████████| 200/200 [01:06<00:00,  2.99it/s]"
     ]
    },
    {
     "name": "stdout",
     "output_type": "stream",
     "text": [
      "Epoch: 200, Loss: 0.0144\n"
     ]
    },
    {
     "name": "stderr",
     "output_type": "stream",
     "text": [
      "\n"
     ]
    }
   ],
   "source": [
    "\n",
    "model=SAGE(data.num_features,[100,100],dataset.num_classes)\n",
    "model.criterion = torch.nn.CrossEntropyLoss()  # Define loss criterion.\n",
    "model.optimizer = torch.optim.Adam(model.parameters(), lr=0.01, weight_decay=5e-4)  # Define optimizer.\n",
    "\n",
    "model._train(data)"
   ]
  },
  {
   "cell_type": "code",
   "execution_count": 27,
   "id": "94292ff0-7fc5-4d8a-96d0-c26dd943da8c",
   "metadata": {},
   "outputs": [
    {
     "name": "stdout",
     "output_type": "stream",
     "text": [
      "Test Accuracy: 0.7500\n"
     ]
    }
   ],
   "source": [
    "model._test(data)"
   ]
  },
  {
   "cell_type": "code",
   "execution_count": 28,
   "id": "e9524816-f359-4a6d-bd89-e10c0a5c19ab",
   "metadata": {},
   "outputs": [
    {
     "name": "stderr",
     "output_type": "stream",
     "text": [
      " 96%|█████████▌| 191/200 [01:01<00:02,  3.11it/s]"
     ]
    },
    {
     "name": "stdout",
     "output_type": "stream",
     "text": [
      "Epoch: 191, Loss: 0.0531\n"
     ]
    },
    {
     "name": "stderr",
     "output_type": "stream",
     "text": [
      " 96%|█████████▌| 192/200 [01:01<00:02,  3.11it/s]"
     ]
    },
    {
     "name": "stdout",
     "output_type": "stream",
     "text": [
      "Epoch: 192, Loss: 0.0166\n"
     ]
    },
    {
     "name": "stderr",
     "output_type": "stream",
     "text": [
      " 96%|█████████▋| 193/200 [01:02<00:02,  3.11it/s]"
     ]
    },
    {
     "name": "stdout",
     "output_type": "stream",
     "text": [
      "Epoch: 193, Loss: 0.0435\n"
     ]
    },
    {
     "name": "stderr",
     "output_type": "stream",
     "text": [
      " 97%|█████████▋| 194/200 [01:02<00:01,  3.10it/s]"
     ]
    },
    {
     "name": "stdout",
     "output_type": "stream",
     "text": [
      "Epoch: 194, Loss: 0.0350\n"
     ]
    },
    {
     "name": "stderr",
     "output_type": "stream",
     "text": [
      " 98%|█████████▊| 195/200 [01:02<00:01,  3.04it/s]"
     ]
    },
    {
     "name": "stdout",
     "output_type": "stream",
     "text": [
      "Epoch: 195, Loss: 0.0312\n"
     ]
    },
    {
     "name": "stderr",
     "output_type": "stream",
     "text": [
      " 98%|█████████▊| 196/200 [01:03<00:01,  3.05it/s]"
     ]
    },
    {
     "name": "stdout",
     "output_type": "stream",
     "text": [
      "Epoch: 196, Loss: 0.0192\n"
     ]
    },
    {
     "name": "stderr",
     "output_type": "stream",
     "text": [
      " 98%|█████████▊| 197/200 [01:03<00:00,  3.06it/s]"
     ]
    },
    {
     "name": "stdout",
     "output_type": "stream",
     "text": [
      "Epoch: 197, Loss: 0.0197\n"
     ]
    },
    {
     "name": "stderr",
     "output_type": "stream",
     "text": [
      " 99%|█████████▉| 198/200 [01:03<00:00,  3.08it/s]"
     ]
    },
    {
     "name": "stdout",
     "output_type": "stream",
     "text": [
      "Epoch: 198, Loss: 0.0195\n"
     ]
    },
    {
     "name": "stderr",
     "output_type": "stream",
     "text": [
      "100%|█████████▉| 199/200 [01:04<00:00,  3.08it/s]"
     ]
    },
    {
     "name": "stdout",
     "output_type": "stream",
     "text": [
      "Epoch: 199, Loss: 0.0194\n"
     ]
    },
    {
     "name": "stderr",
     "output_type": "stream",
     "text": [
      "100%|██████████| 200/200 [01:04<00:00,  3.10it/s]"
     ]
    },
    {
     "name": "stdout",
     "output_type": "stream",
     "text": [
      "Epoch: 200, Loss: 0.0345\n"
     ]
    },
    {
     "name": "stderr",
     "output_type": "stream",
     "text": [
      "\n"
     ]
    },
    {
     "name": "stdout",
     "output_type": "stream",
     "text": [
      "Test Accuracy: 0.7600\n"
     ]
    }
   ],
   "source": [
    "\n",
    "model=SAGE(data.num_features,[50,50,50],dataset.num_classes)\n",
    "model.criterion = torch.nn.CrossEntropyLoss()  # Define loss criterion.\n",
    "model.optimizer = torch.optim.Adam(model.parameters(), lr=0.01, weight_decay=5e-4)  # Define optimizer.\n",
    "\n",
    "model._train(data)\n",
    "model._test(data)"
   ]
  },
  {
   "cell_type": "code",
   "execution_count": 29,
   "id": "6caff894-c15a-4344-a3c5-ca61d6317f80",
   "metadata": {},
   "outputs": [
    {
     "name": "stderr",
     "output_type": "stream",
     "text": [
      " 96%|█████████▌| 191/200 [00:58<00:02,  3.30it/s]"
     ]
    },
    {
     "name": "stdout",
     "output_type": "stream",
     "text": [
      "Epoch: 191, Loss: 0.3009\n"
     ]
    },
    {
     "name": "stderr",
     "output_type": "stream",
     "text": [
      " 96%|█████████▌| 192/200 [00:58<00:02,  3.28it/s]"
     ]
    },
    {
     "name": "stdout",
     "output_type": "stream",
     "text": [
      "Epoch: 192, Loss: 0.3941\n"
     ]
    },
    {
     "name": "stderr",
     "output_type": "stream",
     "text": [
      " 96%|█████████▋| 193/200 [00:58<00:02,  3.29it/s]"
     ]
    },
    {
     "name": "stdout",
     "output_type": "stream",
     "text": [
      "Epoch: 193, Loss: 0.3114\n"
     ]
    },
    {
     "name": "stderr",
     "output_type": "stream",
     "text": [
      " 97%|█████████▋| 194/200 [00:59<00:01,  3.29it/s]"
     ]
    },
    {
     "name": "stdout",
     "output_type": "stream",
     "text": [
      "Epoch: 194, Loss: 0.3474\n"
     ]
    },
    {
     "name": "stderr",
     "output_type": "stream",
     "text": [
      " 98%|█████████▊| 195/200 [00:59<00:01,  3.30it/s]"
     ]
    },
    {
     "name": "stdout",
     "output_type": "stream",
     "text": [
      "Epoch: 195, Loss: 0.2643\n"
     ]
    },
    {
     "name": "stderr",
     "output_type": "stream",
     "text": [
      " 98%|█████████▊| 196/200 [00:59<00:01,  3.30it/s]"
     ]
    },
    {
     "name": "stdout",
     "output_type": "stream",
     "text": [
      "Epoch: 196, Loss: 0.3942\n"
     ]
    },
    {
     "name": "stderr",
     "output_type": "stream",
     "text": [
      " 98%|█████████▊| 197/200 [01:00<00:00,  3.30it/s]"
     ]
    },
    {
     "name": "stdout",
     "output_type": "stream",
     "text": [
      "Epoch: 197, Loss: 0.3522\n"
     ]
    },
    {
     "name": "stderr",
     "output_type": "stream",
     "text": [
      " 99%|█████████▉| 198/200 [01:00<00:00,  3.30it/s]"
     ]
    },
    {
     "name": "stdout",
     "output_type": "stream",
     "text": [
      "Epoch: 198, Loss: 0.2413\n"
     ]
    },
    {
     "name": "stderr",
     "output_type": "stream",
     "text": [
      "100%|█████████▉| 199/200 [01:00<00:00,  3.24it/s]"
     ]
    },
    {
     "name": "stdout",
     "output_type": "stream",
     "text": [
      "Epoch: 199, Loss: 0.3972\n"
     ]
    },
    {
     "name": "stderr",
     "output_type": "stream",
     "text": [
      "100%|██████████| 200/200 [01:00<00:00,  3.28it/s]"
     ]
    },
    {
     "name": "stdout",
     "output_type": "stream",
     "text": [
      "Epoch: 200, Loss: 0.2662\n"
     ]
    },
    {
     "name": "stderr",
     "output_type": "stream",
     "text": [
      "\n"
     ]
    },
    {
     "name": "stdout",
     "output_type": "stream",
     "text": [
      "Test Accuracy: 0.5900\n"
     ]
    }
   ],
   "source": [
    "\n",
    "model=SAGE(data.num_features,[20,20,20],dataset.num_classes)\n",
    "model.criterion = torch.nn.CrossEntropyLoss()  # Define loss criterion.\n",
    "model.optimizer = torch.optim.Adam(model.parameters(), lr=0.01, weight_decay=5e-4)  # Define optimizer.\n",
    "\n",
    "model._train(data,epoch=200)\n",
    "model._test(data)"
   ]
  },
  {
   "cell_type": "markdown",
   "id": "94817518-aa92-4d19-8fa6-047ada2c2189",
   "metadata": {},
   "source": [
    "## 实践问题二：在边预测任务中，尝试用`torch_geometric.nn.Sequential`容器构造图神经网络。\n"
   ]
  },
  {
   "cell_type": "markdown",
   "id": "63c3e9b0-7929-4b14-a801-e868eed4c5d7",
   "metadata": {},
   "source": [
    "### 教程代码试运行"
   ]
  },
  {
   "cell_type": "code",
   "execution_count": null,
   "id": "b187adeb-a741-4d0b-a46f-315c17e62816",
   "metadata": {},
   "outputs": [],
   "source": [
    "\n",
    "\n",
    "import os.path as osp\n",
    "\n",
    "from torch_geometric.utils import negative_sampling\n",
    "from torch_geometric.datasets import Planetoid\n",
    "import torch_geometric.transforms as T\n",
    "from torch_geometric.utils import train_test_split_edges\n",
    "\n",
    "dataset = Planetoid('dataset/Cora', 'Cora', transform=T.NormalizeFeatures())\n",
    "data = dataset[0]\n",
    "data.train_mask = data.val_mask = data.test_mask = data.y = None # 不再有用\n",
    "\n",
    "print(data.edge_index.shape)\n",
    "# torch.Size([2, 10556])\n",
    "\n",
    "data = train_test_split_edges(data)\n",
    "\n",
    "for key in data.keys:\n",
    "    print(key, getattr(data, key).shape)\n",
    "\n",
    "# x torch.Size([2708, 1433])\n",
    "# val_pos_edge_index torch.Size([2, 263])\n",
    "# test_pos_edge_index torch.Size([2, 527])\n",
    "# train_pos_edge_index torch.Size([2, 8976])\n",
    "# train_neg_adj_mask torch.Size([2708, 2708])\n",
    "# val_neg_edge_index torch.Size([2, 263])\n",
    "# test_neg_edge_index torch.Size([2, 527])\n",
    "# 263 + 527 + 8976 = 9766 != 10556\n",
    "# 263 + 527 + 8976/2 = 5278 = 10556/2"
   ]
  },
  {
   "cell_type": "code",
   "execution_count": 33,
   "id": "5eae9d11-98b1-44bf-bb27-b46b3188406d",
   "metadata": {},
   "outputs": [],
   "source": [
    "import torch\n",
    "from torch_geometric.nn import GCNConv\n",
    "\n",
    "class Net(torch.nn.Module):\n",
    "    def __init__(self, in_channels, out_channels):\n",
    "        super(Net, self).__init__()\n",
    "        self.conv1 = GCNConv(in_channels, 128)\n",
    "        self.conv2 = GCNConv(128, out_channels)\n",
    "\n",
    "    def encode(self, x, edge_index):\n",
    "        x = self.conv1(x, edge_index)\n",
    "        x = x.relu()\n",
    "        return self.conv2(x, edge_index)\n",
    "\n",
    "    def decode(self, z, pos_edge_index, neg_edge_index):\n",
    "        edge_index = torch.cat([pos_edge_index, neg_edge_index], dim=-1)\n",
    "        return (z[edge_index[0]] * z[edge_index[1]]).sum(dim=-1)\n",
    "\n",
    "    def decode_all(self, z):\n",
    "        prob_adj = z @ z.t()\n",
    "        return (prob_adj > 0).nonzero(as_tuple=False).t()\n",
    "\n"
   ]
  },
  {
   "cell_type": "code",
   "execution_count": null,
   "id": "c74e2b9e-7c22-4985-819d-4bae90509dda",
   "metadata": {},
   "outputs": [],
   "source": []
  },
  {
   "cell_type": "code",
   "execution_count": 34,
   "id": "e335b033-b8a5-497a-826f-2cf55c69c97b",
   "metadata": {},
   "outputs": [],
   "source": [
    "def get_link_labels(pos_edge_index, neg_edge_index):\n",
    "    num_links = pos_edge_index.size(1) + neg_edge_index.size(1)\n",
    "    link_labels = torch.zeros(num_links, dtype=torch.float)\n",
    "    link_labels[:pos_edge_index.size(1)] = 1.\n",
    "    return link_labels\n",
    "\n",
    "def train(data, model, optimizer):\n",
    "    model.train()\n",
    "\n",
    "    neg_edge_index = negative_sampling(\n",
    "        edge_index=data.train_pos_edge_index,\n",
    "        num_nodes=data.num_nodes,\n",
    "        num_neg_samples=data.train_pos_edge_index.size(1))\n",
    "\n",
    "    optimizer.zero_grad()\n",
    "    z = model.encode(data.x, data.train_pos_edge_index)\n",
    "    link_logits = model.decode(z, data.train_pos_edge_index, neg_edge_index)\n",
    "    link_labels = get_link_labels(data.train_pos_edge_index, neg_edge_index).to(data.x.device)\n",
    "    loss = F.binary_cross_entropy_with_logits(link_logits, link_labels)\n",
    "    loss.backward()\n",
    "    optimizer.step()\n",
    "\n",
    "    return loss\n",
    "\n"
   ]
  },
  {
   "cell_type": "code",
   "execution_count": 35,
   "id": "616acc8d-d8c2-4673-afab-112f2691011b",
   "metadata": {},
   "outputs": [],
   "source": [
    "@torch.no_grad()\n",
    "def test(data, model):\n",
    "    model.eval()\n",
    "\n",
    "    z = model.encode(data.x, data.train_pos_edge_index)\n",
    "\n",
    "    results = []\n",
    "    for prefix in ['val', 'test']:\n",
    "        pos_edge_index = data[f'{prefix}_pos_edge_index']\n",
    "        neg_edge_index = data[f'{prefix}_neg_edge_index']\n",
    "        link_logits = model.decode(z, pos_edge_index, neg_edge_index)\n",
    "        link_probs = link_logits.sigmoid()\n",
    "        link_labels = get_link_labels(pos_edge_index, neg_edge_index)\n",
    "        results.append(roc_auc_score(link_labels.cpu(), link_probs.cpu()))\n",
    "    return results\n",
    "\n"
   ]
  },
  {
   "cell_type": "code",
   "execution_count": null,
   "id": "b4d2570e-0f6d-4df8-8532-861ea673b13b",
   "metadata": {},
   "outputs": [],
   "source": []
  },
  {
   "cell_type": "code",
   "execution_count": 36,
   "id": "9f18b9f6-b38c-4e7d-8595-02970b27fbbb",
   "metadata": {},
   "outputs": [],
   "source": [
    "\n",
    "from logging import root\n",
    "import os.path as osp\n",
    "\n",
    "import torch\n",
    "import torch.nn.functional as F\n",
    "import torch_geometric.transforms as T\n",
    "from sklearn.metrics import roc_auc_score\n",
    "from torch_geometric.datasets import Planetoid\n",
    "from torch_geometric.nn import GCNConv\n",
    "from torch_geometric.utils import negative_sampling, train_test_split_edges\n",
    "\n"
   ]
  },
  {
   "cell_type": "code",
   "execution_count": 37,
   "id": "2d4e7b49-7307-49a3-9be0-8f282c7ed5b6",
   "metadata": {},
   "outputs": [
    {
     "name": "stdout",
     "output_type": "stream",
     "text": [
      "Epoch: 001, Loss: 0.6930, Val: 0.7185, Test: 0.6651\n",
      "Epoch: 002, Loss: 0.6810, Val: 0.7098, Test: 0.6651\n",
      "Epoch: 003, Loss: 0.7166, Val: 0.7193, Test: 0.6629\n",
      "Epoch: 004, Loss: 0.6768, Val: 0.7393, Test: 0.6767\n",
      "Epoch: 005, Loss: 0.6849, Val: 0.7797, Test: 0.7122\n",
      "Epoch: 006, Loss: 0.6890, Val: 0.8133, Test: 0.7473\n",
      "Epoch: 007, Loss: 0.6905, Val: 0.7832, Test: 0.7473\n",
      "Epoch: 008, Loss: 0.6906, Val: 0.7526, Test: 0.7473\n",
      "Epoch: 009, Loss: 0.6896, Val: 0.7414, Test: 0.7473\n",
      "Epoch: 010, Loss: 0.6872, Val: 0.7382, Test: 0.7473\n",
      "Epoch: 011, Loss: 0.6829, Val: 0.7367, Test: 0.7473\n",
      "Epoch: 012, Loss: 0.6783, Val: 0.7329, Test: 0.7473\n",
      "Epoch: 013, Loss: 0.6781, Val: 0.7329, Test: 0.7473\n",
      "Epoch: 014, Loss: 0.6773, Val: 0.7338, Test: 0.7473\n",
      "Epoch: 015, Loss: 0.6696, Val: 0.7336, Test: 0.7473\n",
      "Epoch: 016, Loss: 0.6640, Val: 0.7310, Test: 0.7473\n",
      "Epoch: 017, Loss: 0.6603, Val: 0.7293, Test: 0.7473\n",
      "Epoch: 018, Loss: 0.6546, Val: 0.7271, Test: 0.7473\n",
      "Epoch: 019, Loss: 0.6467, Val: 0.7273, Test: 0.7473\n",
      "Epoch: 020, Loss: 0.6396, Val: 0.7401, Test: 0.7473\n",
      "Epoch: 021, Loss: 0.6323, Val: 0.7682, Test: 0.7473\n",
      "Epoch: 022, Loss: 0.6194, Val: 0.7882, Test: 0.7473\n",
      "Epoch: 023, Loss: 0.6060, Val: 0.7922, Test: 0.7473\n",
      "Epoch: 024, Loss: 0.5944, Val: 0.7922, Test: 0.7473\n",
      "Epoch: 025, Loss: 0.5815, Val: 0.7923, Test: 0.7473\n",
      "Epoch: 026, Loss: 0.5703, Val: 0.7897, Test: 0.7473\n",
      "Epoch: 027, Loss: 0.5659, Val: 0.7843, Test: 0.7473\n",
      "Epoch: 028, Loss: 0.5521, Val: 0.7821, Test: 0.7473\n",
      "Epoch: 029, Loss: 0.5499, Val: 0.7875, Test: 0.7473\n",
      "Epoch: 030, Loss: 0.5445, Val: 0.7977, Test: 0.7473\n",
      "Epoch: 031, Loss: 0.5423, Val: 0.8097, Test: 0.7473\n",
      "Epoch: 032, Loss: 0.5364, Val: 0.8179, Test: 0.8117\n",
      "Epoch: 033, Loss: 0.5287, Val: 0.8242, Test: 0.8173\n",
      "Epoch: 034, Loss: 0.5208, Val: 0.8257, Test: 0.8227\n",
      "Epoch: 035, Loss: 0.5124, Val: 0.8264, Test: 0.8235\n",
      "Epoch: 036, Loss: 0.5108, Val: 0.8276, Test: 0.8231\n",
      "Epoch: 037, Loss: 0.5030, Val: 0.8269, Test: 0.8231\n",
      "Epoch: 038, Loss: 0.5126, Val: 0.8245, Test: 0.8231\n",
      "Epoch: 039, Loss: 0.5121, Val: 0.8243, Test: 0.8231\n",
      "Epoch: 040, Loss: 0.5115, Val: 0.8287, Test: 0.8278\n",
      "Epoch: 041, Loss: 0.5044, Val: 0.8329, Test: 0.8309\n",
      "Epoch: 042, Loss: 0.5002, Val: 0.8333, Test: 0.8326\n",
      "Epoch: 043, Loss: 0.4970, Val: 0.8336, Test: 0.8334\n",
      "Epoch: 044, Loss: 0.4976, Val: 0.8386, Test: 0.8375\n",
      "Epoch: 045, Loss: 0.4945, Val: 0.8432, Test: 0.8427\n",
      "Epoch: 046, Loss: 0.4894, Val: 0.8446, Test: 0.8457\n",
      "Epoch: 047, Loss: 0.4895, Val: 0.8453, Test: 0.8481\n",
      "Epoch: 048, Loss: 0.4885, Val: 0.8434, Test: 0.8481\n",
      "Epoch: 049, Loss: 0.4895, Val: 0.8465, Test: 0.8518\n",
      "Epoch: 050, Loss: 0.4847, Val: 0.8508, Test: 0.8577\n",
      "Epoch: 051, Loss: 0.4846, Val: 0.8542, Test: 0.8622\n",
      "Epoch: 052, Loss: 0.4824, Val: 0.8565, Test: 0.8664\n",
      "Epoch: 053, Loss: 0.4755, Val: 0.8591, Test: 0.8698\n",
      "Epoch: 054, Loss: 0.4740, Val: 0.8645, Test: 0.8750\n",
      "Epoch: 055, Loss: 0.4820, Val: 0.8694, Test: 0.8801\n",
      "Epoch: 056, Loss: 0.4740, Val: 0.8707, Test: 0.8828\n",
      "Epoch: 057, Loss: 0.4739, Val: 0.8702, Test: 0.8828\n",
      "Epoch: 058, Loss: 0.4763, Val: 0.8705, Test: 0.8828\n",
      "Epoch: 059, Loss: 0.4659, Val: 0.8733, Test: 0.8884\n",
      "Epoch: 060, Loss: 0.4739, Val: 0.8750, Test: 0.8900\n",
      "Epoch: 061, Loss: 0.4658, Val: 0.8745, Test: 0.8900\n",
      "Epoch: 062, Loss: 0.4700, Val: 0.8723, Test: 0.8900\n",
      "Epoch: 063, Loss: 0.4647, Val: 0.8732, Test: 0.8900\n",
      "Epoch: 064, Loss: 0.4665, Val: 0.8745, Test: 0.8900\n",
      "Epoch: 065, Loss: 0.4683, Val: 0.8746, Test: 0.8900\n",
      "Epoch: 066, Loss: 0.4693, Val: 0.8746, Test: 0.8900\n",
      "Epoch: 067, Loss: 0.4624, Val: 0.8737, Test: 0.8900\n",
      "Epoch: 068, Loss: 0.4683, Val: 0.8714, Test: 0.8900\n",
      "Epoch: 069, Loss: 0.4652, Val: 0.8711, Test: 0.8900\n",
      "Epoch: 070, Loss: 0.4652, Val: 0.8703, Test: 0.8900\n",
      "Epoch: 071, Loss: 0.4670, Val: 0.8694, Test: 0.8900\n",
      "Epoch: 072, Loss: 0.4609, Val: 0.8695, Test: 0.8900\n",
      "Epoch: 073, Loss: 0.4593, Val: 0.8699, Test: 0.8900\n",
      "Epoch: 074, Loss: 0.4597, Val: 0.8690, Test: 0.8900\n",
      "Epoch: 075, Loss: 0.4638, Val: 0.8700, Test: 0.8900\n",
      "Epoch: 076, Loss: 0.4594, Val: 0.8713, Test: 0.8900\n",
      "Epoch: 077, Loss: 0.4527, Val: 0.8724, Test: 0.8900\n",
      "Epoch: 078, Loss: 0.4610, Val: 0.8727, Test: 0.8900\n",
      "Epoch: 079, Loss: 0.4624, Val: 0.8728, Test: 0.8900\n",
      "Epoch: 080, Loss: 0.4563, Val: 0.8740, Test: 0.8900\n",
      "Epoch: 081, Loss: 0.4582, Val: 0.8756, Test: 0.8997\n",
      "Epoch: 082, Loss: 0.4639, Val: 0.8760, Test: 0.8998\n",
      "Epoch: 083, Loss: 0.4573, Val: 0.8757, Test: 0.8998\n",
      "Epoch: 084, Loss: 0.4579, Val: 0.8758, Test: 0.8998\n",
      "Epoch: 085, Loss: 0.4513, Val: 0.8766, Test: 0.9010\n",
      "Epoch: 086, Loss: 0.4502, Val: 0.8784, Test: 0.9028\n",
      "Epoch: 087, Loss: 0.4581, Val: 0.8787, Test: 0.9030\n",
      "Epoch: 088, Loss: 0.4526, Val: 0.8781, Test: 0.9030\n",
      "Epoch: 089, Loss: 0.4554, Val: 0.8782, Test: 0.9030\n",
      "Epoch: 090, Loss: 0.4569, Val: 0.8796, Test: 0.9066\n",
      "Epoch: 091, Loss: 0.4551, Val: 0.8801, Test: 0.9069\n",
      "Epoch: 092, Loss: 0.4493, Val: 0.8804, Test: 0.9071\n",
      "Epoch: 093, Loss: 0.4468, Val: 0.8814, Test: 0.9079\n",
      "Epoch: 094, Loss: 0.4450, Val: 0.8817, Test: 0.9085\n",
      "Epoch: 095, Loss: 0.4514, Val: 0.8810, Test: 0.9085\n",
      "Epoch: 096, Loss: 0.4460, Val: 0.8818, Test: 0.9088\n",
      "Epoch: 097, Loss: 0.4508, Val: 0.8827, Test: 0.9088\n",
      "Epoch: 098, Loss: 0.4452, Val: 0.8831, Test: 0.9083\n",
      "Epoch: 099, Loss: 0.4441, Val: 0.8839, Test: 0.9093\n",
      "Epoch: 100, Loss: 0.4458, Val: 0.8854, Test: 0.9107\n"
     ]
    }
   ],
   "source": [
    "def main():\n",
    "    device = torch.device('cuda' if torch.cuda.is_available() else 'cpu')\n",
    "    \n",
    "    dataset = 'Cora'\n",
    "    #path = osp.join(osp.dirname(osp.realpath(__file__)), '.', 'dataset', dataset)\n",
    "    dataset = Planetoid('./dataset/Cora', dataset, transform=NormalizeFeatures())\n",
    "    data = dataset[0]\n",
    "    #ground_truth_edge_index = data.edge_index.to(device)\n",
    "    data.train_mask = data.val_mask = data.test_mask = data.y = None\n",
    "    data = train_test_split_edges(data)\n",
    "    #data = data.to(device)\n",
    "\n",
    "    model = Net(dataset.num_features, 64)#.to(device)\n",
    "    optimizer = torch.optim.Adam(params=model.parameters(), lr=0.01)\n",
    "\n",
    "    best_val_auc = test_auc = 0\n",
    "    for epoch in range(1, 101):\n",
    "        loss = train(data, model, optimizer)\n",
    "        val_auc, tmp_test_auc = test(data, model)\n",
    "        if val_auc > best_val_auc:\n",
    "            best_val_auc = val_auc\n",
    "            test_auc = tmp_test_auc\n",
    "        print(f'Epoch: {epoch:03d}, Loss: {loss:.4f}, Val: {val_auc:.4f}, '\n",
    "              f'Test: {test_auc:.4f}')\n",
    "\n",
    "    z = model.encode(data.x, data.train_pos_edge_index)\n",
    "    final_edge_index = model.decode_all(z)\n",
    "\n",
    "\n",
    "if __name__ == \"__main__\":\n",
    "    main()\n",
    "\n"
   ]
  },
  {
   "cell_type": "markdown",
   "id": "da1b9015-77f4-4462-878f-6adbaebc72b6",
   "metadata": {},
   "source": [
    "### Sequential实现"
   ]
  },
  {
   "cell_type": "code",
   "execution_count": 38,
   "id": "52ae6e0c-069f-4294-a178-741b9b713a7e",
   "metadata": {},
   "outputs": [],
   "source": [
    "import torch\n",
    "from torch_geometric.nn import GCNConv\n",
    "\n",
    "class Net(torch.nn.Module):\n",
    "    def __init__(self, in_channels, hidden_channels_list, out_channels):\n",
    "        super(Net, self).__init__()\n",
    "        hns = [in_channels]+hidden_channels_list\n",
    "        conv_list = []\n",
    "        for i in range(len(hns)-1):\n",
    "            conv_list.append(\n",
    "                (GCNConv(hns[i], hns[i+1]),'x, edge_index -> x')\n",
    "            )\n",
    "            conv_list.append(ReLU(inplace=True))\n",
    "\n",
    "        self.convseq = Sequential('x, edge_index', conv_list)\n",
    "        self.linear = Linear(hidden_channels_list[-1], out_channels)\n",
    "\n",
    "    def encode(self, x, edge_index):\n",
    "        \n",
    "        x = self.convseq(x, edge_index)\n",
    "        x = F.dropout(x, p=0.5, training=self.training)\n",
    "        x = self.linear(x)\n",
    "        return x\n",
    "\n",
    "    def decode(self, z, pos_edge_index, neg_edge_index):\n",
    "        edge_index = torch.cat([pos_edge_index, neg_edge_index], dim=-1)\n",
    "        return (z[edge_index[0]] * z[edge_index[1]]).sum(dim=-1)\n",
    "\n",
    "    def decode_all(self, z):\n",
    "        prob_adj = z @ z.t()\n",
    "        return (prob_adj > 0).nonzero(as_tuple=False).t()\n",
    "\n",
    "\n"
   ]
  },
  {
   "cell_type": "code",
   "execution_count": 39,
   "id": "89b50626-e7be-446a-934d-65a42c706e84",
   "metadata": {},
   "outputs": [
    {
     "name": "stdout",
     "output_type": "stream",
     "text": [
      "Epoch: 001, Loss: 0.6975, Val: 0.6611, Test: 0.6266\n",
      "Epoch: 002, Loss: 0.6938, Val: 0.7014, Test: 0.6854\n",
      "Epoch: 003, Loss: 0.6911, Val: 0.7041, Test: 0.6968\n",
      "Epoch: 004, Loss: 0.6873, Val: 0.7039, Test: 0.6968\n",
      "Epoch: 005, Loss: 0.6832, Val: 0.7012, Test: 0.6968\n",
      "Epoch: 006, Loss: 0.6769, Val: 0.7013, Test: 0.6968\n",
      "Epoch: 007, Loss: 0.6705, Val: 0.7074, Test: 0.6932\n",
      "Epoch: 008, Loss: 0.6611, Val: 0.7033, Test: 0.6932\n",
      "Epoch: 009, Loss: 0.6535, Val: 0.7091, Test: 0.6915\n",
      "Epoch: 010, Loss: 0.6451, Val: 0.7155, Test: 0.6900\n",
      "Epoch: 011, Loss: 0.6392, Val: 0.7150, Test: 0.6900\n",
      "Epoch: 012, Loss: 0.6431, Val: 0.7205, Test: 0.6834\n",
      "Epoch: 013, Loss: 0.6298, Val: 0.7301, Test: 0.6904\n",
      "Epoch: 014, Loss: 0.6256, Val: 0.7340, Test: 0.6989\n",
      "Epoch: 015, Loss: 0.6209, Val: 0.7410, Test: 0.6998\n",
      "Epoch: 016, Loss: 0.6129, Val: 0.7444, Test: 0.6919\n",
      "Epoch: 017, Loss: 0.6095, Val: 0.7496, Test: 0.6960\n",
      "Epoch: 018, Loss: 0.6026, Val: 0.7592, Test: 0.7079\n",
      "Epoch: 019, Loss: 0.5945, Val: 0.7649, Test: 0.7115\n",
      "Epoch: 020, Loss: 0.5985, Val: 0.7678, Test: 0.7158\n",
      "Epoch: 021, Loss: 0.5936, Val: 0.7636, Test: 0.7158\n",
      "Epoch: 022, Loss: 0.5948, Val: 0.7704, Test: 0.7212\n",
      "Epoch: 023, Loss: 0.5853, Val: 0.7767, Test: 0.7258\n",
      "Epoch: 024, Loss: 0.5841, Val: 0.7795, Test: 0.7278\n",
      "Epoch: 025, Loss: 0.5823, Val: 0.7770, Test: 0.7278\n",
      "Epoch: 026, Loss: 0.5815, Val: 0.7719, Test: 0.7278\n",
      "Epoch: 027, Loss: 0.5820, Val: 0.7710, Test: 0.7278\n",
      "Epoch: 028, Loss: 0.5773, Val: 0.7761, Test: 0.7278\n",
      "Epoch: 029, Loss: 0.5754, Val: 0.7783, Test: 0.7278\n",
      "Epoch: 030, Loss: 0.5716, Val: 0.7766, Test: 0.7278\n",
      "Epoch: 031, Loss: 0.5734, Val: 0.7743, Test: 0.7278\n",
      "Epoch: 032, Loss: 0.5733, Val: 0.7754, Test: 0.7278\n",
      "Epoch: 033, Loss: 0.5676, Val: 0.7779, Test: 0.7278\n",
      "Epoch: 034, Loss: 0.5665, Val: 0.7792, Test: 0.7278\n",
      "Epoch: 035, Loss: 0.5654, Val: 0.7781, Test: 0.7278\n",
      "Epoch: 036, Loss: 0.5703, Val: 0.7745, Test: 0.7278\n",
      "Epoch: 037, Loss: 0.5688, Val: 0.7717, Test: 0.7278\n",
      "Epoch: 038, Loss: 0.5627, Val: 0.7719, Test: 0.7278\n",
      "Epoch: 039, Loss: 0.5651, Val: 0.7750, Test: 0.7278\n",
      "Epoch: 040, Loss: 0.5652, Val: 0.7726, Test: 0.7278\n",
      "Epoch: 041, Loss: 0.5635, Val: 0.7672, Test: 0.7278\n",
      "Epoch: 042, Loss: 0.5609, Val: 0.7707, Test: 0.7278\n",
      "Epoch: 043, Loss: 0.5632, Val: 0.7747, Test: 0.7278\n",
      "Epoch: 044, Loss: 0.5554, Val: 0.7757, Test: 0.7278\n",
      "Epoch: 045, Loss: 0.5624, Val: 0.7725, Test: 0.7278\n",
      "Epoch: 046, Loss: 0.5612, Val: 0.7690, Test: 0.7278\n",
      "Epoch: 047, Loss: 0.5565, Val: 0.7717, Test: 0.7278\n",
      "Epoch: 048, Loss: 0.5598, Val: 0.7748, Test: 0.7278\n",
      "Epoch: 049, Loss: 0.5573, Val: 0.7756, Test: 0.7278\n",
      "Epoch: 050, Loss: 0.5552, Val: 0.7747, Test: 0.7278\n",
      "Epoch: 051, Loss: 0.5518, Val: 0.7702, Test: 0.7278\n",
      "Epoch: 052, Loss: 0.5594, Val: 0.7754, Test: 0.7278\n",
      "Epoch: 053, Loss: 0.5593, Val: 0.7788, Test: 0.7278\n",
      "Epoch: 054, Loss: 0.5596, Val: 0.7780, Test: 0.7278\n",
      "Epoch: 055, Loss: 0.5569, Val: 0.7737, Test: 0.7278\n",
      "Epoch: 056, Loss: 0.5573, Val: 0.7708, Test: 0.7278\n",
      "Epoch: 057, Loss: 0.5574, Val: 0.7741, Test: 0.7278\n",
      "Epoch: 058, Loss: 0.5582, Val: 0.7787, Test: 0.7278\n",
      "Epoch: 059, Loss: 0.5530, Val: 0.7789, Test: 0.7278\n",
      "Epoch: 060, Loss: 0.5590, Val: 0.7722, Test: 0.7278\n",
      "Epoch: 061, Loss: 0.5529, Val: 0.7667, Test: 0.7278\n",
      "Epoch: 062, Loss: 0.5566, Val: 0.7734, Test: 0.7278\n",
      "Epoch: 063, Loss: 0.5505, Val: 0.7803, Test: 0.7349\n",
      "Epoch: 064, Loss: 0.5554, Val: 0.7788, Test: 0.7349\n",
      "Epoch: 065, Loss: 0.5526, Val: 0.7674, Test: 0.7349\n",
      "Epoch: 066, Loss: 0.5490, Val: 0.7608, Test: 0.7349\n",
      "Epoch: 067, Loss: 0.5564, Val: 0.7685, Test: 0.7349\n",
      "Epoch: 068, Loss: 0.5460, Val: 0.7772, Test: 0.7349\n",
      "Epoch: 069, Loss: 0.5550, Val: 0.7740, Test: 0.7349\n",
      "Epoch: 070, Loss: 0.5553, Val: 0.7620, Test: 0.7349\n",
      "Epoch: 071, Loss: 0.5525, Val: 0.7602, Test: 0.7349\n",
      "Epoch: 072, Loss: 0.5531, Val: 0.7705, Test: 0.7349\n",
      "Epoch: 073, Loss: 0.5529, Val: 0.7762, Test: 0.7349\n",
      "Epoch: 074, Loss: 0.5534, Val: 0.7705, Test: 0.7349\n",
      "Epoch: 075, Loss: 0.5517, Val: 0.7603, Test: 0.7349\n",
      "Epoch: 076, Loss: 0.5568, Val: 0.7599, Test: 0.7349\n",
      "Epoch: 077, Loss: 0.5516, Val: 0.7690, Test: 0.7349\n",
      "Epoch: 078, Loss: 0.5507, Val: 0.7717, Test: 0.7349\n",
      "Epoch: 079, Loss: 0.5530, Val: 0.7669, Test: 0.7349\n",
      "Epoch: 080, Loss: 0.5487, Val: 0.7630, Test: 0.7349\n",
      "Epoch: 081, Loss: 0.5514, Val: 0.7667, Test: 0.7349\n",
      "Epoch: 082, Loss: 0.5488, Val: 0.7710, Test: 0.7349\n",
      "Epoch: 083, Loss: 0.5493, Val: 0.7705, Test: 0.7349\n",
      "Epoch: 084, Loss: 0.5519, Val: 0.7696, Test: 0.7349\n",
      "Epoch: 085, Loss: 0.5479, Val: 0.7691, Test: 0.7349\n",
      "Epoch: 086, Loss: 0.5460, Val: 0.7709, Test: 0.7349\n",
      "Epoch: 087, Loss: 0.5499, Val: 0.7715, Test: 0.7349\n",
      "Epoch: 088, Loss: 0.5475, Val: 0.7752, Test: 0.7349\n",
      "Epoch: 089, Loss: 0.5453, Val: 0.7740, Test: 0.7349\n",
      "Epoch: 090, Loss: 0.5464, Val: 0.7762, Test: 0.7349\n",
      "Epoch: 091, Loss: 0.5476, Val: 0.7807, Test: 0.7477\n",
      "Epoch: 092, Loss: 0.5438, Val: 0.7825, Test: 0.7494\n",
      "Epoch: 093, Loss: 0.5474, Val: 0.7829, Test: 0.7513\n",
      "Epoch: 094, Loss: 0.5420, Val: 0.7878, Test: 0.7555\n",
      "Epoch: 095, Loss: 0.5375, Val: 0.7924, Test: 0.7584\n",
      "Epoch: 096, Loss: 0.5418, Val: 0.7984, Test: 0.7606\n",
      "Epoch: 097, Loss: 0.5408, Val: 0.8043, Test: 0.7665\n",
      "Epoch: 098, Loss: 0.5374, Val: 0.8040, Test: 0.7665\n",
      "Epoch: 099, Loss: 0.5364, Val: 0.8084, Test: 0.7760\n",
      "Epoch: 100, Loss: 0.5344, Val: 0.8137, Test: 0.7771\n"
     ]
    }
   ],
   "source": [
    "def main():\n",
    "    device = torch.device('cuda' if torch.cuda.is_available() else 'cpu')\n",
    "    \n",
    "    dataset = 'Cora'\n",
    "    #path = osp.join(osp.dirname(osp.realpath(__file__)), '.', 'dataset', dataset)\n",
    "    dataset = Planetoid('./dataset/Cora', dataset, transform=NormalizeFeatures())\n",
    "    data = dataset[0]\n",
    "    #ground_truth_edge_index = data.edge_index.to(device)\n",
    "    data.train_mask = data.val_mask = data.test_mask = data.y = None\n",
    "    data = train_test_split_edges(data)\n",
    "    #data = data.to(device)\n",
    "\n",
    "    model = Net(dataset.num_features,[128], 64)#.to(device)\n",
    "    optimizer = torch.optim.Adam(params=model.parameters(), lr=0.01)\n",
    "\n",
    "    best_val_auc = test_auc = 0\n",
    "    for epoch in range(1, 101):\n",
    "        loss = train(data, model, optimizer)\n",
    "        val_auc, tmp_test_auc = test(data, model)\n",
    "        if val_auc > best_val_auc:\n",
    "            best_val_auc = val_auc\n",
    "            test_auc = tmp_test_auc\n",
    "        print(f'Epoch: {epoch:03d}, Loss: {loss:.4f}, Val: {val_auc:.4f}, '\n",
    "              f'Test: {test_auc:.4f}')\n",
    "\n",
    "    z = model.encode(data.x, data.train_pos_edge_index)\n",
    "    final_edge_index = model.decode_all(z)\n",
    "\n",
    "\n",
    "if __name__ == \"__main__\":\n",
    "    main()\n",
    "\n",
    "\n"
   ]
  },
  {
   "cell_type": "markdown",
   "id": "534f6464-2c40-4b3f-8dab-9256e81d9d84",
   "metadata": {},
   "source": [
    "## 思考问题三：如下方代码所示，我们以`data.train_pos_edge_index`为实际参数来进行训练集负样本采样，但这样采样得到的负样本可能包含一些验证集的正样本与测试集的正样本，即可能将真实的正样本标记为负样本，由此会产生冲突。但我们还是这么做，这是为什么？"
   ]
  },
  {
   "cell_type": "code",
   "execution_count": null,
   "id": "c5dfc68b-da68-4df7-971b-cea37c348305",
   "metadata": {},
   "outputs": [],
   "source": [
    "neg_edge_index = negative_sampling(\n",
    "    edge_index=data.train_pos_edge_index,\n",
    "    num_nodes=data.num_nodes,\n",
    "    num_neg_samples=data.train_pos_edge_index.size(1))"
   ]
  },
  {
   "cell_type": "raw",
   "id": "8f78883e-70b2-4374-aa86-84742a7b4f33",
   "metadata": {},
   "source": [
    "答：训练的时候不知道验证集和测试集的信息，所以只能将采样得到的验证集和测试集中包含的正样本忽略。\n",
    "而且，图网络边预测当中，负样本的数量比正样本的数量多得多，所以这样的忽略对算法影响很小。"
   ]
  },
  {
   "cell_type": "markdown",
   "id": "6dce2544-cc05-4b22-a254-2f5aef2a64d6",
   "metadata": {},
   "source": [
    "### 思考题探究过程"
   ]
  },
  {
   "cell_type": "markdown",
   "id": "8f7b8b85-83fb-48dc-8ca2-baffab434de9",
   "metadata": {},
   "source": [
    "#### 负样本中labels全为0，包括可能为验证集和测试集中正样本的样本"
   ]
  },
  {
   "cell_type": "code",
   "execution_count": 44,
   "id": "2afc651c-8a44-4a54-8aab-1b645bc84834",
   "metadata": {},
   "outputs": [],
   "source": [
    "model = Net(dataset.num_features,[128], 64)#.to(device)\n",
    "optimizer = torch.optim.Adam(params=model.parameters(), lr=0.01)\n",
    "\n",
    "z = model.encode(data.x, data.train_pos_edge_index)"
   ]
  },
  {
   "cell_type": "code",
   "execution_count": 83,
   "id": "271b679d-a73d-48dd-8887-07066d375aff",
   "metadata": {},
   "outputs": [
    {
     "data": {
      "text/plain": [
       "torch.Size([1054, 64])"
      ]
     },
     "execution_count": 83,
     "metadata": {},
     "output_type": "execute_result"
    }
   ],
   "source": [
    "z[c[0]].shape"
   ]
  },
  {
   "cell_type": "code",
   "execution_count": 79,
   "id": "8152aa25-9151-4a7e-9d55-76b9d07ef83d",
   "metadata": {},
   "outputs": [],
   "source": [
    "pos_edge_index = data['test_pos_edge_index']\n",
    "neg_edge_index = data['test_neg_edge_index']\n",
    "c = torch.cat([pos_edge_index, neg_edge_index], dim=-1)"
   ]
  },
  {
   "cell_type": "code",
   "execution_count": 67,
   "id": "098264b4-fd21-4014-a1d8-caed27ac7f4b",
   "metadata": {},
   "outputs": [
    {
     "data": {
      "text/plain": [
       "tensor([[ 756, 1838,   13,  ...,  143,  735, 1233],\n",
       "        [ 885, 2182, 1701,  ...,  598, 2061, 2433]])"
      ]
     },
     "execution_count": 67,
     "metadata": {},
     "output_type": "execute_result"
    }
   ],
   "source": [
    "pos_edge_index"
   ]
  },
  {
   "cell_type": "code",
   "execution_count": 88,
   "id": "a5cbf510-045d-4d45-bee3-82391479b534",
   "metadata": {},
   "outputs": [],
   "source": [
    "link_logits = model.decode(z, data.train_pos_edge_index, neg_edge_index)"
   ]
  },
  {
   "cell_type": "code",
   "execution_count": 89,
   "id": "51fe5483-24cd-44f2-8c01-9603c48acde7",
   "metadata": {},
   "outputs": [],
   "source": [
    "link_labels = get_link_labels(data.train_pos_edge_index, neg_edge_index).to(data.x.device)\n",
    "loss = F.binary_cross_entropy_with_logits(link_logits, link_labels)"
   ]
  },
  {
   "cell_type": "code",
   "execution_count": 91,
   "id": "0acd4d27-3c85-4a42-a260-ce9f8c96fbe8",
   "metadata": {},
   "outputs": [
    {
     "data": {
      "text/plain": [
       "tensor([1., 1., 1.,  ..., 0., 0., 0.])"
      ]
     },
     "execution_count": 91,
     "metadata": {},
     "output_type": "execute_result"
    }
   ],
   "source": [
    "link_labels"
   ]
  },
  {
   "cell_type": "code",
   "execution_count": 94,
   "id": "793c9c40-4448-417b-ba81-d7ced5dda29a",
   "metadata": {},
   "outputs": [
    {
     "data": {
      "text/plain": [
       "torch.Size([2, 527])"
      ]
     },
     "execution_count": 94,
     "metadata": {},
     "output_type": "execute_result"
    }
   ],
   "source": [
    "neg_edge_index.shape"
   ]
  },
  {
   "cell_type": "code",
   "execution_count": 95,
   "id": "2266feaa-7061-4886-837a-e959a67ef196",
   "metadata": {},
   "outputs": [
    {
     "data": {
      "text/plain": [
       "tensor([0., 0., 0., 0., 0., 0., 0., 0., 0., 0., 0., 0., 0., 0., 0., 0., 0., 0., 0., 0., 0., 0., 0., 0.,\n",
       "        0., 0., 0., 0., 0., 0., 0., 0., 0., 0., 0., 0., 0., 0., 0., 0., 0., 0., 0., 0., 0., 0., 0., 0.,\n",
       "        0., 0., 0., 0., 0., 0., 0., 0., 0., 0., 0., 0., 0., 0., 0., 0., 0., 0., 0., 0., 0., 0., 0., 0.,\n",
       "        0., 0., 0., 0., 0., 0., 0., 0., 0., 0., 0., 0., 0., 0., 0., 0., 0., 0., 0., 0., 0., 0., 0., 0.,\n",
       "        0., 0., 0., 0., 0., 0., 0., 0., 0., 0., 0., 0., 0., 0., 0., 0., 0., 0., 0., 0., 0., 0., 0., 0.,\n",
       "        0., 0., 0., 0., 0., 0., 0., 0., 0., 0., 0., 0., 0., 0., 0., 0., 0., 0., 0., 0., 0., 0., 0., 0.,\n",
       "        0., 0., 0., 0., 0., 0., 0., 0., 0., 0., 0., 0., 0., 0., 0., 0., 0., 0., 0., 0., 0., 0., 0., 0.,\n",
       "        0., 0., 0., 0., 0., 0., 0., 0., 0., 0., 0., 0., 0., 0., 0., 0., 0., 0., 0., 0., 0., 0., 0., 0.,\n",
       "        0., 0., 0., 0., 0., 0., 0., 0., 0., 0., 0., 0., 0., 0., 0., 0., 0., 0., 0., 0., 0., 0., 0., 0.,\n",
       "        0., 0., 0., 0., 0., 0., 0., 0., 0., 0., 0., 0., 0., 0., 0., 0., 0., 0., 0., 0., 0., 0., 0., 0.,\n",
       "        0., 0., 0., 0., 0., 0., 0., 0., 0., 0., 0., 0., 0., 0., 0., 0., 0., 0., 0., 0., 0., 0., 0., 0.,\n",
       "        0., 0., 0., 0., 0., 0., 0., 0., 0., 0., 0., 0., 0., 0., 0., 0., 0., 0., 0., 0., 0., 0., 0., 0.,\n",
       "        0., 0., 0., 0., 0., 0., 0., 0., 0., 0., 0., 0., 0., 0., 0., 0., 0., 0., 0., 0., 0., 0., 0., 0.,\n",
       "        0., 0., 0., 0., 0., 0., 0., 0., 0., 0., 0., 0., 0., 0., 0., 0., 0., 0., 0., 0., 0., 0., 0., 0.,\n",
       "        0., 0., 0., 0., 0., 0., 0., 0., 0., 0., 0., 0., 0., 0., 0., 0., 0., 0., 0., 0., 0., 0., 0., 0.,\n",
       "        0., 0., 0., 0., 0., 0., 0., 0., 0., 0., 0., 0., 0., 0., 0., 0., 0., 0., 0., 0., 0., 0., 0., 0.,\n",
       "        0., 0., 0., 0., 0., 0., 0., 0., 0., 0., 0., 0., 0., 0., 0., 0., 0., 0., 0., 0., 0., 0., 0., 0.,\n",
       "        0., 0., 0., 0., 0., 0., 0., 0., 0., 0., 0., 0., 0., 0., 0., 0., 0., 0., 0., 0., 0., 0., 0., 0.,\n",
       "        0., 0., 0., 0., 0., 0., 0., 0., 0., 0., 0., 0., 0., 0., 0., 0., 0., 0., 0., 0., 0., 0., 0., 0.,\n",
       "        0., 0., 0., 0., 0., 0., 0., 0., 0., 0., 0., 0., 0., 0., 0., 0., 0., 0., 0., 0., 0., 0., 0., 0.,\n",
       "        0., 0., 0., 0., 0., 0., 0., 0., 0., 0., 0., 0., 0., 0., 0., 0., 0., 0., 0., 0., 0., 0., 0., 0.,\n",
       "        0., 0., 0., 0., 0., 0., 0., 0., 0., 0., 0., 0., 0., 0., 0., 0., 0., 0., 0., 0., 0., 0., 0.])"
      ]
     },
     "execution_count": 95,
     "metadata": {},
     "output_type": "execute_result"
    }
   ],
   "source": [
    "link_labels[-527:]"
   ]
  },
  {
   "cell_type": "code",
   "execution_count": null,
   "id": "3982dfbd-91f1-4363-80ec-4ebd519e497f",
   "metadata": {},
   "outputs": [],
   "source": []
  }
 ],
 "metadata": {
  "kernelspec": {
   "display_name": "Python 3",
   "language": "python",
   "name": "python3"
  },
  "language_info": {
   "codemirror_mode": {
    "name": "ipython",
    "version": 3
   },
   "file_extension": ".py",
   "mimetype": "text/x-python",
   "name": "python",
   "nbconvert_exporter": "python",
   "pygments_lexer": "ipython3",
   "version": "3.8.5"
  }
 },
 "nbformat": 4,
 "nbformat_minor": 5
}
