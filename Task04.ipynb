{
 "cells": [
  {
   "cell_type": "markdown",
   "id": "893ef1e5-4991-4471-81e6-9ea7a0ea99a8",
   "metadata": {},
   "source": [
    "# 笔记"
   ]
  },
  {
   "cell_type": "code",
   "execution_count": null,
   "id": "6b857e85-0161-4c6b-be08-c1b686df4acd",
   "metadata": {},
   "outputs": [],
   "source": []
  },
  {
   "cell_type": "markdown",
   "id": "87e3f8a7-c731-4f94-bbce-991769be363b",
   "metadata": {},
   "source": [
    "## InMemoryDataset"
   ]
  },
  {
   "cell_type": "code",
   "execution_count": 53,
   "id": "9288e601-5177-488d-ad80-3f486ba16e41",
   "metadata": {},
   "outputs": [],
   "source": [
    "import os.path as osp\n",
    "\n",
    "import torch\n",
    "from torch_geometric.data import (InMemoryDataset, download_url)\n",
    "from torch_geometric.io import read_planetoid_data\n",
    "\n",
    "class PlanetoidPubMed(InMemoryDataset):\n",
    "    r\"\"\" 节点代表文章，边代表引用关系。\n",
    "   \t\t 训练、验证和测试的划分通过二进制掩码给出。\n",
    "    参数:\n",
    "        root (string): 存储数据集的文件夹的路径\n",
    "        transform (callable, optional): 数据转换函数，每一次获取数据时被调用。\n",
    "        pre_transform (callable, optional): 数据转换函数，数据保存到文件前被调用。\n",
    "    \"\"\"\n",
    "\n",
    "    url = 'https://github.com/kimiyoung/planetoid/raw/master/data'\n",
    "    # url = 'https://gitee.com/rongqinchen/planetoid/raw/master/data'\n",
    "    # 如果github的链接不可用，请使用gitee的链接\n",
    "\n",
    "    def __init__(self, root, transform=None, pre_transform=None):\n",
    "\n",
    "        super(PlanetoidPubMed, self).__init__(root, transform, pre_transform)\n",
    "        self.data, self.slices = torch.load(self.processed_paths[0])\n",
    "\n",
    "    @property\n",
    "    def raw_dir(self):\n",
    "        return osp.join(self.root, 'raw')\n",
    "\n",
    "    @property\n",
    "    def processed_dir(self):\n",
    "        return osp.join(self.root, 'processed')\n",
    "\n",
    "    @property\n",
    "    def raw_file_names(self):\n",
    "        names = ['x', 'tx', 'allx', 'y', 'ty', 'ally', 'graph', 'test.index']\n",
    "        return ['ind.pubmed.{}'.format(name) for name in names]\n",
    "\n",
    "    @property\n",
    "    def processed_file_names(self):\n",
    "        return 'data.pt'\n",
    "\n",
    "    def download(self):\n",
    "        for name in self.raw_file_names:\n",
    "            download_url('{}/{}'.format(self.url, name), self.raw_dir)\n",
    "\n",
    "    def process(self):\n",
    "        data = read_planetoid_data(self.raw_dir, 'pubmed')\n",
    "        data = data if self.pre_transform is None else self.pre_transform(data)\n",
    "        torch.save(self.collate([data]), self.processed_paths[0])\n",
    "\n",
    "    def __repr__(self):\n",
    "        return '{}()'.format(self.name)\n",
    "\n",
    "\n",
    "    "
   ]
  },
  {
   "cell_type": "code",
   "execution_count": 58,
   "id": "a4e288b4-cde5-4f61-adaa-6fe5acfa0449",
   "metadata": {},
   "outputs": [
    {
     "name": "stdout",
     "output_type": "stream",
     "text": [
      "Using exist file ind.pubmed.x\n",
      "Using exist file ind.pubmed.tx\n",
      "Downloading https://github.com/kimiyoung/planetoid/raw/master/data/ind.pubmed.allx\n",
      "Downloading https://github.com/kimiyoung/planetoid/raw/master/data/ind.pubmed.y\n",
      "Downloading https://github.com/kimiyoung/planetoid/raw/master/data/ind.pubmed.ty\n",
      "Downloading https://github.com/kimiyoung/planetoid/raw/master/data/ind.pubmed.ally\n",
      "Downloading https://github.com/kimiyoung/planetoid/raw/master/data/ind.pubmed.graph\n",
      "Downloading https://github.com/kimiyoung/planetoid/raw/master/data/ind.pubmed.test.index\n",
      "Processing...\n",
      "Done!\n",
      "3\n",
      "19717\n",
      "88648\n",
      "500\n"
     ]
    }
   ],
   "source": [
    "dataset = PlanetoidPubMed('dataset/Pubmed')\n",
    "print(dataset.num_classes)\n",
    "print(dataset[0].num_nodes)\n",
    "print(dataset[0].num_edges)\n",
    "print(dataset[0].num_features)"
   ]
  },
  {
   "cell_type": "markdown",
   "id": "e724caba-7962-4425-b40d-bd64b5a38ae2",
   "metadata": {},
   "source": [
    "## Seqential"
   ]
  },
  {
   "cell_type": "markdown",
   "id": "0edc7af2-f0e9-4a71-856d-426c22d0a09f",
   "metadata": {},
   "source": [
    "[Sequential文档](https://pytorch-geometric.readthedocs.io/en/latest/modules/nn.html#torch_geometric.nn.sequential.Sequential)"
   ]
  },
  {
   "cell_type": "markdown",
   "id": "fdf1516f-42a1-4883-b0e8-418387190f89",
   "metadata": {},
   "source": [
    "```python\n",
    "from torch.nn import Linear, ReLU\n",
    "from torch_geometric.nn import Sequential, GCNConv\n",
    "\n",
    "model = Sequential('x, edge_index', [\n",
    "    (GCNConv(in_channels, 64), 'x, edge_index -> x'),\n",
    "    ReLU(inplace=True),\n",
    "    (GCNConv(64, 64), 'x, edge_index -> x'),\n",
    "    ReLU(inplace=True),\n",
    "    Linear(64, out_channels),\n",
    "])\n",
    "```\n",
    "\n",
    "用法：\n",
    "```\n",
    "model = Sequential('x, edge_index', [\n",
    "    (模型1, '模型1输入 -> 模型1返回值'),\n",
    "    ReLU(inplace=True),\n",
    "   (模型2, '模型2输入 -> 模型2返回值'),\n",
    "    ReLU(inplace=True),\n",
    "    Linear(64, out_channels),\n",
    "])\n",
    "```\n"
   ]
  },
  {
   "cell_type": "markdown",
   "id": "082bde71-4c08-468e-bb7c-f09af85846bf",
   "metadata": {},
   "source": [
    "# 作业"
   ]
  },
  {
   "cell_type": "markdown",
   "id": "3b4fee37-982b-4e84-815d-451ba34c09b1",
   "metadata": {},
   "source": [
    "## 实践问题一：尝试使用PyG中的不同的网络层去代替`GCNConv`，以及不同的层数和不同的`out_channels`，来实现节点分类任务。"
   ]
  },
  {
   "cell_type": "code",
   "execution_count": 15,
   "id": "32b57a1d-6b33-4d70-9406-ba0fbe66a44b",
   "metadata": {},
   "outputs": [],
   "source": [
    "import matplotlib.pyplot as plt\n",
    "from sklearn.manifold import TSNE\n",
    "\n",
    "import torch\n",
    "\n",
    "from torch.nn import Linear\n",
    "from torch_geometric.nn import GATConv\n",
    "import torch.nn.functional as F"
   ]
  },
  {
   "cell_type": "code",
   "execution_count": 5,
   "id": "e272f5ba-83f2-4d9d-b7b6-cb38d9788421",
   "metadata": {},
   "outputs": [],
   "source": [
    "from tqdm import tqdm\n",
    "from time import time\n",
    "class Model(torch.nn.Module):\n",
    "    def __init__(self,optimizer=None,criterion=None,**kwargs):\n",
    "        super(Model, self).__init__()\n",
    "        self.optimizer=optimizer\n",
    "        self.criterion=criterion\n",
    "        \n",
    "    def _train(self,data,epoch=200):\n",
    "        def _loss():\n",
    "            self.train()\n",
    "            self.optimizer.zero_grad()  # Clear gradients.\n",
    "            if self.forward.__code__.co_argcount == 2:\n",
    "                out = self.forward(data.x)  # Perform a single forward pass.\n",
    "            elif self.forward.__code__.co_argcount == 3:\n",
    "                out = self.forward(data.x, data.edge_index)\n",
    "            loss = self.criterion(out[data.train_mask], data.y[data.train_mask])  # Compute the loss solely based on the training nodes.\n",
    "            loss.backward()  # Derive gradients.\n",
    "            self.optimizer.step()  # Update parameters based on gradients.\n",
    "            return loss\n",
    "        t0=time()\n",
    "        for i in tqdm(range(epoch)):\n",
    "            loss = _loss()\n",
    "            if i+1>epoch-10:\n",
    "                print(f'Epoch: {i+1:03d}, Loss: {loss:.4f}')\n",
    "        self.time = time()-t0\n",
    "\n",
    "\n",
    "    def _test(self,data):\n",
    "        def __test():\n",
    "            self.eval()\n",
    "            if self.forward.__code__.co_argcount == 2:\n",
    "                self.out = self.forward(data.x)\n",
    "            elif self.forward.__code__.co_argcount == 3:\n",
    "                self.out = self.forward(data.x, data.edge_index)\n",
    "            pred = self.out.argmax(dim=1)  # Use the class with highest probability.\n",
    "            test_correct = pred[data.test_mask] == data.y[data.test_mask]  # Check against ground-truth labels.\n",
    "            test_acc = int(test_correct.sum()) / int(data.test_mask.sum())  # Derive ratio of correct predictions.\n",
    "            return test_acc\n",
    "\n",
    "        test_acc = __test()\n",
    "        self.test_acc=test_acc\n",
    "        print(f'Test Accuracy: {test_acc:.4f}')\n",
    "        \n",
    "    def _visualize(self,data):\n",
    "        def __visualize(out, color):\n",
    "            z = TSNE(n_components=2).fit_transform(out.detach().cpu().numpy())\n",
    "            plt.figure(figsize=(10,10))\n",
    "            plt.xticks([])\n",
    "            plt.yticks([])\n",
    "\n",
    "            plt.scatter(z[:, 0], z[:, 1], s=70, c=color, cmap=\"Set2\")\n",
    "            plt.show()\n",
    "\n",
    "            \n",
    "        self.eval()\n",
    "        if self.forward.__code__.co_argcount == 2:\n",
    "            self.out = self(data.x)\n",
    "        elif self.forward.__code__.co_argcount == 3:\n",
    "            self.out = self.forward(data.x, data.edge_index)\n",
    "        \n",
    "        __visualize(self.out, color=data.y)"
   ]
  },
  {
   "cell_type": "code",
   "execution_count": 6,
   "id": "5a2c730f-cba5-4344-ad58-95c306befd76",
   "metadata": {},
   "outputs": [],
   "source": []
  },
  {
   "cell_type": "code",
   "execution_count": 7,
   "id": "3e323620-d3cd-493e-92ed-0cb21b55ed04",
   "metadata": {},
   "outputs": [],
   "source": [
    "from torch_geometric.datasets import Planetoid\n",
    "from torch_geometric.transforms import NormalizeFeatures\n",
    "\n",
    "dataset = Planetoid(root='dataset/Cora', name='Cora', transform=NormalizeFeatures())\n",
    "\n",
    "data = dataset[0]  # Get the first graph object.\n",
    "#describe_dataset(dataset)"
   ]
  },
  {
   "cell_type": "markdown",
   "id": "22507cee-c975-47de-9c50-6b3fefcf0de9",
   "metadata": {},
   "source": [
    "### GAT\n",
    "\n"
   ]
  },
  {
   "cell_type": "code",
   "execution_count": 33,
   "id": "085bc756-11cf-42ae-bbbd-97e7027c3253",
   "metadata": {},
   "outputs": [],
   "source": [
    "class GAT(Model):\n",
    "    def __init__(self, num_features, hidden_channels_list, num_classes):\n",
    "        super(GAT, self).__init__()\n",
    "        torch.manual_seed(12345)\n",
    "        hns = [num_features] + hidden_channels_list\n",
    "        conv_list = []\n",
    "        for idx in range(len(hidden_channels_list)):\n",
    "            conv_list.append((GATConv(hns[idx], hns[idx+1]), 'x, edge_index -> x'))\n",
    "            conv_list.append(ReLU(inplace=True),)\n",
    "\n",
    "        self.convseq = Sequential('x, edge_index', conv_list)\n",
    "        self.linear = Linear(hidden_channels_list[-1], num_classes)\n",
    "\n",
    "    def forward(self, x, edge_index):\n",
    "        x = self.convseq(x, edge_index)\n",
    "        x = F.dropout(x, p=0.5, training=self.training)\n",
    "        x = self.linear(x)\n",
    "        return x\n"
   ]
  },
  {
   "cell_type": "code",
   "execution_count": 31,
   "id": "2e6251fd-3bb8-4846-baab-4bcacc9688be",
   "metadata": {},
   "outputs": [],
   "source": [
    "\n",
    "model=GAT(data.num_features,[16,16,16],dataset.num_classes)\n",
    "model.criterion = torch.nn.CrossEntropyLoss()  # Define loss criterion.\n",
    "model.optimizer = torch.optim.Adam(model.parameters(), lr=0.01, weight_decay=5e-4)  # Define optimizer.\n"
   ]
  },
  {
   "cell_type": "code",
   "execution_count": 19,
   "id": "5be5259e-927a-41ff-9848-a40a7213a8eb",
   "metadata": {},
   "outputs": [
    {
     "name": "stderr",
     "output_type": "stream",
     "text": [
      " 96%|█████████▋| 193/200 [00:12<00:00, 17.66it/s]"
     ]
    },
    {
     "name": "stdout",
     "output_type": "stream",
     "text": [
      "Epoch: 191, Loss: 0.1621\n",
      "Epoch: 192, Loss: 0.2263\n",
      "Epoch: 193, Loss: 0.2324\n",
      "Epoch: 194, Loss: 0.2828\n"
     ]
    },
    {
     "name": "stderr",
     "output_type": "stream",
     "text": [
      " 98%|█████████▊| 197/200 [00:12<00:00, 17.69it/s]"
     ]
    },
    {
     "name": "stdout",
     "output_type": "stream",
     "text": [
      "Epoch: 195, Loss: 0.3554\n",
      "Epoch: 196, Loss: 0.2219\n",
      "Epoch: 197, Loss: 0.2132\n",
      "Epoch: 198, Loss: 0.2591\n"
     ]
    },
    {
     "name": "stderr",
     "output_type": "stream",
     "text": [
      "100%|██████████| 200/200 [00:13<00:00, 15.19it/s]"
     ]
    },
    {
     "name": "stdout",
     "output_type": "stream",
     "text": [
      "Epoch: 199, Loss: 0.2039\n",
      "Epoch: 200, Loss: 0.2196\n"
     ]
    },
    {
     "name": "stderr",
     "output_type": "stream",
     "text": [
      "\n"
     ]
    }
   ],
   "source": [
    "model._train(data)"
   ]
  },
  {
   "cell_type": "code",
   "execution_count": 20,
   "id": "4d57d48e-58c7-4e13-b7cb-569aebd41f68",
   "metadata": {},
   "outputs": [
    {
     "name": "stdout",
     "output_type": "stream",
     "text": [
      "Test Accuracy: 0.6480\n"
     ]
    }
   ],
   "source": [
    "model._test(data)"
   ]
  },
  {
   "cell_type": "code",
   "execution_count": 21,
   "id": "b725e7ea-8c2d-406f-bb9a-36bb87b5dd4d",
   "metadata": {},
   "outputs": [
    {
     "data": {
      "image/png": "[encoded data removed]",
      "text/plain": [
       "<Figure size 720x720 with 1 Axes>"
      ]
     },
     "metadata": {},
     "output_type": "display_data"
    }
   ],
   "source": [
    "model._visualize(data)"
   ]
  },
  {
   "cell_type": "code",
   "execution_count": 27,
   "id": "c5f9158e-39b7-495f-b43a-bd039a257482",
   "metadata": {},
   "outputs": [
    {
     "name": "stderr",
     "output_type": "stream",
     "text": [
      " 97%|█████████▋| 194/200 [00:11<00:00, 17.17it/s]"
     ]
    },
    {
     "name": "stdout",
     "output_type": "stream",
     "text": [
      "Epoch: 191, Loss: 0.0649\n",
      "Epoch: 192, Loss: 0.0728\n",
      "Epoch: 193, Loss: 0.0665\n",
      "Epoch: 194, Loss: 0.0737\n"
     ]
    },
    {
     "name": "stderr",
     "output_type": "stream",
     "text": [
      " 99%|█████████▉| 198/200 [00:11<00:00, 17.23it/s]"
     ]
    },
    {
     "name": "stdout",
     "output_type": "stream",
     "text": [
      "Epoch: 195, Loss: 0.0810\n",
      "Epoch: 196, Loss: 0.0839\n",
      "Epoch: 197, Loss: 0.0880\n",
      "Epoch: 198, Loss: 0.0720\n"
     ]
    },
    {
     "name": "stderr",
     "output_type": "stream",
     "text": [
      "100%|██████████| 200/200 [00:11<00:00, 17.23it/s]"
     ]
    },
    {
     "name": "stdout",
     "output_type": "stream",
     "text": [
      "Epoch: 199, Loss: 0.0738\n",
      "Epoch: 200, Loss: 0.0763\n"
     ]
    },
    {
     "name": "stderr",
     "output_type": "stream",
     "text": [
      "\n"
     ]
    }
   ],
   "source": [
    "\n",
    "model=GAT(data.num_features,[100],dataset.num_classes)\n",
    "model.criterion = torch.nn.CrossEntropyLoss()  # Define loss criterion.\n",
    "model.optimizer = torch.optim.Adam(model.parameters(), lr=0.01, weight_decay=5e-4)  # Define optimizer.\n",
    "\n",
    "model._train(data)"
   ]
  },
  {
   "cell_type": "code",
   "execution_count": 28,
   "id": "1d1ee9d1-bcb0-4ee9-982a-a737727eb1c3",
   "metadata": {},
   "outputs": [
    {
     "name": "stdout",
     "output_type": "stream",
     "text": [
      "Test Accuracy: 0.6620\n"
     ]
    }
   ],
   "source": [
    "model._test(data)"
   ]
  },
  {
   "cell_type": "markdown",
   "id": "f7d651a5-30eb-408e-bccd-53e18bdf1c0a",
   "metadata": {},
   "source": [
    "### SAGE"
   ]
  },
  {
   "cell_type": "code",
   "execution_count": 38,
   "id": "a81b80bc-f02f-498e-a434-4a3e241f0245",
   "metadata": {},
   "outputs": [],
   "source": [
    "from torch_geometric.nn import SAGEConv\n",
    "\n",
    "class SAGE(Model):\n",
    "    def __init__(self, num_features, hidden_channels_list, num_classes):\n",
    "        super(SAGE, self).__init__()\n",
    "        torch.manual_seed(12345)\n",
    "        conv_list = []\n",
    "        hns = [num_features]+hidden_channels_list\n",
    "        for idx in range(len(hidden_channels_list)):\n",
    "            conv_list.append((SAGEConv(hns[idx], hns[idx+1]),'x, edge_index -> x'))\n",
    "            conv_list.append(ReLU(inplace=True))\n",
    "        self.convseq = Sequential('x, edge_index', conv_list)\n",
    "        self.linear = Linear(hidden_channels_list[-1], num_classes)\n",
    "\n",
    "    def forward(self, x, edge_index):\n",
    "        x = self.convseq(x, edge_index)\n",
    "        x = F.dropout(x, p=0.5, training=self.training)\n",
    "        x = self.linear(x)\n",
    "        return x\n",
    "    \n"
   ]
  },
  {
   "cell_type": "code",
   "execution_count": 42,
   "id": "7ae25bbb-4462-40d4-9304-caee5a6ef809",
   "metadata": {},
   "outputs": [
    {
     "name": "stderr",
     "output_type": "stream",
     "text": [
      " 96%|█████████▌| 191/200 [00:58<00:02,  3.25it/s]"
     ]
    },
    {
     "name": "stdout",
     "output_type": "stream",
     "text": [
      "Epoch: 191, Loss: 0.5513\n"
     ]
    },
    {
     "name": "stderr",
     "output_type": "stream",
     "text": [
      " 96%|█████████▌| 192/200 [00:58<00:02,  3.25it/s]"
     ]
    },
    {
     "name": "stdout",
     "output_type": "stream",
     "text": [
      "Epoch: 192, Loss: 0.5344\n"
     ]
    },
    {
     "name": "stderr",
     "output_type": "stream",
     "text": [
      " 96%|█████████▋| 193/200 [00:59<00:02,  3.25it/s]"
     ]
    },
    {
     "name": "stdout",
     "output_type": "stream",
     "text": [
      "Epoch: 193, Loss: 0.4957\n"
     ]
    },
    {
     "name": "stderr",
     "output_type": "stream",
     "text": [
      " 97%|█████████▋| 194/200 [00:59<00:01,  3.25it/s]"
     ]
    },
    {
     "name": "stdout",
     "output_type": "stream",
     "text": [
      "Epoch: 194, Loss: 0.5239\n"
     ]
    },
    {
     "name": "stderr",
     "output_type": "stream",
     "text": [
      " 98%|█████████▊| 195/200 [00:59<00:01,  3.24it/s]"
     ]
    },
    {
     "name": "stdout",
     "output_type": "stream",
     "text": [
      "Epoch: 195, Loss: 0.4863\n"
     ]
    },
    {
     "name": "stderr",
     "output_type": "stream",
     "text": [
      " 98%|█████████▊| 196/200 [01:00<00:01,  3.24it/s]"
     ]
    },
    {
     "name": "stdout",
     "output_type": "stream",
     "text": [
      "Epoch: 196, Loss: 0.4856\n"
     ]
    },
    {
     "name": "stderr",
     "output_type": "stream",
     "text": [
      " 98%|█████████▊| 197/200 [01:00<00:00,  3.24it/s]"
     ]
    },
    {
     "name": "stdout",
     "output_type": "stream",
     "text": [
      "Epoch: 197, Loss: 0.5190\n"
     ]
    },
    {
     "name": "stderr",
     "output_type": "stream",
     "text": [
      " 99%|█████████▉| 198/200 [01:00<00:00,  3.24it/s]"
     ]
    },
    {
     "name": "stdout",
     "output_type": "stream",
     "text": [
      "Epoch: 198, Loss: 0.4684\n"
     ]
    },
    {
     "name": "stderr",
     "output_type": "stream",
     "text": [
      "100%|█████████▉| 199/200 [01:01<00:00,  3.24it/s]"
     ]
    },
    {
     "name": "stdout",
     "output_type": "stream",
     "text": [
      "Epoch: 199, Loss: 0.3953\n"
     ]
    },
    {
     "name": "stderr",
     "output_type": "stream",
     "text": [
      "100%|██████████| 200/200 [01:01<00:00,  3.25it/s]"
     ]
    },
    {
     "name": "stdout",
     "output_type": "stream",
     "text": [
      "Epoch: 200, Loss: 0.4544\n"
     ]
    },
    {
     "name": "stderr",
     "output_type": "stream",
     "text": [
      "\n"
     ]
    }
   ],
   "source": [
    "\n",
    "model=SAGE(data.num_features,[16,10],dataset.num_classes)\n",
    "model.criterion = torch.nn.CrossEntropyLoss()  # Define loss criterion.\n",
    "model.optimizer = torch.optim.Adam(model.parameters(), lr=0.01, weight_decay=5e-4)  # Define optimizer.\n",
    "\n",
    "model._train(data)"
   ]
  },
  {
   "cell_type": "code",
   "execution_count": 43,
   "id": "e289172c-05bb-4418-bb81-5e59b28a2d09",
   "metadata": {},
   "outputs": [
    {
     "name": "stdout",
     "output_type": "stream",
     "text": [
      "Test Accuracy: 0.6460\n"
     ]
    }
   ],
   "source": [
    "model._test(data)"
   ]
  },
  {
   "cell_type": "code",
   "execution_count": 40,
   "id": "8eeb4dcc-0b26-4332-af19-528c8e6d1a16",
   "metadata": {},
   "outputs": [
    {
     "name": "stderr",
     "output_type": "stream",
     "text": [
      " 96%|█████████▌| 191/200 [01:02<00:02,  3.04it/s]"
     ]
    },
    {
     "name": "stdout",
     "output_type": "stream",
     "text": [
      "Epoch: 191, Loss: 0.0752\n"
     ]
    },
    {
     "name": "stderr",
     "output_type": "stream",
     "text": [
      " 96%|█████████▌| 192/200 [01:02<00:02,  3.04it/s]"
     ]
    },
    {
     "name": "stdout",
     "output_type": "stream",
     "text": [
      "Epoch: 192, Loss: 0.0628\n"
     ]
    },
    {
     "name": "stderr",
     "output_type": "stream",
     "text": [
      " 96%|█████████▋| 193/200 [01:03<00:02,  3.04it/s]"
     ]
    },
    {
     "name": "stdout",
     "output_type": "stream",
     "text": [
      "Epoch: 193, Loss: 0.0651\n"
     ]
    },
    {
     "name": "stderr",
     "output_type": "stream",
     "text": [
      " 97%|█████████▋| 194/200 [01:03<00:01,  3.04it/s]"
     ]
    },
    {
     "name": "stdout",
     "output_type": "stream",
     "text": [
      "Epoch: 194, Loss: 0.0631\n"
     ]
    },
    {
     "name": "stderr",
     "output_type": "stream",
     "text": [
      " 98%|█████████▊| 195/200 [01:03<00:01,  3.04it/s]"
     ]
    },
    {
     "name": "stdout",
     "output_type": "stream",
     "text": [
      "Epoch: 195, Loss: 0.0601\n"
     ]
    },
    {
     "name": "stderr",
     "output_type": "stream",
     "text": [
      " 98%|█████████▊| 196/200 [01:04<00:01,  3.04it/s]"
     ]
    },
    {
     "name": "stdout",
     "output_type": "stream",
     "text": [
      "Epoch: 196, Loss: 0.0560\n"
     ]
    },
    {
     "name": "stderr",
     "output_type": "stream",
     "text": [
      " 98%|█████████▊| 197/200 [01:04<00:00,  3.05it/s]"
     ]
    },
    {
     "name": "stdout",
     "output_type": "stream",
     "text": [
      "Epoch: 197, Loss: 0.0743\n"
     ]
    },
    {
     "name": "stderr",
     "output_type": "stream",
     "text": [
      " 99%|█████████▉| 198/200 [01:04<00:00,  3.04it/s]"
     ]
    },
    {
     "name": "stdout",
     "output_type": "stream",
     "text": [
      "Epoch: 198, Loss: 0.0673\n"
     ]
    },
    {
     "name": "stderr",
     "output_type": "stream",
     "text": [
      "100%|█████████▉| 199/200 [01:05<00:00,  3.05it/s]"
     ]
    },
    {
     "name": "stdout",
     "output_type": "stream",
     "text": [
      "Epoch: 199, Loss: 0.0701\n"
     ]
    },
    {
     "name": "stderr",
     "output_type": "stream",
     "text": [
      "100%|██████████| 200/200 [01:05<00:00,  3.05it/s]"
     ]
    },
    {
     "name": "stdout",
     "output_type": "stream",
     "text": [
      "Epoch: 200, Loss: 0.0662\n"
     ]
    },
    {
     "name": "stderr",
     "output_type": "stream",
     "text": [
      "\n"
     ]
    }
   ],
   "source": [
    "\n",
    "model=SAGE(data.num_features,[100],dataset.num_classes)\n",
    "model.criterion = torch.nn.CrossEntropyLoss()  # Define loss criterion.\n",
    "model.optimizer = torch.optim.Adam(model.parameters(), lr=0.01, weight_decay=5e-4)  # Define optimizer.\n",
    "\n",
    "model._train(data)"
   ]
  },
  {
   "cell_type": "code",
   "execution_count": 41,
   "id": "c782a512-a03d-44f8-a629-82a86aa2aca8",
   "metadata": {},
   "outputs": [
    {
     "name": "stdout",
     "output_type": "stream",
     "text": [
      "Test Accuracy: 0.7300\n"
     ]
    }
   ],
   "source": [
    "model._test(data)"
   ]
  },
  {
   "cell_type": "code",
   "execution_count": 44,
   "id": "1bb0ac8e-6f7d-43f1-bcb9-1189106d8e6f",
   "metadata": {},
   "outputs": [
    {
     "name": "stderr",
     "output_type": "stream",
     "text": [
      " 96%|█████████▌| 191/200 [01:02<00:02,  3.09it/s]"
     ]
    },
    {
     "name": "stdout",
     "output_type": "stream",
     "text": [
      "Epoch: 191, Loss: 0.0326\n"
     ]
    },
    {
     "name": "stderr",
     "output_type": "stream",
     "text": [
      " 96%|█████████▌| 192/200 [01:02<00:02,  3.08it/s]"
     ]
    },
    {
     "name": "stdout",
     "output_type": "stream",
     "text": [
      "Epoch: 192, Loss: 0.0254\n"
     ]
    },
    {
     "name": "stderr",
     "output_type": "stream",
     "text": [
      " 96%|█████████▋| 193/200 [01:02<00:02,  3.08it/s]"
     ]
    },
    {
     "name": "stdout",
     "output_type": "stream",
     "text": [
      "Epoch: 193, Loss: 0.0364\n"
     ]
    },
    {
     "name": "stderr",
     "output_type": "stream",
     "text": [
      " 97%|█████████▋| 194/200 [01:03<00:01,  3.08it/s]"
     ]
    },
    {
     "name": "stdout",
     "output_type": "stream",
     "text": [
      "Epoch: 194, Loss: 0.0297\n"
     ]
    },
    {
     "name": "stderr",
     "output_type": "stream",
     "text": [
      " 98%|█████████▊| 195/200 [01:03<00:01,  3.08it/s]"
     ]
    },
    {
     "name": "stdout",
     "output_type": "stream",
     "text": [
      "Epoch: 195, Loss: 0.0298\n"
     ]
    },
    {
     "name": "stderr",
     "output_type": "stream",
     "text": [
      " 98%|█████████▊| 196/200 [01:03<00:01,  3.08it/s]"
     ]
    },
    {
     "name": "stdout",
     "output_type": "stream",
     "text": [
      "Epoch: 196, Loss: 0.0323\n"
     ]
    },
    {
     "name": "stderr",
     "output_type": "stream",
     "text": [
      " 98%|█████████▊| 197/200 [01:04<00:00,  3.08it/s]"
     ]
    },
    {
     "name": "stdout",
     "output_type": "stream",
     "text": [
      "Epoch: 197, Loss: 0.0308\n"
     ]
    },
    {
     "name": "stderr",
     "output_type": "stream",
     "text": [
      " 99%|█████████▉| 198/200 [01:04<00:00,  3.08it/s]"
     ]
    },
    {
     "name": "stdout",
     "output_type": "stream",
     "text": [
      "Epoch: 198, Loss: 0.0225\n"
     ]
    },
    {
     "name": "stderr",
     "output_type": "stream",
     "text": [
      "100%|█████████▉| 199/200 [01:04<00:00,  3.08it/s]"
     ]
    },
    {
     "name": "stdout",
     "output_type": "stream",
     "text": [
      "Epoch: 199, Loss: 0.0396\n"
     ]
    },
    {
     "name": "stderr",
     "output_type": "stream",
     "text": [
      "100%|██████████| 200/200 [01:05<00:00,  3.07it/s]"
     ]
    },
    {
     "name": "stdout",
     "output_type": "stream",
     "text": [
      "Epoch: 200, Loss: 0.0239\n"
     ]
    },
    {
     "name": "stderr",
     "output_type": "stream",
     "text": [
      "\n"
     ]
    }
   ],
   "source": [
    "\n",
    "model=SAGE(data.num_features,[50,50],dataset.num_classes)\n",
    "model.criterion = torch.nn.CrossEntropyLoss()  # Define loss criterion.\n",
    "model.optimizer = torch.optim.Adam(model.parameters(), lr=0.01, weight_decay=5e-4)  # Define optimizer.\n",
    "\n",
    "model._train(data)"
   ]
  },
  {
   "cell_type": "code",
   "execution_count": 45,
   "id": "00b0545a-b43d-44e0-9f2c-3e8fc57ea2ad",
   "metadata": {},
   "outputs": [
    {
     "name": "stdout",
     "output_type": "stream",
     "text": [
      "Test Accuracy: 0.7900\n"
     ]
    }
   ],
   "source": [
    "model._test(data)"
   ]
  },
  {
   "cell_type": "code",
   "execution_count": 46,
   "id": "041e1d4b-3a60-4b44-a777-bef54ca28199",
   "metadata": {},
   "outputs": [
    {
     "name": "stderr",
     "output_type": "stream",
     "text": [
      " 96%|█████████▌| 191/200 [01:07<00:03,  2.82it/s]"
     ]
    },
    {
     "name": "stdout",
     "output_type": "stream",
     "text": [
      "Epoch: 191, Loss: 0.0167\n"
     ]
    },
    {
     "name": "stderr",
     "output_type": "stream",
     "text": [
      " 96%|█████████▌| 192/200 [01:07<00:02,  2.82it/s]"
     ]
    },
    {
     "name": "stdout",
     "output_type": "stream",
     "text": [
      "Epoch: 192, Loss: 0.0177\n"
     ]
    },
    {
     "name": "stderr",
     "output_type": "stream",
     "text": [
      " 96%|█████████▋| 193/200 [01:07<00:02,  2.82it/s]"
     ]
    },
    {
     "name": "stdout",
     "output_type": "stream",
     "text": [
      "Epoch: 193, Loss: 0.0195\n"
     ]
    },
    {
     "name": "stderr",
     "output_type": "stream",
     "text": [
      " 97%|█████████▋| 194/200 [01:08<00:02,  2.82it/s]"
     ]
    },
    {
     "name": "stdout",
     "output_type": "stream",
     "text": [
      "Epoch: 194, Loss: 0.0188\n"
     ]
    },
    {
     "name": "stderr",
     "output_type": "stream",
     "text": [
      " 98%|█████████▊| 195/200 [01:08<00:01,  2.82it/s]"
     ]
    },
    {
     "name": "stdout",
     "output_type": "stream",
     "text": [
      "Epoch: 195, Loss: 0.0179\n"
     ]
    },
    {
     "name": "stderr",
     "output_type": "stream",
     "text": [
      " 98%|█████████▊| 196/200 [01:08<00:01,  2.82it/s]"
     ]
    },
    {
     "name": "stdout",
     "output_type": "stream",
     "text": [
      "Epoch: 196, Loss: 0.0167\n"
     ]
    },
    {
     "name": "stderr",
     "output_type": "stream",
     "text": [
      " 98%|█████████▊| 197/200 [01:09<00:01,  2.82it/s]"
     ]
    },
    {
     "name": "stdout",
     "output_type": "stream",
     "text": [
      "Epoch: 197, Loss: 0.0139\n"
     ]
    },
    {
     "name": "stderr",
     "output_type": "stream",
     "text": [
      " 99%|█████████▉| 198/200 [01:09<00:00,  2.82it/s]"
     ]
    },
    {
     "name": "stdout",
     "output_type": "stream",
     "text": [
      "Epoch: 198, Loss: 0.0142\n"
     ]
    },
    {
     "name": "stderr",
     "output_type": "stream",
     "text": [
      "100%|█████████▉| 199/200 [01:09<00:00,  2.83it/s]"
     ]
    },
    {
     "name": "stdout",
     "output_type": "stream",
     "text": [
      "Epoch: 199, Loss: 0.0186\n"
     ]
    },
    {
     "name": "stderr",
     "output_type": "stream",
     "text": [
      "100%|██████████| 200/200 [01:10<00:00,  2.85it/s]"
     ]
    },
    {
     "name": "stdout",
     "output_type": "stream",
     "text": [
      "Epoch: 200, Loss: 0.0144\n"
     ]
    },
    {
     "name": "stderr",
     "output_type": "stream",
     "text": [
      "\n"
     ]
    }
   ],
   "source": [
    "\n",
    "model=SAGE(data.num_features,[100,100],dataset.num_classes)\n",
    "model.criterion = torch.nn.CrossEntropyLoss()  # Define loss criterion.\n",
    "model.optimizer = torch.optim.Adam(model.parameters(), lr=0.01, weight_decay=5e-4)  # Define optimizer.\n",
    "\n",
    "model._train(data)"
   ]
  },
  {
   "cell_type": "code",
   "execution_count": 47,
   "id": "94292ff0-7fc5-4d8a-96d0-c26dd943da8c",
   "metadata": {},
   "outputs": [
    {
     "name": "stdout",
     "output_type": "stream",
     "text": [
      "Test Accuracy: 0.7500\n"
     ]
    }
   ],
   "source": [
    "model._test(data)"
   ]
  },
  {
   "cell_type": "code",
   "execution_count": 48,
   "id": "e9524816-f359-4a6d-bd89-e10c0a5c19ab",
   "metadata": {},
   "outputs": [
    {
     "name": "stderr",
     "output_type": "stream",
     "text": [
      " 96%|█████████▌| 191/200 [01:04<00:03,  2.97it/s]"
     ]
    },
    {
     "name": "stdout",
     "output_type": "stream",
     "text": [
      "Epoch: 191, Loss: 0.0531\n"
     ]
    },
    {
     "name": "stderr",
     "output_type": "stream",
     "text": [
      " 96%|█████████▌| 192/200 [01:04<00:02,  2.97it/s]"
     ]
    },
    {
     "name": "stdout",
     "output_type": "stream",
     "text": [
      "Epoch: 192, Loss: 0.0166\n"
     ]
    },
    {
     "name": "stderr",
     "output_type": "stream",
     "text": [
      " 96%|█████████▋| 193/200 [01:05<00:02,  2.97it/s]"
     ]
    },
    {
     "name": "stdout",
     "output_type": "stream",
     "text": [
      "Epoch: 193, Loss: 0.0435\n"
     ]
    },
    {
     "name": "stderr",
     "output_type": "stream",
     "text": [
      " 97%|█████████▋| 194/200 [01:05<00:02,  2.97it/s]"
     ]
    },
    {
     "name": "stdout",
     "output_type": "stream",
     "text": [
      "Epoch: 194, Loss: 0.0350\n"
     ]
    },
    {
     "name": "stderr",
     "output_type": "stream",
     "text": [
      " 98%|█████████▊| 195/200 [01:05<00:01,  2.97it/s]"
     ]
    },
    {
     "name": "stdout",
     "output_type": "stream",
     "text": [
      "Epoch: 195, Loss: 0.0312\n"
     ]
    },
    {
     "name": "stderr",
     "output_type": "stream",
     "text": [
      " 98%|█████████▊| 196/200 [01:06<00:01,  2.97it/s]"
     ]
    },
    {
     "name": "stdout",
     "output_type": "stream",
     "text": [
      "Epoch: 196, Loss: 0.0192\n"
     ]
    },
    {
     "name": "stderr",
     "output_type": "stream",
     "text": [
      " 98%|█████████▊| 197/200 [01:06<00:01,  2.97it/s]"
     ]
    },
    {
     "name": "stdout",
     "output_type": "stream",
     "text": [
      "Epoch: 197, Loss: 0.0197\n"
     ]
    },
    {
     "name": "stderr",
     "output_type": "stream",
     "text": [
      " 99%|█████████▉| 198/200 [01:06<00:00,  2.96it/s]"
     ]
    },
    {
     "name": "stdout",
     "output_type": "stream",
     "text": [
      "Epoch: 198, Loss: 0.0195\n"
     ]
    },
    {
     "name": "stderr",
     "output_type": "stream",
     "text": [
      "100%|█████████▉| 199/200 [01:07<00:00,  2.96it/s]"
     ]
    },
    {
     "name": "stdout",
     "output_type": "stream",
     "text": [
      "Epoch: 199, Loss: 0.0194\n"
     ]
    },
    {
     "name": "stderr",
     "output_type": "stream",
     "text": [
      "100%|██████████| 200/200 [01:07<00:00,  2.97it/s]"
     ]
    },
    {
     "name": "stdout",
     "output_type": "stream",
     "text": [
      "Epoch: 200, Loss: 0.0345\n"
     ]
    },
    {
     "name": "stderr",
     "output_type": "stream",
     "text": [
      "\n"
     ]
    },
    {
     "name": "stdout",
     "output_type": "stream",
     "text": [
      "Test Accuracy: 0.7600\n"
     ]
    }
   ],
   "source": [
    "\n",
    "model=SAGE(data.num_features,[50,50,50],dataset.num_classes)\n",
    "model.criterion = torch.nn.CrossEntropyLoss()  # Define loss criterion.\n",
    "model.optimizer = torch.optim.Adam(model.parameters(), lr=0.01, weight_decay=5e-4)  # Define optimizer.\n",
    "\n",
    "model._train(data)\n",
    "model._test(data)"
   ]
  },
  {
   "cell_type": "code",
   "execution_count": 52,
   "id": "6caff894-c15a-4344-a3c5-ca61d6317f80",
   "metadata": {},
   "outputs": [
    {
     "name": "stderr",
     "output_type": "stream",
     "text": [
      " 96%|█████████▌| 191/200 [01:00<00:02,  3.16it/s]"
     ]
    },
    {
     "name": "stdout",
     "output_type": "stream",
     "text": [
      "Epoch: 191, Loss: 0.3009\n"
     ]
    },
    {
     "name": "stderr",
     "output_type": "stream",
     "text": [
      " 96%|█████████▌| 192/200 [01:00<00:02,  3.16it/s]"
     ]
    },
    {
     "name": "stdout",
     "output_type": "stream",
     "text": [
      "Epoch: 192, Loss: 0.3941\n"
     ]
    },
    {
     "name": "stderr",
     "output_type": "stream",
     "text": [
      " 96%|█████████▋| 193/200 [01:01<00:02,  3.16it/s]"
     ]
    },
    {
     "name": "stdout",
     "output_type": "stream",
     "text": [
      "Epoch: 193, Loss: 0.3114\n"
     ]
    },
    {
     "name": "stderr",
     "output_type": "stream",
     "text": [
      " 97%|█████████▋| 194/200 [01:01<00:01,  3.16it/s]"
     ]
    },
    {
     "name": "stdout",
     "output_type": "stream",
     "text": [
      "Epoch: 194, Loss: 0.3474\n"
     ]
    },
    {
     "name": "stderr",
     "output_type": "stream",
     "text": [
      " 98%|█████████▊| 195/200 [01:01<00:01,  3.16it/s]"
     ]
    },
    {
     "name": "stdout",
     "output_type": "stream",
     "text": [
      "Epoch: 195, Loss: 0.2643\n"
     ]
    },
    {
     "name": "stderr",
     "output_type": "stream",
     "text": [
      " 98%|█████████▊| 196/200 [01:01<00:01,  3.16it/s]"
     ]
    },
    {
     "name": "stdout",
     "output_type": "stream",
     "text": [
      "Epoch: 196, Loss: 0.3942\n"
     ]
    },
    {
     "name": "stderr",
     "output_type": "stream",
     "text": [
      " 98%|█████████▊| 197/200 [01:02<00:00,  3.16it/s]"
     ]
    },
    {
     "name": "stdout",
     "output_type": "stream",
     "text": [
      "Epoch: 197, Loss: 0.3522\n"
     ]
    },
    {
     "name": "stderr",
     "output_type": "stream",
     "text": [
      " 99%|█████████▉| 198/200 [01:02<00:00,  3.16it/s]"
     ]
    },
    {
     "name": "stdout",
     "output_type": "stream",
     "text": [
      "Epoch: 198, Loss: 0.2413\n"
     ]
    },
    {
     "name": "stderr",
     "output_type": "stream",
     "text": [
      "100%|█████████▉| 199/200 [01:02<00:00,  3.16it/s]"
     ]
    },
    {
     "name": "stdout",
     "output_type": "stream",
     "text": [
      "Epoch: 199, Loss: 0.3972\n"
     ]
    },
    {
     "name": "stderr",
     "output_type": "stream",
     "text": [
      "100%|██████████| 200/200 [01:03<00:00,  3.16it/s]"
     ]
    },
    {
     "name": "stdout",
     "output_type": "stream",
     "text": [
      "Epoch: 200, Loss: 0.2662\n"
     ]
    },
    {
     "name": "stderr",
     "output_type": "stream",
     "text": [
      "\n"
     ]
    },
    {
     "name": "stdout",
     "output_type": "stream",
     "text": [
      "Test Accuracy: 0.5900\n"
     ]
    }
   ],
   "source": [
    "\n",
    "model=SAGE(data.num_features,[20,20,20],dataset.num_classes)\n",
    "model.criterion = torch.nn.CrossEntropyLoss()  # Define loss criterion.\n",
    "model.optimizer = torch.optim.Adam(model.parameters(), lr=0.01, weight_decay=5e-4)  # Define optimizer.\n",
    "\n",
    "model._train(data,epoch=200)\n",
    "model._test(data)"
   ]
  },
  {
   "cell_type": "markdown",
   "id": "94817518-aa92-4d19-8fa6-047ada2c2189",
   "metadata": {},
   "source": [
    "## 实践问题二：在边预测任务中，尝试用`torch_geometric.nn.Sequential`容器构造图神经网络。\n"
   ]
  },
  {
   "cell_type": "code",
   "execution_count": 74,
   "id": "97833359-e4f2-4488-ac49-5c89b3207121",
   "metadata": {},
   "outputs": [
    {
     "name": "stdout",
     "output_type": "stream",
     "text": [
      "torch.Size([2, 10556])\n",
      "x torch.Size([2708, 1433])\n",
      "val_pos_edge_index torch.Size([2, 263])\n",
      "test_pos_edge_index torch.Size([2, 527])\n",
      "train_pos_edge_index torch.Size([2, 8976])\n",
      "train_neg_adj_mask torch.Size([2708, 2708])\n",
      "val_neg_edge_index torch.Size([2, 263])\n",
      "test_neg_edge_index torch.Size([2, 527])\n"
     ]
    }
   ],
   "source": [
    "import os.path as osp\n",
    "\n",
    "from torch_geometric.utils import negative_sampling\n",
    "from torch_geometric.datasets import Planetoid\n",
    "import torch_geometric.transforms as T\n",
    "from torch_geometric.utils import train_test_split_edges\n",
    "\n",
    "dataset = Planetoid('dataset/Cora', 'Cora', transform=T.NormalizeFeatures())\n",
    "data = dataset[0]\n",
    "data.train_mask = data.val_mask = data.test_mask = data.y = None # 不再有用\n",
    "\n",
    "print(data.edge_index.shape)\n",
    "# torch.Size([2, 10556])\n",
    "\n",
    "data = train_test_split_edges(data)\n",
    "\n",
    "for key in data.keys:\n",
    "    print(key, getattr(data, key).shape)\n",
    "\n",
    "# x torch.Size([2708, 1433])\n",
    "# val_pos_edge_index torch.Size([2, 263])\n",
    "# test_pos_edge_index torch.Size([2, 527])\n",
    "# train_pos_edge_index torch.Size([2, 8976])\n",
    "# train_neg_adj_mask torch.Size([2708, 2708])\n",
    "# val_neg_edge_index torch.Size([2, 263])\n",
    "# test_neg_edge_index torch.Size([2, 527])\n",
    "# 263 + 527 + 8976 = 9766 != 10556\n",
    "# 263 + 527 + 8976/2 = 5278 = 10556/2"
   ]
  },
  {
   "cell_type": "code",
   "execution_count": 75,
   "id": "5eae9d11-98b1-44bf-bb27-b46b3188406d",
   "metadata": {},
   "outputs": [],
   "source": [
    "import torch\n",
    "from torch_geometric.nn import GCNConv\n",
    "\n",
    "class Net(torch.nn.Module):\n",
    "    def __init__(self, in_channels, out_channels):\n",
    "        super(Net, self).__init__()\n",
    "        self.conv1 = GCNConv(in_channels, 128)\n",
    "        self.conv2 = GCNConv(128, out_channels)\n",
    "\n",
    "    def encode(self, x, edge_index):\n",
    "        x = self.conv1(x, edge_index)\n",
    "        x = x.relu()\n",
    "        return self.conv2(x, edge_index)\n",
    "\n",
    "    def decode(self, z, pos_edge_index, neg_edge_index):\n",
    "        edge_index = torch.cat([pos_edge_index, neg_edge_index], dim=-1)\n",
    "        return (z[edge_index[0]] * z[edge_index[1]]).sum(dim=-1)\n",
    "\n",
    "    def decode_all(self, z):\n",
    "        prob_adj = z @ z.t()\n",
    "        return (prob_adj > 0).nonzero(as_tuple=False).t()\n",
    "\n"
   ]
  },
  {
   "cell_type": "code",
   "execution_count": null,
   "id": "c74e2b9e-7c22-4985-819d-4bae90509dda",
   "metadata": {},
   "outputs": [],
   "source": []
  },
  {
   "cell_type": "code",
   "execution_count": 76,
   "id": "e335b033-b8a5-497a-826f-2cf55c69c97b",
   "metadata": {},
   "outputs": [],
   "source": [
    "def get_link_labels(pos_edge_index, neg_edge_index):\n",
    "    num_links = pos_edge_index.size(1) + neg_edge_index.size(1)\n",
    "    link_labels = torch.zeros(num_links, dtype=torch.float)\n",
    "    link_labels[:pos_edge_index.size(1)] = 1.\n",
    "    return link_labels\n",
    "\n",
    "def train(data, model, optimizer):\n",
    "    model.train()\n",
    "\n",
    "    neg_edge_index = negative_sampling(\n",
    "        edge_index=data.train_pos_edge_index,\n",
    "        num_nodes=data.num_nodes,\n",
    "        num_neg_samples=data.train_pos_edge_index.size(1))\n",
    "\n",
    "    optimizer.zero_grad()\n",
    "    z = model.encode(data.x, data.train_pos_edge_index)\n",
    "    link_logits = model.decode(z, data.train_pos_edge_index, neg_edge_index)\n",
    "    link_labels = get_link_labels(data.train_pos_edge_index, neg_edge_index).to(data.x.device)\n",
    "    loss = F.binary_cross_entropy_with_logits(link_logits, link_labels)\n",
    "    loss.backward()\n",
    "    optimizer.step()\n",
    "\n",
    "    return loss\n",
    "\n"
   ]
  },
  {
   "cell_type": "code",
   "execution_count": 77,
   "id": "616acc8d-d8c2-4673-afab-112f2691011b",
   "metadata": {},
   "outputs": [],
   "source": [
    "@torch.no_grad()\n",
    "def test(data, model):\n",
    "    model.eval()\n",
    "\n",
    "    z = model.encode(data.x, data.train_pos_edge_index)\n",
    "\n",
    "    results = []\n",
    "    for prefix in ['val', 'test']:\n",
    "        pos_edge_index = data[f'{prefix}_pos_edge_index']\n",
    "        neg_edge_index = data[f'{prefix}_neg_edge_index']\n",
    "        link_logits = model.decode(z, pos_edge_index, neg_edge_index)\n",
    "        link_probs = link_logits.sigmoid()\n",
    "        link_labels = get_link_labels(pos_edge_index, neg_edge_index)\n",
    "        results.append(roc_auc_score(link_labels.cpu(), link_probs.cpu()))\n",
    "    return results\n",
    "\n"
   ]
  },
  {
   "cell_type": "code",
   "execution_count": null,
   "id": "b4d2570e-0f6d-4df8-8532-861ea673b13b",
   "metadata": {},
   "outputs": [],
   "source": []
  },
  {
   "cell_type": "code",
   "execution_count": 90,
   "id": "9f18b9f6-b38c-4e7d-8595-02970b27fbbb",
   "metadata": {},
   "outputs": [],
   "source": [
    "\n",
    "from logging import root\n",
    "import os.path as osp\n",
    "\n",
    "import torch\n",
    "import torch.nn.functional as F\n",
    "import torch_geometric.transforms as T\n",
    "from sklearn.metrics import roc_auc_score\n",
    "from torch_geometric.datasets import Planetoid\n",
    "from torch_geometric.nn import GCNConv\n",
    "from torch_geometric.utils import negative_sampling, train_test_split_edges\n",
    "\n"
   ]
  },
  {
   "cell_type": "code",
   "execution_count": 91,
   "id": "2d4e7b49-7307-49a3-9be0-8f282c7ed5b6",
   "metadata": {},
   "outputs": [
    {
     "name": "stdout",
     "output_type": "stream",
     "text": [
      "wrong!\n",
      "Epoch: 001, Loss: 0.6930, Val: 0.6973, Test: 0.6879\n",
      "wrong!\n",
      "Epoch: 002, Loss: 0.6815, Val: 0.6853, Test: 0.6879\n",
      "wrong!\n",
      "Epoch: 003, Loss: 0.7176, Val: 0.6889, Test: 0.6879\n",
      "wrong!\n",
      "Epoch: 004, Loss: 0.6768, Val: 0.6983, Test: 0.7140\n",
      "Epoch: 005, Loss: 0.6852, Val: 0.7151, Test: 0.7438\n",
      "wrong!\n",
      "Epoch: 006, Loss: 0.6894, Val: 0.7426, Test: 0.7707\n",
      "wrong!\n",
      "Epoch: 007, Loss: 0.6907, Val: 0.7385, Test: 0.7707\n",
      "wrong!\n",
      "Epoch: 008, Loss: 0.6906, Val: 0.7160, Test: 0.7707\n",
      "wrong!\n",
      "Epoch: 009, Loss: 0.6896, Val: 0.7032, Test: 0.7707\n",
      "Epoch: 010, Loss: 0.6875, Val: 0.6948, Test: 0.7707\n",
      "Epoch: 011, Loss: 0.6840, Val: 0.6908, Test: 0.7707\n",
      "Epoch: 012, Loss: 0.6792, Val: 0.6877, Test: 0.7707\n",
      "Epoch: 013, Loss: 0.6781, Val: 0.6832, Test: 0.7707\n",
      "Epoch: 014, Loss: 0.6777, Val: 0.6777, Test: 0.7707\n",
      "wrong!\n",
      "Epoch: 015, Loss: 0.6733, Val: 0.6744, Test: 0.7707\n",
      "wrong!\n",
      "Epoch: 016, Loss: 0.6682, Val: 0.6736, Test: 0.7707\n",
      "Epoch: 017, Loss: 0.6636, Val: 0.6739, Test: 0.7707\n",
      "wrong!\n",
      "Epoch: 018, Loss: 0.6596, Val: 0.6735, Test: 0.7707\n",
      "wrong!\n",
      "Epoch: 019, Loss: 0.6538, Val: 0.6726, Test: 0.7707\n",
      "wrong!\n",
      "Epoch: 020, Loss: 0.6483, Val: 0.6795, Test: 0.7707\n",
      "Epoch: 021, Loss: 0.6422, Val: 0.7000, Test: 0.7707\n",
      "wrong!\n",
      "Epoch: 022, Loss: 0.6336, Val: 0.7320, Test: 0.7707\n",
      "wrong!\n",
      "Epoch: 023, Loss: 0.6235, Val: 0.7657, Test: 0.7599\n",
      "wrong!\n",
      "Epoch: 024, Loss: 0.6132, Val: 0.7794, Test: 0.7666\n",
      "Epoch: 025, Loss: 0.6008, Val: 0.7820, Test: 0.7676\n",
      "Epoch: 026, Loss: 0.5868, Val: 0.7820, Test: 0.7669\n",
      "Epoch: 027, Loss: 0.5788, Val: 0.7880, Test: 0.7671\n",
      "Epoch: 028, Loss: 0.5706, Val: 0.7895, Test: 0.7657\n",
      "wrong!\n",
      "Epoch: 029, Loss: 0.5658, Val: 0.7865, Test: 0.7657\n",
      "wrong!\n",
      "Epoch: 030, Loss: 0.5631, Val: 0.7859, Test: 0.7657\n",
      "Epoch: 031, Loss: 0.5563, Val: 0.7900, Test: 0.7682\n",
      "Epoch: 032, Loss: 0.5544, Val: 0.7959, Test: 0.7749\n",
      "wrong!\n",
      "Epoch: 033, Loss: 0.5515, Val: 0.8038, Test: 0.7847\n",
      "wrong!\n",
      "Epoch: 034, Loss: 0.5453, Val: 0.8141, Test: 0.7953\n",
      "wrong!\n",
      "Epoch: 035, Loss: 0.5351, Val: 0.8230, Test: 0.8046\n",
      "Epoch: 036, Loss: 0.5316, Val: 0.8310, Test: 0.8129\n",
      "Epoch: 037, Loss: 0.5236, Val: 0.8392, Test: 0.8214\n",
      "wrong!\n",
      "Epoch: 038, Loss: 0.5138, Val: 0.8434, Test: 0.8280\n",
      "Epoch: 039, Loss: 0.5128, Val: 0.8467, Test: 0.8336\n",
      "wrong!\n",
      "Epoch: 040, Loss: 0.5085, Val: 0.8508, Test: 0.8384\n",
      "wrong!\n",
      "Epoch: 041, Loss: 0.5050, Val: 0.8503, Test: 0.8384\n",
      "wrong!\n",
      "Epoch: 042, Loss: 0.5013, Val: 0.8507, Test: 0.8384\n",
      "wrong!\n",
      "Epoch: 043, Loss: 0.5040, Val: 0.8510, Test: 0.8431\n",
      "wrong!\n",
      "Epoch: 044, Loss: 0.5093, Val: 0.8522, Test: 0.8446\n",
      "wrong!\n",
      "Epoch: 045, Loss: 0.5095, Val: 0.8544, Test: 0.8467\n",
      "wrong!\n",
      "Epoch: 046, Loss: 0.4998, Val: 0.8554, Test: 0.8474\n",
      "Epoch: 047, Loss: 0.4998, Val: 0.8583, Test: 0.8476\n",
      "wrong!\n",
      "Epoch: 048, Loss: 0.4955, Val: 0.8594, Test: 0.8485\n",
      "Epoch: 049, Loss: 0.5011, Val: 0.8597, Test: 0.8488\n",
      "Epoch: 050, Loss: 0.4896, Val: 0.8614, Test: 0.8494\n",
      "wrong!\n",
      "Epoch: 051, Loss: 0.4917, Val: 0.8626, Test: 0.8501\n",
      "Epoch: 052, Loss: 0.4850, Val: 0.8633, Test: 0.8511\n",
      "wrong!\n",
      "Epoch: 053, Loss: 0.4851, Val: 0.8641, Test: 0.8526\n",
      "wrong!\n",
      "Epoch: 054, Loss: 0.4899, Val: 0.8650, Test: 0.8540\n",
      "wrong!\n",
      "Epoch: 055, Loss: 0.4923, Val: 0.8661, Test: 0.8564\n",
      "wrong!\n",
      "Epoch: 056, Loss: 0.4851, Val: 0.8678, Test: 0.8603\n",
      "wrong!\n",
      "Epoch: 057, Loss: 0.4779, Val: 0.8678, Test: 0.8603\n",
      "wrong!\n",
      "Epoch: 058, Loss: 0.4800, Val: 0.8703, Test: 0.8666\n",
      "wrong!\n",
      "Epoch: 059, Loss: 0.4789, Val: 0.8710, Test: 0.8680\n",
      "wrong!\n",
      "Epoch: 060, Loss: 0.4782, Val: 0.8718, Test: 0.8706\n",
      "wrong!\n",
      "Epoch: 061, Loss: 0.4780, Val: 0.8730, Test: 0.8747\n",
      "Epoch: 062, Loss: 0.4756, Val: 0.8742, Test: 0.8782\n",
      "wrong!\n",
      "Epoch: 063, Loss: 0.4746, Val: 0.8766, Test: 0.8808\n",
      "wrong!\n",
      "Epoch: 064, Loss: 0.4724, Val: 0.8791, Test: 0.8825\n",
      "Epoch: 065, Loss: 0.4727, Val: 0.8805, Test: 0.8847\n",
      "Epoch: 066, Loss: 0.4670, Val: 0.8802, Test: 0.8847\n",
      "wrong!\n",
      "Epoch: 067, Loss: 0.4677, Val: 0.8799, Test: 0.8847\n",
      "Epoch: 068, Loss: 0.4650, Val: 0.8802, Test: 0.8847\n",
      "Epoch: 069, Loss: 0.4669, Val: 0.8796, Test: 0.8847\n",
      "wrong!\n",
      "Epoch: 070, Loss: 0.4653, Val: 0.8791, Test: 0.8847\n",
      "wrong!\n",
      "Epoch: 071, Loss: 0.4655, Val: 0.8790, Test: 0.8847\n",
      "Epoch: 072, Loss: 0.4636, Val: 0.8788, Test: 0.8847\n",
      "Epoch: 073, Loss: 0.4596, Val: 0.8793, Test: 0.8847\n",
      "wrong!\n",
      "Epoch: 074, Loss: 0.4604, Val: 0.8802, Test: 0.8847\n",
      "wrong!\n",
      "Epoch: 075, Loss: 0.4628, Val: 0.8814, Test: 0.8959\n",
      "wrong!\n",
      "Epoch: 076, Loss: 0.4561, Val: 0.8804, Test: 0.8959\n",
      "wrong!\n",
      "Epoch: 077, Loss: 0.4593, Val: 0.8810, Test: 0.8959\n",
      "Epoch: 078, Loss: 0.4568, Val: 0.8815, Test: 0.8993\n",
      "Epoch: 079, Loss: 0.4561, Val: 0.8828, Test: 0.8992\n",
      "wrong!\n",
      "Epoch: 080, Loss: 0.4618, Val: 0.8825, Test: 0.8992\n",
      "wrong!\n",
      "Epoch: 081, Loss: 0.4560, Val: 0.8826, Test: 0.8992\n",
      "Epoch: 082, Loss: 0.4539, Val: 0.8821, Test: 0.8992\n",
      "Epoch: 083, Loss: 0.4566, Val: 0.8818, Test: 0.8992\n",
      "wrong!\n",
      "Epoch: 084, Loss: 0.4581, Val: 0.8821, Test: 0.8992\n",
      "Epoch: 085, Loss: 0.4487, Val: 0.8827, Test: 0.8992\n",
      "Epoch: 086, Loss: 0.4573, Val: 0.8827, Test: 0.8992\n",
      "Epoch: 087, Loss: 0.4485, Val: 0.8829, Test: 0.9041\n",
      "wrong!\n",
      "Epoch: 088, Loss: 0.4501, Val: 0.8836, Test: 0.9045\n",
      "Epoch: 089, Loss: 0.4492, Val: 0.8844, Test: 0.9038\n",
      "wrong!\n",
      "Epoch: 090, Loss: 0.4513, Val: 0.8843, Test: 0.9038\n",
      "wrong!\n",
      "Epoch: 091, Loss: 0.4449, Val: 0.8844, Test: 0.9038\n",
      "wrong!\n",
      "Epoch: 092, Loss: 0.4475, Val: 0.8851, Test: 0.9047\n",
      "Epoch: 093, Loss: 0.4533, Val: 0.8857, Test: 0.9041\n",
      "wrong!\n",
      "Epoch: 094, Loss: 0.4482, Val: 0.8860, Test: 0.9034\n",
      "wrong!\n",
      "Epoch: 095, Loss: 0.4461, Val: 0.8868, Test: 0.9036\n",
      "wrong!\n",
      "Epoch: 096, Loss: 0.4481, Val: 0.8882, Test: 0.9052\n",
      "wrong!\n",
      "Epoch: 097, Loss: 0.4459, Val: 0.8896, Test: 0.9064\n",
      "Epoch: 098, Loss: 0.4450, Val: 0.8902, Test: 0.9073\n",
      "Epoch: 099, Loss: 0.4411, Val: 0.8904, Test: 0.9066\n",
      "wrong!\n",
      "Epoch: 100, Loss: 0.4399, Val: 0.8919, Test: 0.9069\n"
     ]
    }
   ],
   "source": [
    "def main():\n",
    "    device = torch.device('cuda' if torch.cuda.is_available() else 'cpu')\n",
    "    \n",
    "    dataset = 'Cora'\n",
    "    #path = osp.join(osp.dirname(osp.realpath(__file__)), '.', 'dataset', dataset)\n",
    "    dataset = Planetoid('./dataset/Cora', dataset, transform=NormalizeFeatures())\n",
    "    data = dataset[0]\n",
    "    #ground_truth_edge_index = data.edge_index.to(device)\n",
    "    data.train_mask = data.val_mask = data.test_mask = data.y = None\n",
    "    data = train_test_split_edges(data)\n",
    "    #data = data.to(device)\n",
    "\n",
    "    model = Net(dataset.num_features, 64)#.to(device)\n",
    "    optimizer = torch.optim.Adam(params=model.parameters(), lr=0.01)\n",
    "\n",
    "    best_val_auc = test_auc = 0\n",
    "    for epoch in range(1, 101):\n",
    "        loss = train(data, model, optimizer)\n",
    "        val_auc, tmp_test_auc = test(data, model)\n",
    "        if val_auc > best_val_auc:\n",
    "            best_val_auc = val_auc\n",
    "            test_auc = tmp_test_auc\n",
    "        print(f'Epoch: {epoch:03d}, Loss: {loss:.4f}, Val: {val_auc:.4f}, '\n",
    "              f'Test: {test_auc:.4f}')\n",
    "\n",
    "    z = model.encode(data.x, data.train_pos_edge_index)\n",
    "    final_edge_index = model.decode_all(z)\n",
    "\n",
    "\n",
    "if __name__ == \"__main__\":\n",
    "    main()\n",
    "\n"
   ]
  },
  {
   "cell_type": "code",
   "execution_count": 106,
   "id": "52ae6e0c-069f-4294-a178-741b9b713a7e",
   "metadata": {},
   "outputs": [],
   "source": [
    "import torch\n",
    "from torch_geometric.nn import GCNConv\n",
    "\n",
    "class Net(torch.nn.Module):\n",
    "    def __init__(self, in_channels, hidden_channels_list, out_channels):\n",
    "        super(Net, self).__init__()\n",
    "        hns = [in_channels]+hidden_channels_list\n",
    "        conv_list = []\n",
    "        for i in range(len(hns)-1):\n",
    "            conv_list.append(\n",
    "                (GCNConv(hns[i], hns[i+1]),'x, edge_index -> x')\n",
    "            )\n",
    "            conv_list.append(ReLU(inplace=True))\n",
    "\n",
    "        self.convseq = Sequential('x, edge_index', conv_list)\n",
    "        self.linear = Linear(hidden_channels_list[-1], out_channels)\n",
    "\n",
    "    def encode(self, x, edge_index):\n",
    "        \n",
    "        x = self.convseq(x, edge_index)\n",
    "        x = F.dropout(x, p=0.5, training=self.training)\n",
    "        x = self.linear(x)\n",
    "        return x\n",
    "\n",
    "    def decode(self, z, pos_edge_index, neg_edge_index):\n",
    "        edge_index = torch.cat([pos_edge_index, neg_edge_index], dim=-1)\n",
    "        return (z[edge_index[0]] * z[edge_index[1]]).sum(dim=-1)\n",
    "\n",
    "    def decode_all(self, z):\n",
    "        prob_adj = z @ z.t()\n",
    "        return (prob_adj > 0).nonzero(as_tuple=False).t()\n",
    "\n",
    "\n"
   ]
  },
  {
   "cell_type": "code",
   "execution_count": 107,
   "id": "89b50626-e7be-446a-934d-65a42c706e84",
   "metadata": {},
   "outputs": [
    {
     "name": "stdout",
     "output_type": "stream",
     "text": [
      "wrong!\n",
      "Epoch: 001, Loss: 0.6966, Val: 0.6417, Test: 0.5713\n",
      "wrong!\n",
      "Epoch: 002, Loss: 0.6933, Val: 0.6868, Test: 0.6416\n",
      "Epoch: 003, Loss: 0.6914, Val: 0.6774, Test: 0.6416\n",
      "Epoch: 004, Loss: 0.6879, Val: 0.6737, Test: 0.6416\n",
      "Epoch: 005, Loss: 0.6832, Val: 0.6721, Test: 0.6416\n",
      "Epoch: 006, Loss: 0.6764, Val: 0.6702, Test: 0.6416\n",
      "wrong!\n",
      "Epoch: 007, Loss: 0.6681, Val: 0.6646, Test: 0.6416\n",
      "Epoch: 008, Loss: 0.6592, Val: 0.6640, Test: 0.6416\n",
      "wrong!\n",
      "Epoch: 009, Loss: 0.6520, Val: 0.6710, Test: 0.6416\n",
      "wrong!\n",
      "Epoch: 010, Loss: 0.6450, Val: 0.6740, Test: 0.6416\n",
      "wrong!\n",
      "Epoch: 011, Loss: 0.6354, Val: 0.6758, Test: 0.6416\n",
      "Epoch: 012, Loss: 0.6336, Val: 0.6930, Test: 0.6666\n",
      "wrong!\n",
      "Epoch: 013, Loss: 0.6211, Val: 0.7049, Test: 0.6754\n",
      "wrong!\n",
      "Epoch: 014, Loss: 0.6167, Val: 0.7122, Test: 0.6814\n",
      "wrong!\n",
      "Epoch: 015, Loss: 0.6077, Val: 0.7226, Test: 0.6941\n",
      "wrong!\n",
      "Epoch: 016, Loss: 0.6025, Val: 0.7292, Test: 0.7075\n",
      "wrong!\n",
      "Epoch: 017, Loss: 0.5982, Val: 0.7367, Test: 0.7120\n",
      "Epoch: 018, Loss: 0.5987, Val: 0.7437, Test: 0.7186\n",
      "Epoch: 019, Loss: 0.5889, Val: 0.7448, Test: 0.7276\n",
      "wrong!\n",
      "Epoch: 020, Loss: 0.5909, Val: 0.7488, Test: 0.7317\n",
      "wrong!\n",
      "Epoch: 021, Loss: 0.5864, Val: 0.7556, Test: 0.7335\n",
      "Epoch: 022, Loss: 0.5814, Val: 0.7600, Test: 0.7362\n",
      "wrong!\n",
      "Epoch: 023, Loss: 0.5878, Val: 0.7627, Test: 0.7402\n",
      "wrong!\n",
      "Epoch: 024, Loss: 0.5797, Val: 0.7634, Test: 0.7438\n",
      "wrong!\n",
      "Epoch: 025, Loss: 0.5774, Val: 0.7656, Test: 0.7459\n",
      "Epoch: 026, Loss: 0.5771, Val: 0.7692, Test: 0.7473\n",
      "wrong!\n",
      "Epoch: 027, Loss: 0.5713, Val: 0.7703, Test: 0.7482\n",
      "wrong!\n",
      "Epoch: 028, Loss: 0.5733, Val: 0.7694, Test: 0.7482\n",
      "wrong!\n",
      "Epoch: 029, Loss: 0.5724, Val: 0.7710, Test: 0.7475\n",
      "wrong!\n",
      "Epoch: 030, Loss: 0.5679, Val: 0.7719, Test: 0.7457\n",
      "Epoch: 031, Loss: 0.5676, Val: 0.7718, Test: 0.7457\n",
      "wrong!\n",
      "Epoch: 032, Loss: 0.5658, Val: 0.7712, Test: 0.7457\n",
      "wrong!\n",
      "Epoch: 033, Loss: 0.5666, Val: 0.7679, Test: 0.7457\n",
      "Epoch: 034, Loss: 0.5645, Val: 0.7646, Test: 0.7457\n",
      "wrong!\n",
      "Epoch: 035, Loss: 0.5631, Val: 0.7657, Test: 0.7457\n",
      "Epoch: 036, Loss: 0.5642, Val: 0.7655, Test: 0.7457\n",
      "wrong!\n",
      "Epoch: 037, Loss: 0.5566, Val: 0.7644, Test: 0.7457\n",
      "Epoch: 038, Loss: 0.5609, Val: 0.7622, Test: 0.7457\n",
      "wrong!\n",
      "Epoch: 039, Loss: 0.5580, Val: 0.7622, Test: 0.7457\n",
      "Epoch: 040, Loss: 0.5598, Val: 0.7648, Test: 0.7457\n",
      "Epoch: 041, Loss: 0.5563, Val: 0.7654, Test: 0.7457\n",
      "wrong!\n",
      "Epoch: 042, Loss: 0.5626, Val: 0.7618, Test: 0.7457\n",
      "wrong!\n",
      "Epoch: 043, Loss: 0.5593, Val: 0.7617, Test: 0.7457\n",
      "wrong!\n",
      "Epoch: 044, Loss: 0.5577, Val: 0.7627, Test: 0.7457\n",
      "wrong!\n",
      "Epoch: 045, Loss: 0.5535, Val: 0.7629, Test: 0.7457\n",
      "wrong!\n",
      "Epoch: 046, Loss: 0.5585, Val: 0.7639, Test: 0.7457\n",
      "Epoch: 047, Loss: 0.5582, Val: 0.7636, Test: 0.7457\n",
      "wrong!\n",
      "Epoch: 048, Loss: 0.5535, Val: 0.7625, Test: 0.7457\n",
      "wrong!\n",
      "Epoch: 049, Loss: 0.5527, Val: 0.7612, Test: 0.7457\n",
      "Epoch: 050, Loss: 0.5506, Val: 0.7599, Test: 0.7457\n",
      "wrong!\n",
      "Epoch: 051, Loss: 0.5567, Val: 0.7603, Test: 0.7457\n",
      "wrong!\n",
      "Epoch: 052, Loss: 0.5486, Val: 0.7603, Test: 0.7457\n",
      "wrong!\n",
      "Epoch: 053, Loss: 0.5486, Val: 0.7570, Test: 0.7457\n",
      "wrong!\n",
      "Epoch: 054, Loss: 0.5526, Val: 0.7529, Test: 0.7457\n",
      "Epoch: 055, Loss: 0.5551, Val: 0.7540, Test: 0.7457\n",
      "wrong!\n",
      "Epoch: 056, Loss: 0.5500, Val: 0.7540, Test: 0.7457\n",
      "wrong!\n",
      "Epoch: 057, Loss: 0.5511, Val: 0.7520, Test: 0.7457\n",
      "wrong!\n",
      "Epoch: 058, Loss: 0.5529, Val: 0.7515, Test: 0.7457\n",
      "wrong!\n",
      "Epoch: 059, Loss: 0.5536, Val: 0.7523, Test: 0.7457\n",
      "Epoch: 060, Loss: 0.5518, Val: 0.7528, Test: 0.7457\n",
      "wrong!\n",
      "Epoch: 061, Loss: 0.5512, Val: 0.7521, Test: 0.7457\n",
      "Epoch: 062, Loss: 0.5509, Val: 0.7506, Test: 0.7457\n",
      "Epoch: 063, Loss: 0.5536, Val: 0.7508, Test: 0.7457\n",
      "wrong!\n",
      "Epoch: 064, Loss: 0.5507, Val: 0.7525, Test: 0.7457\n",
      "wrong!\n",
      "Epoch: 065, Loss: 0.5513, Val: 0.7524, Test: 0.7457\n",
      "Epoch: 066, Loss: 0.5513, Val: 0.7490, Test: 0.7457\n",
      "wrong!\n",
      "Epoch: 067, Loss: 0.5527, Val: 0.7476, Test: 0.7457\n",
      "Epoch: 068, Loss: 0.5515, Val: 0.7512, Test: 0.7457\n",
      "Epoch: 069, Loss: 0.5407, Val: 0.7517, Test: 0.7457\n",
      "Epoch: 070, Loss: 0.5504, Val: 0.7472, Test: 0.7457\n",
      "Epoch: 071, Loss: 0.5549, Val: 0.7457, Test: 0.7457\n",
      "Epoch: 072, Loss: 0.5467, Val: 0.7457, Test: 0.7457\n",
      "wrong!\n",
      "Epoch: 073, Loss: 0.5500, Val: 0.7493, Test: 0.7457\n",
      "wrong!\n",
      "Epoch: 074, Loss: 0.5456, Val: 0.7504, Test: 0.7457\n",
      "Epoch: 075, Loss: 0.5481, Val: 0.7459, Test: 0.7457\n",
      "wrong!\n",
      "Epoch: 076, Loss: 0.5486, Val: 0.7420, Test: 0.7457\n",
      "Epoch: 077, Loss: 0.5503, Val: 0.7487, Test: 0.7457\n",
      "Epoch: 078, Loss: 0.5451, Val: 0.7503, Test: 0.7457\n",
      "Epoch: 079, Loss: 0.5510, Val: 0.7470, Test: 0.7457\n",
      "Epoch: 080, Loss: 0.5515, Val: 0.7430, Test: 0.7457\n",
      "wrong!\n",
      "Epoch: 081, Loss: 0.5444, Val: 0.7440, Test: 0.7457\n",
      "Epoch: 082, Loss: 0.5431, Val: 0.7478, Test: 0.7457\n",
      "wrong!\n",
      "Epoch: 083, Loss: 0.5555, Val: 0.7447, Test: 0.7457\n",
      "wrong!\n",
      "Epoch: 084, Loss: 0.5475, Val: 0.7360, Test: 0.7457\n",
      "wrong!\n",
      "Epoch: 085, Loss: 0.5471, Val: 0.7405, Test: 0.7457\n",
      "wrong!\n",
      "Epoch: 086, Loss: 0.5462, Val: 0.7484, Test: 0.7457\n",
      "Epoch: 087, Loss: 0.5505, Val: 0.7468, Test: 0.7457\n",
      "wrong!\n",
      "Epoch: 088, Loss: 0.5504, Val: 0.7350, Test: 0.7457\n",
      "wrong!\n",
      "Epoch: 089, Loss: 0.5474, Val: 0.7355, Test: 0.7457\n",
      "Epoch: 090, Loss: 0.5491, Val: 0.7470, Test: 0.7457\n",
      "Epoch: 091, Loss: 0.5487, Val: 0.7489, Test: 0.7457\n",
      "wrong!\n",
      "Epoch: 092, Loss: 0.5499, Val: 0.7410, Test: 0.7457\n",
      "Epoch: 093, Loss: 0.5489, Val: 0.7384, Test: 0.7457\n",
      "wrong!\n",
      "Epoch: 094, Loss: 0.5463, Val: 0.7456, Test: 0.7457\n",
      "Epoch: 095, Loss: 0.5524, Val: 0.7502, Test: 0.7457\n",
      "Epoch: 096, Loss: 0.5459, Val: 0.7478, Test: 0.7457\n",
      "wrong!\n",
      "Epoch: 097, Loss: 0.5397, Val: 0.7399, Test: 0.7457\n",
      "wrong!\n",
      "Epoch: 098, Loss: 0.5420, Val: 0.7420, Test: 0.7457\n",
      "wrong!\n",
      "Epoch: 099, Loss: 0.5437, Val: 0.7515, Test: 0.7457\n",
      "Epoch: 100, Loss: 0.5440, Val: 0.7520, Test: 0.7457\n"
     ]
    }
   ],
   "source": [
    "def main():\n",
    "    device = torch.device('cuda' if torch.cuda.is_available() else 'cpu')\n",
    "    \n",
    "    dataset = 'Cora'\n",
    "    #path = osp.join(osp.dirname(osp.realpath(__file__)), '.', 'dataset', dataset)\n",
    "    dataset = Planetoid('./dataset/Cora', dataset, transform=NormalizeFeatures())\n",
    "    data = dataset[0]\n",
    "    #ground_truth_edge_index = data.edge_index.to(device)\n",
    "    data.train_mask = data.val_mask = data.test_mask = data.y = None\n",
    "    data = train_test_split_edges(data)\n",
    "    #data = data.to(device)\n",
    "\n",
    "    model = Net(dataset.num_features,[128], 64)#.to(device)\n",
    "    optimizer = torch.optim.Adam(params=model.parameters(), lr=0.01)\n",
    "\n",
    "    best_val_auc = test_auc = 0\n",
    "    for epoch in range(1, 101):\n",
    "        loss = train(data, model, optimizer)\n",
    "        val_auc, tmp_test_auc = test(data, model)\n",
    "        if val_auc > best_val_auc:\n",
    "            best_val_auc = val_auc\n",
    "            test_auc = tmp_test_auc\n",
    "        print(f'Epoch: {epoch:03d}, Loss: {loss:.4f}, Val: {val_auc:.4f}, '\n",
    "              f'Test: {test_auc:.4f}')\n",
    "\n",
    "    z = model.encode(data.x, data.train_pos_edge_index)\n",
    "    final_edge_index = model.decode_all(z)\n",
    "\n",
    "\n",
    "if __name__ == \"__main__\":\n",
    "    main()\n",
    "\n",
    "\n"
   ]
  },
  {
   "cell_type": "markdown",
   "id": "534f6464-2c40-4b3f-8dab-9256e81d9d84",
   "metadata": {},
   "source": [
    "## 思考问题三：如下方代码所示，我们以`data.train_pos_edge_index`为实际参数来进行训练集负样本采样，但这样采样得到的负样本可能包含一些验证集的正样本与测试集的正样本，即可能将真实的正样本标记为负样本，由此会产生冲突。但我们还是这么做，这是为什么？"
   ]
  },
  {
   "cell_type": "code",
   "execution_count": 108,
   "id": "c5dfc68b-da68-4df7-971b-cea37c348305",
   "metadata": {},
   "outputs": [],
   "source": [
    "neg_edge_index = negative_sampling(\n",
    "    edge_index=data.train_pos_edge_index,\n",
    "    num_nodes=data.num_nodes,\n",
    "    num_neg_samples=data.train_pos_edge_index.size(1))"
   ]
  },
  {
   "cell_type": "code",
   "execution_count": null,
   "id": "6a147169-3243-4767-b717-227cf08b4dda",
   "metadata": {},
   "outputs": [],
   "source": []
  }
 ],
 "metadata": {
  "kernelspec": {
   "display_name": "Python 3",
   "language": "python",
   "name": "python3"
  },
  "language_info": {
   "codemirror_mode": {
    "name": "ipython",
    "version": 3
   },
   "file_extension": ".py",
   "mimetype": "text/x-python",
   "name": "python",
   "nbconvert_exporter": "python",
   "pygments_lexer": "ipython3",
   "version": "3.8.5"
  }
 },
 "nbformat": 4,
 "nbformat_minor": 5
}
