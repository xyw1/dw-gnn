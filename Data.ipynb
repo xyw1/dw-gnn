{
 "cells": [
  {
   "cell_type": "code",
   "execution_count": 9,
   "id": "08b618e4-d401-42da-a70c-bf3e5d5614ad",
   "metadata": {},
   "outputs": [],
   "source": [
    "class Data:\n",
    "    \n",
    "    def __init__(self, x=None, edge_index=None, edge_attr=None, y=None, **kwargs):\n",
    "        r\"\"\"\n",
    "        Args:\n",
    "            x (Tensor, optional): 节点属性矩阵，大小为`[num_nodes, num_node_features]`\n",
    "            edge_index (LongTensor, optional): 边索引矩阵，大小为`[2, num_edges]`，第0行为 尾节点，第1行为头节点，头指向尾\n",
    "            edge_attr (Tensor, optional): 边属性矩阵，大小为`[num_edges, num_edge_features]`\n",
    "            y (Tensor, optional): 节点或图的标签，任意大小(，其实也可以是边的标签)\n",
    "        \"\"\"\n",
    "        self.x = x\n",
    "        self.edge_index = edge_index\n",
    "        self.edge_attr = edge_attr\n",
    "        self.y = y\n",
    "        for key, item in kwargs.items():\n",
    "            if key == 'num_nodes':\n",
    "                self.__num_nodes__ = item\n",
    "            else:\n",
    "                self[key] = item\n",
    "                \n",
    "class MyData(Data):\n",
    "    def __init__(self, node_paper=None, node_institute=None, node_author=None,\n",
    "                 edge_index_author_institute=None,edge_index_paper_author=None,y=None):  \n",
    "        super(MyData,self).__init__(y=y)  \n",
    "        self.node_paper = node_paper\n",
    "        self.node_institute = node_institute\n",
    "        self.node_author = node_author\n",
    "        self.edge_index_author_institute = edge_index_author_institute\n",
    "        self.edge_index_paper_author = edge_index_paper_author\n",
    "    \n",
    "    @property\n",
    "    def node_paper_num(self):\n",
    "        return self.node_paper.shape[0]\n",
    "    \n",
    "    @property\n",
    "    def node_author_num(self):\n",
    "        return self.node_author.shape[0]\n",
    "    \n",
    "    @property\n",
    "    def node_institute_num(self):\n",
    "        return self.node_institute.shape[0]"
   ]
  },
  {
   "cell_type": "code",
   "execution_count": null,
   "id": "f39b4ce0-dfd9-448b-b170-4405f74efc1b",
   "metadata": {},
   "outputs": [],
   "source": []
  }
 ],
 "metadata": {
  "kernelspec": {
   "display_name": "Python 3",
   "language": "python",
   "name": "python3"
  },
  "language_info": {
   "codemirror_mode": {
    "name": "ipython",
    "version": 3
   },
   "file_extension": ".py",
   "mimetype": "text/x-python",
   "name": "python",
   "nbconvert_exporter": "python",
   "pygments_lexer": "ipython3",
   "version": "3.8.10"
  }
 },
 "nbformat": 4,
 "nbformat_minor": 5
}
