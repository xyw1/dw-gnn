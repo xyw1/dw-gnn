{
 "cells": [
  {
   "cell_type": "markdown",
   "id": "7dbd2887-c58b-4edc-b00d-1adc38fd8a3d",
   "metadata": {},
   "source": [
    "# 作业\n",
    "1. 请总结`MessagePassing`基类的运行流程。\n",
    "MessagePassing的__init__()函数中会检查子类中message_and_aggregate方法是否被定义，检查的结果放在self.fuse中。\n",
    "\n",
    "\n",
    "在子类的forward函数中会调用`MessagePassing`的propogate函数，propogate的运行逻辑如下：\n",
    "\n",
    "- 如果edge_index是SparseTensor类型，且子类中message_and_aggregate方法被定义,且self.\\_\\_explain\\_\\_为False（？？）\n",
    "\n",
    "则调用message_and_aggregate和update函数，在调用这两个函数时会使用self.inspector.distribute函数调取参数\n",
    "\n",
    "- 如果edge_index为Tensor类型或者子类中message_and_aggregate方法未被定义\n",
    "\n",
    "则依次调用message, aggregate, update函数，调用时也会使用self.inspector.distribute函数调取参数\n",
    "\n",
    "2. 请复现一个一层的图神经网络的构造，总结通过继承`MessagePassing`基类来构造自己的图神经网络类的规范。\n",
    "\n",
    "定义的子类中：\n",
    " 1. forword方法中实现网络的计算逻辑\n",
    "\n",
    " 2. forward函数中需要调用父类`MessagePassing`的方法`propagate`\n",
    "\n",
    " 3. 需要根据需要重写`message` `arregate` `update`函数\n",
    "\n",
    " 4. 需要根据需要重写`message_and_aggregate`函数"
   ]
  },
  {
   "cell_type": "code",
   "execution_count": 11,
   "id": "acfb2753-4717-41c8-89eb-0bb0e898f05b",
   "metadata": {},
   "outputs": [
    {
     "ename": "ModuleNotFoundError",
     "evalue": "No module named 'torch_geometric'",
     "output_type": "error",
     "traceback": [
      "\u001b[0;31m---------------------------------------------------------------------------\u001b[0m",
      "\u001b[0;31mModuleNotFoundError\u001b[0m                       Traceback (most recent call last)",
      "\u001b[0;32m<ipython-input-11-12b145b0f118>\u001b[0m in \u001b[0;36m<module>\u001b[0;34m\u001b[0m\n\u001b[0;32m----> 1\u001b[0;31m \u001b[0;32mfrom\u001b[0m \u001b[0mtorch_geometric\u001b[0m\u001b[0;34m.\u001b[0m\u001b[0mdatasets\u001b[0m \u001b[0;32mimport\u001b[0m \u001b[0mPlanetoid\u001b[0m\u001b[0;34m\u001b[0m\u001b[0;34m\u001b[0m\u001b[0m\n\u001b[0m\u001b[1;32m      2\u001b[0m \u001b[0;32mimport\u001b[0m \u001b[0mtorch\u001b[0m\u001b[0;34m\u001b[0m\u001b[0;34m\u001b[0m\u001b[0m\n\u001b[1;32m      3\u001b[0m \u001b[0;32mfrom\u001b[0m \u001b[0mtorch_geometric\u001b[0m\u001b[0;34m.\u001b[0m\u001b[0mnn\u001b[0m \u001b[0;32mimport\u001b[0m \u001b[0mMessagePassing\u001b[0m\u001b[0;34m\u001b[0m\u001b[0;34m\u001b[0m\u001b[0m\n\u001b[1;32m      4\u001b[0m \u001b[0;32mfrom\u001b[0m \u001b[0mtorch_geometric\u001b[0m\u001b[0;34m.\u001b[0m\u001b[0mutils\u001b[0m \u001b[0;32mimport\u001b[0m \u001b[0madd_self_loops\u001b[0m\u001b[0;34m,\u001b[0m \u001b[0mdegree\u001b[0m\u001b[0;34m\u001b[0m\u001b[0;34m\u001b[0m\u001b[0m\n\u001b[1;32m      5\u001b[0m \u001b[0;32mfrom\u001b[0m \u001b[0mtorch_sparse\u001b[0m \u001b[0;32mimport\u001b[0m \u001b[0mSparseTensor\u001b[0m\u001b[0;34m\u001b[0m\u001b[0;34m\u001b[0m\u001b[0m\n",
      "\u001b[0;31mModuleNotFoundError\u001b[0m: No module named 'torch_geometric'"
     ]
    }
   ],
   "source": [
    "from torch_geometric.datasets import Planetoid\n",
    "import torch\n",
    "from torch_geometric.nn import MessagePassing\n",
    "from torch_geometric.utils import add_self_loops, degree\n",
    "from torch_sparse import SparseTensor\n",
    "\n",
    "\n",
    "class GCNConv(MessagePassing):\n",
    "    def __init__(self, in_channels, out_channels):\n",
    "        super(GCNConv, self).__init__(aggr='add', flow='source_to_target')\n",
    "        # \"Add\" aggregation (Step 5).\n",
    "        # flow='source_to_target' 表示消息从源节点传播到目标节点\n",
    "        self.lin = torch.nn.Linear(in_channels, out_channels)\n",
    "\n",
    "    def forward(self, x, edge_index):\n",
    "        # x has shape [N, in_channels]\n",
    "        # edge_index has shape [2, E]\n",
    "\n",
    "        # Step 1: Add self-loops to the adjacency matrix.\n",
    "        edge_index, _ = add_self_loops(edge_index, num_nodes=x.size(0))\n",
    "\n",
    "        # Step 2: Linearly transform node feature matrix.\n",
    "        x = self.lin(x)\n",
    "\n",
    "        # Step 3: Compute normalization.\n",
    "        row, col = edge_index\n",
    "        deg = degree(col, x.size(0), dtype=x.dtype)\n",
    "        deg_inv_sqrt = deg.pow(-0.5)\n",
    "        norm = deg_inv_sqrt[row] * deg_inv_sqrt[col]\n",
    "\n",
    "        # Step 4-5: Start propagating messages.\n",
    "        adjmat = SparseTensor(row=edge_index[0], col=edge_index[1], value=torch.ones(edge_index.shape[1]))\n",
    "        # 此处传的不再是edge_idex，而是SparseTensor类型的Adjancency Matrix\n",
    "        return self.propagate(adjmat, x=x, norm=norm, deg=deg.view((-1, 1)))\n",
    "\n",
    "    def message(self, x_j, norm, deg_i):\n",
    "        # x_j has shape [E, out_channels]\n",
    "        # deg_i has shape [E, 1]\n",
    "        # Step 4: Normalize node features.\n",
    "        return norm.view(-1, 1) * x_j * deg_i\n",
    "\n",
    "    def aggregate(self, inputs, index, ptr, dim_size):\n",
    "        return super().aggregate(inputs, index, ptr=ptr, dim_size=dim_size)\n",
    "\n",
    "    def message_and_aggregate(self, adj_t, x, norm):\n",
    "        coll_dict = self.__collect__(self.__user_args__, edge_index, size, kwargs)\n",
    "        msg_kwargs = self.inspector.distribute('message', coll_dict)\n",
    "        out = self.message(**msg_kwargs)\n",
    "        \n",
    "        aggr_kwargs = self.inspector.distribute('aggregate', coll_dict)\n",
    "        return self.aggregate(out, **aggr_kwargs)\n",
    "\n",
    "    def update(self, inputs, deg):\n",
    "        print(deg)\n",
    "        return inputs\n",
    "\n",
    "\n",
    "dataset = Planetoid(root='dataset', name='Cora')\n",
    "data = dataset[0]\n",
    "\n",
    "net = GCNConv(data.num_features, 64)\n",
    "h_nodes = net(data.x, data.edge_index)\n",
    "# print(h_nodes.shape)\n",
    "\n"
   ]
  },
  {
   "cell_type": "markdown",
   "id": "6664f1c0-7ba0-4b76-8418-76cf99d68960",
   "metadata": {},
   "source": [
    "# pytorch相关笔记\n",
    "\n",
    "- 什么是pytorch\n",
    "\n",
    "numpy的替代品，可以利用gpu进行计算\n",
    "- torch.n.Linear\n",
    "\n",
    "torch.n.Linear(in_channels,out_channels)返回一个函数lin\n",
    "\n",
    "该函数对输入数据的最后一维做线性变换 $y = xA^T+b$\n",
    "\n",
    "将输入数据x从in_channels维转换成out_channels维，A为（out_channels,in_channels）维的矩阵\n",
    "\n",
    "- torch.tensor\n",
    "\n",
    "Tensor是torch包的核心类\n",
    "类似于np.ndarrays\n",
    "\n",
    "- view\n",
    "\n",
    "Tensor类的方法，将原数据重塑成（n1,n2,n3...）维的数据，-1表示缺省\n",
    "\n"
   ]
  },
  {
   "cell_type": "code",
   "execution_count": 16,
   "id": "e0c1724c-8189-47b4-8452-9c78049bfa60",
   "metadata": {},
   "outputs": [
    {
     "data": {
      "text/plain": [
       "tensor([[1, 2, 3],\n",
       "        [4, 5, 6]])"
      ]
     },
     "execution_count": 16,
     "metadata": {},
     "output_type": "execute_result"
    }
   ],
   "source": [
    "a = torch.tensor([[1,2,3],[4,5,6]])\n",
    "a"
   ]
  },
  {
   "cell_type": "code",
   "execution_count": 18,
   "id": "a8895c79-25c5-4267-b5d3-3c5d6b49bf57",
   "metadata": {},
   "outputs": [
    {
     "data": {
      "text/plain": [
       "tensor([[1],\n",
       "        [2],\n",
       "        [3],\n",
       "        [4],\n",
       "        [5],\n",
       "        [6]])"
      ]
     },
     "execution_count": 18,
     "metadata": {},
     "output_type": "execute_result"
    }
   ],
   "source": [
    "a.view(-1,1)"
   ]
  },
  {
   "cell_type": "code",
   "execution_count": 19,
   "id": "f54536f1-365d-45d5-a416-e9510b6eac1c",
   "metadata": {},
   "outputs": [
    {
     "data": {
      "text/plain": [
       "tensor([[[1]],\n",
       "\n",
       "        [[2]],\n",
       "\n",
       "        [[3]],\n",
       "\n",
       "        [[4]],\n",
       "\n",
       "        [[5]],\n",
       "\n",
       "        [[6]]])"
      ]
     },
     "execution_count": 19,
     "metadata": {},
     "output_type": "execute_result"
    }
   ],
   "source": [
    "a.view(-1,1,1)"
   ]
  },
  {
   "cell_type": "code",
   "execution_count": 20,
   "id": "435ce4f9-27bf-4588-9fc4-00f16dd89402",
   "metadata": {},
   "outputs": [
    {
     "data": {
      "text/plain": [
       "tensor([[1, 2],\n",
       "        [3, 4],\n",
       "        [5, 6]])"
      ]
     },
     "execution_count": 20,
     "metadata": {},
     "output_type": "execute_result"
    }
   ],
   "source": [
    "a.view(3,2)"
   ]
  },
  {
   "cell_type": "markdown",
   "id": "87291c39-03fb-408c-b4fc-b6858aef6c94",
   "metadata": {},
   "source": [
    "# 消息传递图神经网络笔记\n",
    "## 消息传递范式介绍\n",
    "**节点信息**（是否是data.x?)经过变换得到**节点表征**\n",
    "## Pytorch Geometric中的`MessagePassing`基类\n",
    "\n",
    "\n",
    "\n",
    "\n",
    "\n"
   ]
  },
  {
   "cell_type": "code",
   "execution_count": 6,
   "id": "d64d2ee0-ea4b-404d-bba8-c33d3d115dd5",
   "metadata": {},
   "outputs": [],
   "source": [
    "import torch"
   ]
  },
  {
   "cell_type": "code",
   "execution_count": 10,
   "id": "5ac4e114-da47-4336-b0d3-21cd0f357f57",
   "metadata": {},
   "outputs": [
    {
     "data": {
      "text/plain": [
       "tensor([[1, 2, 3],\n",
       "        [4, 5, 6]])"
      ]
     },
     "execution_count": 10,
     "metadata": {},
     "output_type": "execute_result"
    }
   ],
   "source": [
    "torch.tensor([[1,2,3],[4,5,6]])"
   ]
  },
  {
   "cell_type": "code",
   "execution_count": 14,
   "id": "ce622f34-a7c4-4e41-b932-914739ede4d3",
   "metadata": {},
   "outputs": [
    {
     "data": {
      "text/plain": [
       "tensor([[ 0.6223],\n",
       "        [-1.3189],\n",
       "        [-1.1453],\n",
       "        [-0.6742],\n",
       "        [-0.4382],\n",
       "        [-0.0308],\n",
       "        [-0.0401],\n",
       "        [-0.5711],\n",
       "        [ 0.3701],\n",
       "        [-0.3502],\n",
       "        [-0.5611],\n",
       "        [ 0.1815],\n",
       "        [-0.1348],\n",
       "        [-1.0562],\n",
       "        [ 0.0093],\n",
       "        [ 0.3291],\n",
       "        [ 0.1273],\n",
       "        [ 0.8844],\n",
       "        [ 0.3752],\n",
       "        [ 0.4658],\n",
       "        [ 0.4962],\n",
       "        [ 1.1573],\n",
       "        [-0.1842],\n",
       "        [ 1.5147]])"
      ]
     },
     "execution_count": 14,
     "metadata": {},
     "output_type": "execute_result"
    }
   ],
   "source": [
    "torch.randn(2, 3,4).view(-1,1)"
   ]
  },
  {
   "cell_type": "code",
   "execution_count": null,
   "id": "c62e31dd-e8a2-44cf-90f3-1da8fc3e3ea0",
   "metadata": {},
   "outputs": [],
   "source": []
  }
 ],
 "metadata": {
  "kernelspec": {
   "display_name": "Python 3",
   "language": "python",
   "name": "python3"
  },
  "language_info": {
   "codemirror_mode": {
    "name": "ipython",
    "version": 3
   },
   "file_extension": ".py",
   "mimetype": "text/x-python",
   "name": "python",
   "nbconvert_exporter": "python",
   "pygments_lexer": "ipython3",
   "version": "3.8.5"
  }
 },
 "nbformat": 4,
 "nbformat_minor": 5
}
